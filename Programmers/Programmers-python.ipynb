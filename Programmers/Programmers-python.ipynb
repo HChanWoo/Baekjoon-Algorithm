{
 "cells": [
  {
   "cell_type": "markdown",
   "metadata": {},
   "source": [
    "# 프로그래머스 난이도별 가장 정답률 낮은 문제 풀이"
   ]
  },
  {
   "cell_type": "markdown",
   "metadata": {},
   "source": [
    "---------------------"
   ]
  },
  {
   "cell_type": "markdown",
   "metadata": {},
   "source": [
    "## Lv0. 옹알이(1)\n",
    "https://school.programmers.co.kr/learn/courses/30/lessons/120956?language=python3"
   ]
  },
  {
   "cell_type": "code",
   "execution_count": 12,
   "metadata": {},
   "outputs": [
    {
     "name": "stdout",
     "output_type": "stream",
     "text": [
      "aya\n"
     ]
    },
    {
     "data": {
      "text/plain": [
       "1"
      ]
     },
     "execution_count": 12,
     "metadata": {},
     "output_type": "execute_result"
    }
   ],
   "source": [
    "def solution(babbling):\n",
    "    answer = 0\n",
    "    for word in babbling :\n",
    "        tmp = word.replace('aya','[]').replace('ye','[]').replace('woo','[]').replace('ma','[]')\n",
    "        if tmp.replace('[]','') == '' :\n",
    "            print(word)\n",
    "            answer+=1\n",
    "    \n",
    "    return answer\n",
    "\n",
    "solution([\"aya\", \"yee\", \"u\", \"maa\", \"wyeoo\"])"
   ]
  },
  {
   "cell_type": "markdown",
   "metadata": {},
   "source": [
    "---------------------"
   ]
  },
  {
   "cell_type": "markdown",
   "metadata": {},
   "source": [
    "## Lv1. 신고결과 받기\n",
    "https://school.programmers.co.kr/learn/courses/30/lessons/92334"
   ]
  },
  {
   "cell_type": "code",
   "execution_count": 58,
   "metadata": {},
   "outputs": [
    {
     "name": "stdout",
     "output_type": "stream",
     "text": [
      "{'muzi': ['apeach'], 'frodo': ['muzi', 'apeach'], 'apeach': [], 'neo': ['muzi', 'frodo']}\n"
     ]
    },
    {
     "data": {
      "text/plain": [
       "[2, 1, 1, 0]"
      ]
     },
     "execution_count": 58,
     "metadata": {},
     "output_type": "execute_result"
    }
   ],
   "source": [
    "def solution(id_list, report, k):\n",
    "    answer = [0]*len(id_list)\n",
    "    report_set = list(set(report))\n",
    "    dic_report = {id: [] for id in id_list}\n",
    "    \n",
    "    for tmp in report_set :\n",
    "        user,target = tmp.split()\n",
    "        dic_report[target].append(user)\n",
    "\n",
    "    for key, value in dic_report.items():\n",
    "        if len(value) >= k :\n",
    "            for name in value :\n",
    "                answer[id_list.index(name)]+=1\n",
    "            \n",
    "    return answer\n",
    "solution([\"muzi\", \"frodo\", \"apeach\", \"neo\"],\n",
    "         [\"muzi frodo\",\"apeach frodo\",\"frodo neo\",\"muzi neo\",\"apeach muzi\"],2)"
   ]
  },
  {
   "cell_type": "markdown",
   "metadata": {},
   "source": [
    "---------------------"
   ]
  },
  {
   "cell_type": "markdown",
   "metadata": {},
   "source": [
    "## Lv2. 빛의 경로 사이클\n",
    "https://school.programmers.co.kr/learn/courses/30/lessons/86052"
   ]
  },
  {
   "cell_type": "code",
   "execution_count": 6,
   "metadata": {},
   "outputs": [],
   "source": [
    "def solution(grid):\n",
    "    answer = []\n",
    "    # 동남서북 이동시 좌표별 변화\n",
    "    # [row][col]\n",
    "    #     col\n",
    "    # row 0   0   0\n",
    "    #     0   1   0\n",
    "    #     0   0   0\n",
    "    mrow = [0,1,0,-1]\n",
    "    mcol = [1,0,-1,0]\n",
    "    \n",
    "    len_row,len_col = len(grid),len(grid[0])\n",
    "    # 각 좌표별 진행방향 방문 기록을 기록하는 리스트\n",
    "    visited = [[[False] * 4 for _ in range(len_col)] for _ in range(len_row)]\n",
    "    \n",
    "    # 모든 좌표에 대한 탐색\n",
    "    for row in range(len_row) :\n",
    "        for col in range(len_col) :\n",
    "            # 좌표의 모든 방향 탐색\n",
    "            for way in range(4) :\n",
    "                # 해당 좌표의 진행 방향이 이미 사용된 경우(이미 이전 cycle에 포함된 경우) continue\n",
    "                if visited[row][col][way] :\n",
    "                    continue\n",
    "                count=0\n",
    "                nrow,ncol = row,col\n",
    "                \n",
    "                while visited[nrow][ncol][way] == False :\n",
    "                    visited[nrow][ncol][way] = True\n",
    "                    count+=1\n",
    "                    # 도착하는 문자에 맞게 빛의 방향값을 바꾼다\n",
    "                    if grid[nrow][ncol] == 'S' :\n",
    "                        pass\n",
    "                    elif grid[nrow][ncol] == 'L' :\n",
    "                        way = (way-1)%4\n",
    "                    elif grid[nrow][ncol] == 'R' :\n",
    "                        way = (way+1)%4\n",
    "                        \n",
    "                    # 다음 좌표를 계산(% 을 통해 범위를 벗어나는 경우를 방지)\n",
    "                    nrow = (nrow+mrow[way]) % len_row\n",
    "                    ncol = (ncol+mcol[way]) % len_col\n",
    "                    \n",
    "                answer.append(count)\n",
    "    answer = sorted(answer)\n",
    "    return answer\n"
   ]
  },
  {
   "cell_type": "code",
   "execution_count": 7,
   "metadata": {},
   "outputs": [
    {
     "data": {
      "text/plain": [
       "[16]"
      ]
     },
     "execution_count": 7,
     "metadata": {},
     "output_type": "execute_result"
    }
   ],
   "source": [
    "solution([\"SL\",\"LR\"])"
   ]
  },
  {
   "attachments": {},
   "cell_type": "markdown",
   "metadata": {},
   "source": [
    "## Lv2. 유사 칸토어 비트열(미해결...)\n",
    "https://school.programmers.co.kr/learn/courses/30/lessons/148652"
   ]
  },
  {
   "cell_type": "code",
   "execution_count": 33,
   "metadata": {},
   "outputs": [],
   "source": [
    "def solution(n, l, r):\n",
    "    answer = 0\n",
    "    num = '1'\n",
    "    for i in range(n) :\n",
    "        tmp = ''\n",
    "        for ele in num[:r//5+1] :\n",
    "            if ele == '1' :\n",
    "                tmp+='11011'\n",
    "            else :\n",
    "                tmp+='00000'\n",
    "        num=tmp\n",
    "    answer = num[l-1:r].count('1')\n",
    "    return answer"
   ]
  },
  {
   "cell_type": "code",
   "execution_count": 34,
   "metadata": {},
   "outputs": [
    {
     "name": "stdout",
     "output_type": "stream",
     "text": [
      "8\n"
     ]
    }
   ],
   "source": [
    "print(solution(2,4,17))"
   ]
  },
  {
   "attachments": {},
   "cell_type": "markdown",
   "metadata": {},
   "source": [
    "## LV2.피로도\n",
    "https://school.programmers.co.kr/learn/courses/30/lessons/87946"
   ]
  },
  {
   "cell_type": "code",
   "execution_count": 9,
   "metadata": {},
   "outputs": [],
   "source": [
    "def solution(k, dungeons): \n",
    "    global answer\n",
    "    answer = -1\n",
    "    visited = [0]*len(dungeons)\n",
    "    dfs(k,dungeons,visited,0)\n",
    "    return answer\n",
    "\n",
    "def dfs(k,dungeons,visited,cnt) :\n",
    "    global answer\n",
    "    if answer < cnt :\n",
    "        answer = cnt\n",
    "    \n",
    "    for idx in range(len(dungeons)) :\n",
    "        if k >= dungeons[idx][0] and not visited[idx] :\n",
    "            visited[idx]=1\n",
    "            dfs(k-dungeons[idx][1],dungeons,visited,cnt+1)\n",
    "            visited[idx]=0"
   ]
  },
  {
   "cell_type": "code",
   "execution_count": 10,
   "metadata": {},
   "outputs": [
    {
     "data": {
      "text/plain": [
       "3"
      ]
     },
     "execution_count": 10,
     "metadata": {},
     "output_type": "execute_result"
    }
   ],
   "source": [
    "solution(80, [[80,20],[50,40],[30,10]])"
   ]
  },
  {
   "cell_type": "code",
   "execution_count": 2,
   "metadata": {},
   "outputs": [
    {
     "data": {
      "text/plain": [
       "[2, 3]"
      ]
     },
     "execution_count": 2,
     "metadata": {},
     "output_type": "execute_result"
    }
   ],
   "source": [
    "max([[1,2],[2,3]], key = lambda x:x[0])"
   ]
  },
  {
   "attachments": {},
   "cell_type": "markdown",
   "metadata": {},
   "source": [
    "## LV2.택배 배달과 수거하기(미해결...)\n",
    "https://school.programmers.co.kr/learn/courses/30/lessons/150369"
   ]
  },
  {
   "cell_type": "code",
   "execution_count": 7,
   "metadata": {},
   "outputs": [],
   "source": [
    "# cap : 실을 수 있는 택배의 수 / n : 집의 수\n",
    "def solution(cap, n, deliveries, pickups):\n",
    "    answer = 0\n",
    "    for tmp in range(1000) :\n",
    "        if sum(deliveries) == 0 and sum(pickups) == 0 :\n",
    "            break\n",
    "        sum_deliveries = sum(deliveries)\n",
    "        # 출발할 때 실을 택배 양\n",
    "        tmp_cap = sum_deliveries if cap > sum_deliveries else cap\n",
    "        # 픽업한 택배 양\n",
    "        tmp_pickup = 0\n",
    "        # 택배나 수거할 최대 거리\n",
    "        tmp_max = 0\n",
    "        # 택배가 한번 출발해서 회수하기까지\n",
    "        for a in range(n) :\n",
    "            # 택배 배송\n",
    "            if tmp_cap > 0 :\n",
    "                if deliveries[n-a-1] != 0 :\n",
    "                    tmp_trade = deliveries[n-a-1]\n",
    "                    deliveries[n-a-1] = deliveries[n-a-1]-tmp_cap if deliveries[n-a-1] > tmp_cap else 0\n",
    "                    tmp_cap-=tmp_trade\n",
    "\n",
    "                    if tmp_max < n-a :\n",
    "                        tmp_max = n-a\n",
    "            # 빈 상자 수거\n",
    "            if tmp_pickup < cap :\n",
    "                if pickups[n-a-1] != 0 :\n",
    "                    tmp_trade = pickups[n-a-1]\n",
    "                    pickups[n-a-1] = (pickups[n-a-1]-(cap-tmp_pickup) if pickups[n-a-1] > cap-tmp_pickup else 0)\n",
    "                    tmp_pickup += (tmp_trade-tmp_pickup) if (cap-tmp_pickup) > (tmp_trade-tmp_pickup) else (cap-tmp_pickup)\n",
    "\n",
    "                    if tmp_max < n-a :\n",
    "                        tmp_max = n-a\n",
    "        answer += tmp_max*2\n",
    "        \n",
    "    return answer"
   ]
  },
  {
   "cell_type": "code",
   "execution_count": 8,
   "metadata": {},
   "outputs": [
    {
     "name": "stdout",
     "output_type": "stream",
     "text": [
      "0 [1, 0, 3, 1, 0] [0, 3, 0, 4, 0]\n",
      "0 [1, 0, 3, 0, 0] [0, 3, 0, 0, 0]\n",
      "0 [1, 0, 2, 0, 0] [0, 3, 0, 0, 0]\n",
      "0 [1, 0, 2, 0, 0] [0, 3, 0, 0, 0]\n",
      "0 [1, 0, 2, 0, 0] [0, 3, 0, 0, 0]\n",
      "5\n",
      "1 [1, 0, 2, 0, 0] [0, 3, 0, 0, 0]\n",
      "1 [1, 0, 2, 0, 0] [0, 3, 0, 0, 0]\n",
      "1 [1, 0, 0, 0, 0] [0, 3, 0, 0, 0]\n",
      "1 [1, 0, 0, 0, 0] [0, 0, 0, 0, 0]\n",
      "1 [0, 0, 0, 0, 0] [0, 0, 0, 0, 0]\n",
      "3\n"
     ]
    },
    {
     "data": {
      "text/plain": [
       "16"
      ]
     },
     "execution_count": 8,
     "metadata": {},
     "output_type": "execute_result"
    }
   ],
   "source": [
    "solution(4,5,[1, 0, 3, 1, 2],[0, 3, 0, 4, 0])"
   ]
  },
  {
   "attachments": {},
   "cell_type": "markdown",
   "metadata": {},
   "source": [
    "## LV1. 부족한 금액 계산하기(데일리 챌린지)\n",
    "https://school.programmers.co.kr/learn/courses/30/lessons/82612"
   ]
  },
  {
   "cell_type": "code",
   "execution_count": 13,
   "metadata": {},
   "outputs": [],
   "source": [
    "def solution(price, money, count):\n",
    "    answer = 0\n",
    "\n",
    "    for a in [price*(i+1) for i in range(count)] :\n",
    "        answer+=a\n",
    "    \n",
    "    answer -= money\n",
    "    if answer <= 0 :\n",
    "        return 0\n",
    "    return answer"
   ]
  },
  {
   "cell_type": "code",
   "execution_count": 14,
   "metadata": {},
   "outputs": [
    {
     "data": {
      "text/plain": [
       "10"
      ]
     },
     "execution_count": 14,
     "metadata": {},
     "output_type": "execute_result"
    }
   ],
   "source": [
    "solution(3,20,4)"
   ]
  },
  {
   "attachments": {},
   "cell_type": "markdown",
   "metadata": {},
   "source": []
  },
  {
   "cell_type": "code",
   "execution_count": 24,
   "metadata": {},
   "outputs": [],
   "source": []
  },
  {
   "attachments": {},
   "cell_type": "markdown",
   "metadata": {},
   "source": [
    "## LV1. 공원산책(미해결)\n",
    "https://school.programmers.co.kr/learn/courses/30/lessons/172928"
   ]
  },
  {
   "cell_type": "code",
   "execution_count": 63,
   "metadata": {},
   "outputs": [],
   "source": [
    "def solution(park, routes):\n",
    "    answer = []\n",
    "    start = []\n",
    "    H = len(park)\n",
    "    W = len(park[0])\n",
    "\n",
    "    for idx in range(H) :\n",
    "        if 'S' in park[idx] :\n",
    "            start = [idx, park[idx].find('S')]\n",
    "\n",
    "    for ele in routes :\n",
    "        direct,dist = ele.split(' ')\n",
    "        dist = int(dist)\n",
    "\n",
    "        if direct == 'E' :\n",
    "            if start[1]+dist >= W or 'X' in park[start[1]:]:\n",
    "                continue\n",
    "            start[1]+=dist\n",
    "\n",
    "        elif direct == 'W' :\n",
    "            if start[1]-dist < 0 or 'X' in park[:start[1]]:\n",
    "                continue\n",
    "            start[1]-=dist\n",
    "\n",
    "        elif direct == 'S' :\n",
    "            if start[0]+dist >= H or 'X' in [i[start[1]] for i in park][start[0]:]:\n",
    "                continue\n",
    "            start[0]+=dist\n",
    "\n",
    "        else :\n",
    "            if start[0]+dist < 0 or 'X' in [i[start[1]] for i in park][:start[0]]:\n",
    "                continue\n",
    "            start[0]-=dist\n",
    "    answer = start\n",
    "\n",
    "    return answer"
   ]
  },
  {
   "cell_type": "code",
   "execution_count": 69,
   "metadata": {},
   "outputs": [],
   "source": [
    "def solution(park, routes):\n",
    "    answer = []\n",
    "    start_x = 0\n",
    "    start_y = 0\n",
    "    H = len(park)\n",
    "    W = len(park[0])\n",
    "\n",
    "    for idx in range(H) :\n",
    "        if 'S' in park[idx] :\n",
    "            start_x = idx\n",
    "            start_y = park[idx].find('S')\n",
    "            break\n",
    "\n",
    "    for ele in routes :\n",
    "        direct,dist = ele.split(' ')\n",
    "        dist = int(dist)\n",
    "        first,second = start[0],start[1]\n",
    "\n",
    "        state = True\n",
    "        for i in range(dist) :\n",
    "            if direct == 'E' :\n",
    "                print('E',[first,second])\n",
    "                if second+1 >= W or park[second+1] == 'X' :\n",
    "                    state = False\n",
    "                    break\n",
    "                second+=1\n",
    "                print('E',[first,second])\n",
    "            elif direct == 'W' :\n",
    "                print('W',[first,second])\n",
    "                if second-1 < 0 or park[second-1] == 'X' :\n",
    "                    state = False\n",
    "                    break\n",
    "                second-=1\n",
    "                print('W',[first,second])\n",
    "            elif direct == 'S' :\n",
    "                print('S',[first,second])\n",
    "                if first+1 >= W or park[first+1] == 'X' :\n",
    "                    state = False\n",
    "                    break\n",
    "                first+=1\n",
    "                print('S',[first,second])\n",
    "            else :\n",
    "                print('N',[first,second])\n",
    "                if first-1 >= W or park[first+1] == 'X' :\n",
    "                    state = False\n",
    "                    break\n",
    "                first-=1\n",
    "                print('N',[first,second])\n",
    "        if state :\n",
    "            start = [first,second]\n",
    "    answer = start\n",
    "    return answer"
   ]
  },
  {
   "cell_type": "code",
   "execution_count": 70,
   "metadata": {},
   "outputs": [
    {
     "name": "stdout",
     "output_type": "stream",
     "text": [
      "E [0, 1]\n",
      "E [0, 2]\n",
      "E [0, 2]\n",
      "S [0, 1]\n",
      "S [1, 1]\n",
      "S [1, 1]\n",
      "S [2, 1]\n",
      "W [2, 1]\n",
      "W [2, 0]\n"
     ]
    },
    {
     "data": {
      "text/plain": [
       "[2, 0]"
      ]
     },
     "execution_count": 70,
     "metadata": {},
     "output_type": "execute_result"
    }
   ],
   "source": [
    "solution([\"OSO\",\"OOO\",\"OXO\",\"OOO\"],[\"E 2\",\"S 2\",\"W 1\"])"
   ]
  },
  {
   "cell_type": "code",
   "execution_count": null,
   "metadata": {},
   "outputs": [],
   "source": []
  },
  {
   "cell_type": "code",
   "execution_count": null,
   "metadata": {},
   "outputs": [],
   "source": []
  },
  {
   "cell_type": "code",
   "execution_count": null,
   "metadata": {},
   "outputs": [],
   "source": []
  },
  {
   "cell_type": "code",
   "execution_count": null,
   "metadata": {},
   "outputs": [],
   "source": []
  },
  {
   "cell_type": "code",
   "execution_count": null,
   "metadata": {},
   "outputs": [],
   "source": []
  },
  {
   "cell_type": "code",
   "execution_count": null,
   "metadata": {},
   "outputs": [],
   "source": []
  },
  {
   "cell_type": "code",
   "execution_count": null,
   "metadata": {},
   "outputs": [],
   "source": []
  },
  {
   "cell_type": "code",
   "execution_count": null,
   "metadata": {},
   "outputs": [],
   "source": []
  },
  {
   "cell_type": "code",
   "execution_count": null,
   "metadata": {},
   "outputs": [],
   "source": []
  },
  {
   "cell_type": "code",
   "execution_count": null,
   "metadata": {},
   "outputs": [],
   "source": []
  },
  {
   "cell_type": "code",
   "execution_count": null,
   "metadata": {},
   "outputs": [],
   "source": []
  },
  {
   "cell_type": "code",
   "execution_count": null,
   "metadata": {},
   "outputs": [],
   "source": []
  },
  {
   "cell_type": "code",
   "execution_count": null,
   "metadata": {},
   "outputs": [],
   "source": []
  },
  {
   "cell_type": "code",
   "execution_count": null,
   "metadata": {},
   "outputs": [],
   "source": []
  },
  {
   "cell_type": "code",
   "execution_count": null,
   "metadata": {},
   "outputs": [],
   "source": []
  }
 ],
 "metadata": {
  "kernelspec": {
   "display_name": "Python 3",
   "language": "python",
   "name": "python3"
  },
  "language_info": {
   "codemirror_mode": {
    "name": "ipython",
    "version": 3
   },
   "file_extension": ".py",
   "mimetype": "text/x-python",
   "name": "python",
   "nbconvert_exporter": "python",
   "pygments_lexer": "ipython3",
   "version": "3.7.6"
  }
 },
 "nbformat": 4,
 "nbformat_minor": 4
}
