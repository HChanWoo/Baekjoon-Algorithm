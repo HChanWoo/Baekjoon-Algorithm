{
 "cells": [
  {
   "cell_type": "markdown",
   "metadata": {},
   "source": [
    "# 프로그래머스 난이도별 가장 정답률 낮은 문제 풀이"
   ]
  },
  {
   "cell_type": "markdown",
   "metadata": {},
   "source": [
    "---------------------"
   ]
  },
  {
   "cell_type": "markdown",
   "metadata": {},
   "source": [
    "## Lv0. 옹알이(1)\n",
    "https://school.programmers.co.kr/learn/courses/30/lessons/120956?language=python3"
   ]
  },
  {
   "cell_type": "code",
   "execution_count": 12,
   "metadata": {},
   "outputs": [
    {
     "name": "stdout",
     "output_type": "stream",
     "text": [
      "aya\n"
     ]
    },
    {
     "data": {
      "text/plain": [
       "1"
      ]
     },
     "execution_count": 12,
     "metadata": {},
     "output_type": "execute_result"
    }
   ],
   "source": [
    "def solution(babbling):\n",
    "    answer = 0\n",
    "    for word in babbling :\n",
    "        tmp = word.replace('aya','[]').replace('ye','[]').replace('woo','[]').replace('ma','[]')\n",
    "        if tmp.replace('[]','') == '' :\n",
    "            print(word)\n",
    "            answer+=1\n",
    "    \n",
    "    return answer\n",
    "\n",
    "solution([\"aya\", \"yee\", \"u\", \"maa\", \"wyeoo\"])"
   ]
  },
  {
   "cell_type": "markdown",
   "metadata": {},
   "source": [
    "---------------------"
   ]
  },
  {
   "cell_type": "markdown",
   "metadata": {},
   "source": [
    "## Lv1. 신고결과 받기\n",
    "https://school.programmers.co.kr/learn/courses/30/lessons/92334"
   ]
  },
  {
   "cell_type": "code",
   "execution_count": 58,
   "metadata": {},
   "outputs": [
    {
     "name": "stdout",
     "output_type": "stream",
     "text": [
      "{'muzi': ['apeach'], 'frodo': ['muzi', 'apeach'], 'apeach': [], 'neo': ['muzi', 'frodo']}\n"
     ]
    },
    {
     "data": {
      "text/plain": [
       "[2, 1, 1, 0]"
      ]
     },
     "execution_count": 58,
     "metadata": {},
     "output_type": "execute_result"
    }
   ],
   "source": [
    "def solution(id_list, report, k):\n",
    "    answer = [0]*len(id_list)\n",
    "    report_set = list(set(report))\n",
    "    dic_report = {id: [] for id in id_list}\n",
    "    \n",
    "    for tmp in report_set :\n",
    "        user,target = tmp.split()\n",
    "        dic_report[target].append(user)\n",
    "\n",
    "    for key, value in dic_report.items():\n",
    "        if len(value) >= k :\n",
    "            for name in value :\n",
    "                answer[id_list.index(name)]+=1\n",
    "            \n",
    "    return answer\n",
    "solution([\"muzi\", \"frodo\", \"apeach\", \"neo\"],\n",
    "         [\"muzi frodo\",\"apeach frodo\",\"frodo neo\",\"muzi neo\",\"apeach muzi\"],2)"
   ]
  },
  {
   "cell_type": "markdown",
   "metadata": {},
   "source": [
    "---------------------"
   ]
  },
  {
   "cell_type": "markdown",
   "metadata": {},
   "source": [
    "## Lv2. 빛의 경로 사이클\n",
    "https://school.programmers.co.kr/learn/courses/30/lessons/86052"
   ]
  },
  {
   "cell_type": "code",
   "execution_count": 6,
   "metadata": {},
   "outputs": [],
   "source": [
    "def solution(grid):\n",
    "    answer = []\n",
    "    # 동남서북 이동시 좌표별 변화\n",
    "    # [row][col]\n",
    "    #     col\n",
    "    # row 0   0   0\n",
    "    #     0   1   0\n",
    "    #     0   0   0\n",
    "    mrow = [0,1,0,-1]\n",
    "    mcol = [1,0,-1,0]\n",
    "    \n",
    "    len_row,len_col = len(grid),len(grid[0])\n",
    "    # 각 좌표별 진행방향 방문 기록을 기록하는 리스트\n",
    "    visited = [[[False] * 4 for _ in range(len_col)] for _ in range(len_row)]\n",
    "    \n",
    "    # 모든 좌표에 대한 탐색\n",
    "    for row in range(len_row) :\n",
    "        for col in range(len_col) :\n",
    "            # 좌표의 모든 방향 탐색\n",
    "            for way in range(4) :\n",
    "                # 해당 좌표의 진행 방향이 이미 사용된 경우(이미 이전 cycle에 포함된 경우) continue\n",
    "                if visited[row][col][way] :\n",
    "                    continue\n",
    "                count=0\n",
    "                nrow,ncol = row,col\n",
    "                \n",
    "                while visited[nrow][ncol][way] == False :\n",
    "                    visited[nrow][ncol][way] = True\n",
    "                    count+=1\n",
    "                    # 도착하는 문자에 맞게 빛의 방향값을 바꾼다\n",
    "                    if grid[nrow][ncol] == 'S' :\n",
    "                        pass\n",
    "                    elif grid[nrow][ncol] == 'L' :\n",
    "                        way = (way-1)%4\n",
    "                    elif grid[nrow][ncol] == 'R' :\n",
    "                        way = (way+1)%4\n",
    "                        \n",
    "                    # 다음 좌표를 계산(% 을 통해 범위를 벗어나는 경우를 방지)\n",
    "                    nrow = (nrow+mrow[way]) % len_row\n",
    "                    ncol = (ncol+mcol[way]) % len_col\n",
    "                    \n",
    "                answer.append(count)\n",
    "    answer = sorted(answer)\n",
    "    return answer\n"
   ]
  },
  {
   "cell_type": "code",
   "execution_count": 7,
   "metadata": {},
   "outputs": [
    {
     "data": {
      "text/plain": [
       "[16]"
      ]
     },
     "execution_count": 7,
     "metadata": {},
     "output_type": "execute_result"
    }
   ],
   "source": [
    "solution([\"SL\",\"LR\"])"
   ]
  },
  {
   "attachments": {},
   "cell_type": "markdown",
   "metadata": {},
   "source": [
    "## Lv2. 유사 칸토어 비트열(미해결...)\n",
    "https://school.programmers.co.kr/learn/courses/30/lessons/148652"
   ]
  },
  {
   "cell_type": "code",
   "execution_count": 33,
   "metadata": {},
   "outputs": [],
   "source": [
    "def solution(n, l, r):\n",
    "    answer = 0\n",
    "    num = '1'\n",
    "    for i in range(n) :\n",
    "        tmp = ''\n",
    "        for ele in num[:r//5+1] :\n",
    "            if ele == '1' :\n",
    "                tmp+='11011'\n",
    "            else :\n",
    "                tmp+='00000'\n",
    "        num=tmp\n",
    "    answer = num[l-1:r].count('1')\n",
    "    return answer"
   ]
  },
  {
   "cell_type": "code",
   "execution_count": 34,
   "metadata": {},
   "outputs": [
    {
     "name": "stdout",
     "output_type": "stream",
     "text": [
      "8\n"
     ]
    }
   ],
   "source": [
    "print(solution(2,4,17))"
   ]
  },
  {
   "attachments": {},
   "cell_type": "markdown",
   "metadata": {},
   "source": [
    "## 단체사진 찍기\n",
    "https://school.programmers.co.kr/learn/courses/30/lessons/1835"
   ]
  },
  {
   "cell_type": "code",
   "execution_count": null,
   "metadata": {},
   "outputs": [],
   "source": [
    "#include <string>\n",
    "#include <vector>\n",
    "\n",
    "using namespace std;\n",
    "\n",
    "# 전역 변수를 정의할 경우 함수 내에 초기화 코드를 꼭 작성해주세요.\n",
    "int solution(int n, vector<string> data) {\n",
    "    int answer = 0;\n",
    "    return answer;\n",
    "}"
   ]
  },
  {
   "cell_type": "code",
   "execution_count": null,
   "metadata": {},
   "outputs": [],
   "source": []
  },
  {
   "cell_type": "code",
   "execution_count": null,
   "metadata": {},
   "outputs": [],
   "source": []
  },
  {
   "cell_type": "code",
   "execution_count": null,
   "metadata": {},
   "outputs": [],
   "source": []
  }
 ],
 "metadata": {
  "kernelspec": {
   "display_name": "Python 3",
   "language": "python",
   "name": "python3"
  },
  "language_info": {
   "codemirror_mode": {
    "name": "ipython",
    "version": 3
   },
   "file_extension": ".py",
   "mimetype": "text/x-python",
   "name": "python",
   "nbconvert_exporter": "python",
   "pygments_lexer": "ipython3",
   "version": "3.7.6"
  }
 },
 "nbformat": 4,
 "nbformat_minor": 4
}
