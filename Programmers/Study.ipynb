{
 "cells": [
  {
   "attachments": {},
   "cell_type": "markdown",
   "metadata": {},
   "source": [
    "# 그리디 알고리즘"
   ]
  },
  {
   "attachments": {},
   "cell_type": "markdown",
   "metadata": {},
   "source": [
    "## LV1. 체육복\n",
    "https://school.programmers.co.kr/learn/courses/30/lessons/42862"
   ]
  },
  {
   "attachments": {},
   "cell_type": "markdown",
   "metadata": {},
   "source": []
  },
  {
   "cell_type": "code",
   "execution_count": 21,
   "metadata": {},
   "outputs": [],
   "source": [
    "def solution(n, lost, reserve):\n",
    "\n",
    "    # 체육복이 있는 학생의 수 = 전체 학생수(n) - 도난당한 학생수(lost의 수)\n",
    "    answer = n-len(lost)\n",
    "\n",
    "    # 여벌의 체육복이 있지만 도난당한 학생의 경우\n",
    "    for i in range(1,n+1) :\n",
    "        if i in lost and i in reserve :\n",
    "            reserve.remove(i)\n",
    "            lost.remove(i)\n",
    "            answer+=1\n",
    "\n",
    "    # 도난당해 체육복이 없는 학생의 경우 앞 뒤 학생에게 체육복을 빌린다.\n",
    "    for i in range(1,n+1) :\n",
    "        if i in lost :\n",
    "            if i-1 in reserve :\n",
    "                answer+=1\n",
    "                reserve.remove(i-1)\n",
    "            elif i+1 in reserve :\n",
    "                answer+=1\n",
    "                reserve.remove(i+1)\n",
    "\n",
    "    return answer"
   ]
  },
  {
   "attachments": {},
   "cell_type": "markdown",
   "metadata": {},
   "source": [
    "## Easy. DI String Match\n",
    "https://leetcode.com/problems/di-string-match/"
   ]
  },
  {
   "cell_type": "code",
   "execution_count": 35,
   "metadata": {},
   "outputs": [],
   "source": [
    "# push pop\n",
    "def diStringMatch( s: str) :\n",
    "    \n",
    "    list_result = []\n",
    "    max_val = len(s)\n",
    "    min_val = 0\n",
    "\n",
    "    for i in range(len(s)):\n",
    "        if s[i] == 'I' :\n",
    "            list_result.append(min_val)\n",
    "            min_val+=1\n",
    "        elif s[i] == 'D' :\n",
    "            list_result.append(max_val)\n",
    "            max_val-=1\n",
    "    list_result.append(max_val)\n",
    "\n",
    "    return  list_result"
   ]
  },
  {
   "attachments": {},
   "cell_type": "markdown",
   "metadata": {},
   "source": []
  },
  {
   "cell_type": "code",
   "execution_count": 36,
   "metadata": {},
   "outputs": [
    {
     "data": {
      "text/plain": [
       "[0, 4, 1, 3, 2]"
      ]
     },
     "execution_count": 36,
     "metadata": {},
     "output_type": "execute_result"
    }
   ],
   "source": [
    "diStringMatch(\"IDID\")"
   ]
  },
  {
   "cell_type": "code",
   "execution_count": null,
   "metadata": {},
   "outputs": [],
   "source": []
  },
  {
   "attachments": {},
   "cell_type": "markdown",
   "metadata": {},
   "source": [
    "## LV2. 큰수 만들기\n",
    "https://school.programmers.co.kr/learn/courses/30/lessons/42883"
   ]
  },
  {
   "cell_type": "code",
   "execution_count": 33,
   "metadata": {},
   "outputs": [],
   "source": [
    "def solution(number, k):\n",
    "    answer = [] # stack(Last in First  out)\n",
    "\n",
    "    for num in number :\n",
    "        # 스택이 비였거나 k(빼야하는 숫자)가 0인 경우 append 작업만 가능\n",
    "        if not answer or k==0 :\n",
    "            answer.append(num)\n",
    "            continue\n",
    "\n",
    "        # 새로운 수가 스택의 마지막 요소보다 크면 스택의 마지막 요소를 pop하고,\n",
    "        # 마지막에 요소를 넣는 과정을 스택이 비거나 k가 0일 때까지 반복한다.\n",
    "        while answer[-1] < num :\n",
    "            answer.pop()\n",
    "            k-=1\n",
    "            if not answer or k<=0:\n",
    "                break\n",
    "\n",
    "        answer.append(num)\n",
    "\n",
    "    # 배열을 문자열로 변환\n",
    "    answer = ''.join(answer)\n",
    "    # 민액 내림차순으로 잘 정리됐는데, 빼야할 수가 남은 경우를 처리\n",
    "    answer = answer[:-k] if k > 0 else answer\n",
    "    \n",
    "    return answer"
   ]
  },
  {
   "cell_type": "code",
   "execution_count": 34,
   "metadata": {},
   "outputs": [
    {
     "data": {
      "text/plain": [
       "'775841'"
      ]
     },
     "execution_count": 34,
     "metadata": {},
     "output_type": "execute_result"
    }
   ],
   "source": [
    "solution(\"4177252841\",4)"
   ]
  },
  {
   "attachments": {},
   "cell_type": "markdown",
   "metadata": {},
   "source": [
    "## Easy. Can Place Flowers\n",
    "https://leetcode.com/problems/can-place-flowers/"
   ]
  },
  {
   "cell_type": "code",
   "execution_count": 46,
   "metadata": {},
   "outputs": [],
   "source": [
    "def canPlaceFlowers(flowerbed, n) :\n",
    "\n",
    "    # 배열의 길이가 1일 경우 예외 처리\n",
    "    if(len(flowerbed) == 1) :\n",
    "        if flowerbed[0] == 1 and n == 0 :\n",
    "            return True\n",
    "        elif flowerbed[0] == 0 and n <= 1:\n",
    "            return True\n",
    "        else :\n",
    "            return False\n",
    "\n",
    "    for i in range(len(flowerbed)) :\n",
    "        # 첫번째 요소일 경우 바로 뒤 인덱스만 고려하면 된다.\n",
    "        if i==0 :\n",
    "            if flowerbed[i]==0 and flowerbed[i+1]==0 :\n",
    "                flowerbed[i]=1\n",
    "                n-=1\n",
    "            continue\n",
    "        # 마지막 요소일 경우 바로 앞 인덱스만 고려하면 된다.\n",
    "        if i==len(flowerbed)-1 :\n",
    "            if flowerbed[i]==0 and flowerbed[i-1]==0 :\n",
    "                flowerbed[i]=1\n",
    "                n-=1\n",
    "            continue\n",
    "        # 앞 뒤 요소 모두 고려해야 한다\n",
    "        if flowerbed[i]==0:\n",
    "            if flowerbed[i-1] == 0 and flowerbed[i+1] == 0:\n",
    "                flowerbed[i]=1\n",
    "                n-=1\n",
    "    # n을 모두 소진하지 못한다면 False\n",
    "    return True if n<=0 else False\n"
   ]
  },
  {
   "cell_type": "code",
   "execution_count": 47,
   "metadata": {},
   "outputs": [
    {
     "name": "stdout",
     "output_type": "stream",
     "text": [
      "[1, 0, 1, 0, 1]\n"
     ]
    },
    {
     "data": {
      "text/plain": [
       "False"
      ]
     },
     "execution_count": 47,
     "metadata": {},
     "output_type": "execute_result"
    }
   ],
   "source": [
    "canPlaceFlowers([1,0,0,0,1],2)"
   ]
  },
  {
   "cell_type": "code",
   "execution_count": null,
   "metadata": {},
   "outputs": [],
   "source": []
  },
  {
   "attachments": {},
   "cell_type": "markdown",
   "metadata": {},
   "source": [
    "## Easy. lemonade change\n",
    "https://leetcode.com/problems/lemonade-change/"
   ]
  },
  {
   "cell_type": "code",
   "execution_count": 31,
   "metadata": {},
   "outputs": [],
   "source": [
    "def lemonadeChange(bills) :\n",
    "\n",
    "    changeFive,changeTen = 0,0\n",
    "\n",
    "    for money in bills :\n",
    "        if money == 5 :\n",
    "            changeFive+=5\n",
    "        elif money == 10 :\n",
    "            if changeFive == 0 :\n",
    "                return False\n",
    "            changeTen+=10\n",
    "            changeFive-=5\n",
    "        else:\n",
    "            if changeTen>0 and changeFive>0:\n",
    "                changeTen-=10\n",
    "                changeFive-=5\n",
    "            elif changeFive >= 15 :\n",
    "                changeFive-=15\n",
    "            else :\n",
    "                return False\n",
    "\n",
    "    return True"
   ]
  },
  {
   "cell_type": "code",
   "execution_count": 32,
   "metadata": {},
   "outputs": [
    {
     "data": {
      "text/plain": [
       "False"
      ]
     },
     "execution_count": 32,
     "metadata": {},
     "output_type": "execute_result"
    }
   ],
   "source": [
    "lemonadeChange([5,5,10,10,20])"
   ]
  },
  {
   "attachments": {},
   "cell_type": "markdown",
   "metadata": {},
   "source": [
    "## Medium. Valid Triangle Number \n",
    "https://leetcode.com/problems/valid-triangle-number/"
   ]
  },
  {
   "cell_type": "code",
   "execution_count": 59,
   "metadata": {},
   "outputs": [],
   "source": [
    "# 시간 초과\n",
    "def triangleNumber(nums) :\n",
    "    num=0\n",
    "    len_nums = len(nums)\n",
    "\n",
    "    for a in range(len_nums) :\n",
    "        for b in range(a+1,len_nums) :\n",
    "            for c in range(b+1,len_nums) :\n",
    "                if max([nums[a],nums[b],nums[c]])*2 < nums[a]+nums[b]+nums[c]:\n",
    "                    num+=1\n",
    "\n",
    "    return num"
   ]
  },
  {
   "cell_type": "code",
   "execution_count": 14,
   "metadata": {},
   "outputs": [],
   "source": [
    "# 투 포인터 사용\n",
    "def triangleNumber(nums) :\n",
    "    num=0\n",
    "    nums.sort()\n",
    "    \n",
    "    for idx in range(len(nums)) :\n",
    "        left,right=0,idx-1\n",
    "        while left < right :\n",
    "            if nums[left]+nums[right] > nums[idx] :\n",
    "                num+=right-left\n",
    "                right-=1\n",
    "            else :\n",
    "                left+=1\n",
    "            \n",
    "    return num"
   ]
  },
  {
   "cell_type": "code",
   "execution_count": 15,
   "metadata": {},
   "outputs": [
    {
     "data": {
      "text/plain": [
       "3"
      ]
     },
     "execution_count": 15,
     "metadata": {},
     "output_type": "execute_result"
    }
   ],
   "source": [
    "triangleNumber([2,3,4,5])"
   ]
  },
  {
   "attachments": {},
   "cell_type": "markdown",
   "metadata": {},
   "source": [
    "## Lv2. 구명보트\n",
    "https://school.programmers.co.kr/learn/courses/30/lessons/42885"
   ]
  },
  {
   "cell_type": "code",
   "execution_count": 12,
   "metadata": {},
   "outputs": [],
   "source": [
    "def solution(people, limit):\n",
    "    answer = 0\n",
    "    people.sort()\n",
    "    left,right=0,len(people)-1\n",
    "\n",
    "    while len(people) > 0 and left < right :\n",
    "        sum_weight = people[left]+people[right]\n",
    "        if sum_weight > limit :\n",
    "            right-=1\n",
    "            answer+=1\n",
    "        else :\n",
    "            left+=1\n",
    "            right-=1\n",
    "            answer+=1\n",
    "    if left==right:\n",
    "        answer+=1\n",
    "            \n",
    "    return answer"
   ]
  },
  {
   "cell_type": "code",
   "execution_count": 13,
   "metadata": {},
   "outputs": [
    {
     "data": {
      "text/plain": [
       "3"
      ]
     },
     "execution_count": 13,
     "metadata": {},
     "output_type": "execute_result"
    }
   ],
   "source": [
    "solution([70, 80, 50],100)"
   ]
  },
  {
   "cell_type": "code",
   "execution_count": null,
   "metadata": {},
   "outputs": [],
   "source": []
  },
  {
   "attachments": {},
   "cell_type": "markdown",
   "metadata": {},
   "source": [
    "## Easy. Greatest Common Divisor of Strings\n",
    "https://leetcode.com/problems/greatest-common-divisor-of-strings/"
   ]
  },
  {
   "cell_type": "code",
   "execution_count": null,
   "metadata": {},
   "outputs": [],
   "source": [
    "def gcdOfStrings(str1, str2) :\n",
    "\n",
    "    answer=''\n",
    "    short,long = (str1,str2) if len(str1)<=len(str2) else (str2,str1)\n",
    "\n",
    "    # 문자열 중 짧은 문자열을 가져와서\n",
    "    # str1 = \"ABABAB\", str2 = \"ABAB\"\n",
    "    # abc 의 경우 a > ab > abc 식으로 replace 진행하여 모두 ''이 되면 해답\n",
    "    for i in range(len(short)) :\n",
    "        ele = short[:i+1]\n",
    "        if short.replace(ele,'') == '' and long.replace(ele,'') == '' :\n",
    "            answer = short[:i+1]\n",
    "\n",
    "    return answer"
   ]
  },
  {
   "attachments": {},
   "cell_type": "markdown",
   "metadata": {},
   "source": [
    "---------------------"
   ]
  },
  {
   "attachments": {},
   "cell_type": "markdown",
   "metadata": {},
   "source": [
    "---------------------------------"
   ]
  },
  {
   "attachments": {},
   "cell_type": "markdown",
   "metadata": {},
   "source": [
    "# 스택/큐"
   ]
  },
  {
   "cell_type": "code",
   "execution_count": null,
   "metadata": {},
   "outputs": [],
   "source": []
  },
  {
   "attachments": {},
   "cell_type": "markdown",
   "metadata": {},
   "source": [
    "## Lv1. 같은 숫자는 싫어\n",
    "https://school.programmers.co.kr/learn/courses/30/lessons/12906"
   ]
  },
  {
   "cell_type": "code",
   "execution_count": null,
   "metadata": {},
   "outputs": [],
   "source": [
    "\n",
    "def solution(arr):\n",
    "    answer = []\n",
    "    # [실행] 버튼을 누르면 출력 값을 볼 수 있습니다.\n",
    "    ele = arr.pop()\n",
    "    answer.append(ele)\n",
    "    while len(arr) > 0 :\n",
    "        cur_ele = arr.pop()\n",
    "        if cur_ele != ele :\n",
    "            ele = cur_ele\n",
    "            answer.append(cur_ele)\n",
    "        \n",
    "    return answer[::-1]"
   ]
  },
  {
   "cell_type": "code",
   "execution_count": null,
   "metadata": {},
   "outputs": [],
   "source": []
  },
  {
   "attachments": {},
   "cell_type": "markdown",
   "metadata": {},
   "source": [
    "## Lv2. 올바른 괄호\n",
    "https://school.programmers.co.kr/learn/courses/30/lessons/12909"
   ]
  },
  {
   "cell_type": "code",
   "execution_count": null,
   "metadata": {},
   "outputs": [],
   "source": [
    "def solution(s):\n",
    "    \n",
    "    # 문자열을 list 변환\n",
    "    s=list(s)\n",
    "    right=0 # ) 의 숫자\n",
    "    \n",
    "    while len(s) > 0 :\n",
    "        ele = s.pop()\n",
    "        if ele == ')' :\n",
    "            right+=1\n",
    "        else :\n",
    "            if right-1 < 0 :\n",
    "                return False\n",
    "            right-=1  \n",
    "    \n",
    "    if right != 0 :\n",
    "        return False\n",
    "    return True"
   ]
  },
  {
   "cell_type": "code",
   "execution_count": null,
   "metadata": {},
   "outputs": [],
   "source": []
  },
  {
   "attachments": {},
   "cell_type": "markdown",
   "metadata": {},
   "source": [
    "---------------------"
   ]
  },
  {
   "attachments": {},
   "cell_type": "markdown",
   "metadata": {},
   "source": [
    "---------------------------------"
   ]
  },
  {
   "attachments": {},
   "cell_type": "markdown",
   "metadata": {},
   "source": [
    "# DFS/BFS"
   ]
  },
  {
   "attachments": {},
   "cell_type": "markdown",
   "metadata": {},
   "source": [
    "## Leetcode Medium. Max Area of Island\n",
    "https://leetcode.com/problems/max-area-of-island/"
   ]
  },
  {
   "cell_type": "code",
   "execution_count": 1,
   "metadata": {},
   "outputs": [],
   "source": [
    "def maxAreaOfIsland(grid) :\n",
    "    answer = 0\n",
    "\n",
    "    def dfs(i,j) :\n",
    " \t\t# 범위를 벗어나거나 0이면 0을 리턴\n",
    "        if i<0 or j<0 or i>=len(grid) or j>=len(grid[0]) or grid[i][j]==0 :\n",
    "            return 0\n",
    "        # 방문 처리\n",
    "        grid[i][j]=0\n",
    "        # 인접한 동서남북에 있는 구역으로 탐색 시작\n",
    "        return 1+dfs(i-1,j)+dfs(i,j-1)+dfs(i+1,j)+dfs(i,j+1)\n",
    "\n",
    "    for i in range(len(grid)) :\n",
    "        for j in range(len(grid[0])) :\n",
    "            if grid[i][j] == 1 :\n",
    "                answer = max(answer,dfs(i,j))\n",
    "\n",
    "    return answer"
   ]
  },
  {
   "attachments": {},
   "cell_type": "markdown",
   "metadata": {},
   "source": [
    "## 프로그래머스 Lv.2 타넷넘버\n",
    "https://school.programmers.co.kr/learn/courses/30/lessons/43165"
   ]
  },
  {
   "cell_type": "code",
   "execution_count": 18,
   "metadata": {},
   "outputs": [],
   "source": [
    "# 접근법 : 각각의 요소가 +,- 값을 가지기 때문에 포화 이진트리를 탐색하는 방식으로 해결했습니다.\n",
    "\n",
    "def solution(numbers, target):\n",
    "    answer = dfs(numbers, target, 0)\n",
    "    return answer\n",
    "\n",
    "def dfs(numbers, target, idx) :\n",
    "    # 해당 case가 마지막 요소까지 탐색했을때 sum이 target과 같은지 판별\n",
    "    if len(numbers) == idx :\n",
    "        if sum(numbers) == target :\n",
    "            return 1\n",
    "        return 0\n",
    "    # 해당 case가 탐색할 요소가 남았을때 각각 +,-해준 값을 \n",
    "    answer=0\n",
    "    answer+=dfs(numbers, target, idx+1)\n",
    "    numbers[idx] *= -1\n",
    "    answer+=dfs(numbers, target, idx+1)\n",
    "    return answer"
   ]
  },
  {
   "cell_type": "code",
   "execution_count": 19,
   "metadata": {},
   "outputs": [
    {
     "data": {
      "text/plain": [
       "5"
      ]
     },
     "execution_count": 19,
     "metadata": {},
     "output_type": "execute_result"
    }
   ],
   "source": [
    "solution([1, 1, 1, 1, 1],3)"
   ]
  },
  {
   "attachments": {},
   "cell_type": "markdown",
   "metadata": {},
   "source": [
    "## 프로그래머스 Lv.2 게임 맵 최단거리\n",
    "https://school.programmers.co.kr/learn/courses/30/lessons/1844"
   ]
  },
  {
   "cell_type": "code",
   "execution_count": 1,
   "metadata": {},
   "outputs": [],
   "source": [
    "def solution(maps):\n",
    "    W,H = len(maps[0]),len(maps)\n",
    "    moves = [[0,1],[0,-1],[1,0],[-1,0]]\n",
    "    # 처음엔 visited.도 사용했으나 시간초과로 인해 vistied 대신 해당 요소가 1인지 확인\n",
    "    # visited=[[0]*len(maps[0]) for _ in range(len(maps))]\n",
    "\n",
    "    que = [];\n",
    "    que.append((0,0))\n",
    "\n",
    "    while que :\n",
    "        # 첫번째 요소 pop\n",
    "        x,y = que.pop(0)\n",
    "        for move in moves :\n",
    "            nx,ny = x+move[0],y+move[1]\n",
    "            if 0<=nx<H and 0<=ny<W and maps[nx][ny]==1:\n",
    "                maps[nx][ny]= maps[x][y]+1\n",
    "                que.append((nx,ny))\n",
    "\n",
    "    return -1 if maps[H-1][W-1] == 1 else maps[H-1][W-1]"
   ]
  },
  {
   "cell_type": "code",
   "execution_count": 2,
   "metadata": {},
   "outputs": [
    {
     "data": {
      "text/plain": [
       "11"
      ]
     },
     "execution_count": 2,
     "metadata": {},
     "output_type": "execute_result"
    }
   ],
   "source": [
    "solution([[1,0,1,1,1],[1,0,1,0,1],[1,0,1,1,1],[1,1,1,0,1],[0,0,0,0,1]])"
   ]
  },
  {
   "attachments": {},
   "cell_type": "markdown",
   "metadata": {},
   "source": [
    "## Leetcode Medium. Minesweeper\n",
    "https://leetcode.com/problems/minesweeper/"
   ]
  },
  {
   "cell_type": "code",
   "execution_count": 37,
   "metadata": {},
   "outputs": [],
   "source": [
    "def updateBoard(board, click) :\n",
    "    moves = [(-1,-1),(-1,0),(-1,1),(0,-1),(0,1),(1,-1),(1,0),(1,1)]\n",
    "    \n",
    "    def isIn(x,y) :\n",
    "        if x<0 or y<0 or x>=len(board) or y>=len(board[0]) :\n",
    "            return 0\n",
    "        return 1\n",
    "\n",
    "    def dfs(x,y) :\n",
    "\n",
    "        if board[x][y] == 'M' :\n",
    "            return\n",
    "\n",
    "        near_bomb=0\n",
    "        for nx,ny in moves :\n",
    "            nx,ny = nx+x,ny+y\n",
    "            if isIn(nx,ny) and board[nx][ny] == 'M' :\n",
    "                near_bomb+=1\n",
    "        \n",
    "        if near_bomb == 0 :\n",
    "            board[x][y] = 'B'\n",
    "            for nx,ny in moves :\n",
    "                nx,ny = nx+x,ny+y\n",
    "                if isIn(nx,ny) :\n",
    "                    dfs(nx,ny)\n",
    "\n",
    "        elif near_bomb > 0 :\n",
    "            board[x][y] = str(near_bomb)\n",
    "            return\n",
    "\n",
    "    dfs(click[0],click[1])\n",
    "    print(board)\n",
    "    \n",
    "    "
   ]
  },
  {
   "cell_type": "code",
   "execution_count": 43,
   "metadata": {},
   "outputs": [],
   "source": [
    "from collections import deque\n",
    "\n",
    "def updateBoard(board, click) :\n",
    "\n",
    "    # 선택한 곳이 지뢰일 경우 X로 바꾸고 return\n",
    "    if board[click[0]][click[1]] == 'M' :\n",
    "        board[click[0]][click[1]] = 'X'\n",
    "        return board\n",
    "\n",
    "    # 8방향으로 움직일 때 필요한 배열\n",
    "    moves = [(-1,-1),(-1,0),(-1,1),(0,-1),(0,1),(1,-1),(1,0),(1,1)]\n",
    "    visited = [[0 for _ in range(len(board[0]))] for _ in range(len(board))]\n",
    "\n",
    "    # 해당 좌표가 이동 가능한 위치인지 판별하는 함수\n",
    "    def isIn(x,y) :\n",
    "        if x<0 or y<0 or x>=len(board) or y>=len(board[0]) :\n",
    "            return 0\n",
    "        return 1\n",
    "\n",
    "    # 탐색에 사용할 큐와 click 좌표 방문 처리\n",
    "    queue = deque([(click[0],click[1])])\n",
    "    visited[click[0]][click[1]] = 1\n",
    "        \n",
    "    while queue :\n",
    "        x,y = queue.popleft()\n",
    "\n",
    "        near_mine=0\n",
    "\n",
    "        # 해당 좌표와 인접한 좌표의 지뢰 수 확인\n",
    "        for nx,ny in moves :\n",
    "            nx,ny = nx+x,ny+y\n",
    "            if isIn(nx,ny) and board[nx][ny] == 'M' :\n",
    "                near_mine+=1\n",
    "\n",
    "        # Blank의 경우 인접한 Blank을 모두 표시해야 하므로 BFS 탐색할 큐에 추가\n",
    "        if near_mine == 0 :\n",
    "            board[x][y] = 'B'\n",
    "            for nx,ny in moves :\n",
    "                nx,ny = nx+x,ny+y\n",
    "                if isIn(nx,ny) and not visited[nx][ny] :\n",
    "                    queue.append((nx,ny))\n",
    "                    visited[nx][ny] = 1\n",
    "        # 해당 좌표에 인접한 좌표 중 지뢰가 있는 경우 갯수 입력하기\n",
    "        else :\n",
    "            board[x][y] = str(near_mine)\n",
    "\n",
    "    return board\n",
    "    "
   ]
  },
  {
   "cell_type": "code",
   "execution_count": 44,
   "metadata": {},
   "outputs": [
    {
     "data": {
      "text/plain": [
       "[['B', '1', 'E', '1', 'B'],\n",
       " ['B', '1', 'M', '1', 'B'],\n",
       " ['B', '1', '1', '1', 'B'],\n",
       " ['B', 'B', 'B', 'B', 'B']]"
      ]
     },
     "execution_count": 44,
     "metadata": {},
     "output_type": "execute_result"
    }
   ],
   "source": [
    "updateBoard([[\"E\",\"E\",\"E\",\"E\",\"E\"],[\"E\",\"E\",\"M\",\"E\",\"E\"],[\"E\",\"E\",\"E\",\"E\",\"E\"],[\"E\",\"E\",\"E\",\"E\",\"E\"]],[3,0])"
   ]
  },
  {
   "cell_type": "code",
   "execution_count": null,
   "metadata": {},
   "outputs": [],
   "source": []
  },
  {
   "attachments": {},
   "cell_type": "markdown",
   "metadata": {},
   "source": [
    "---------------------"
   ]
  },
  {
   "attachments": {},
   "cell_type": "markdown",
   "metadata": {},
   "source": [
    "---------------------------------"
   ]
  },
  {
   "attachments": {},
   "cell_type": "markdown",
   "metadata": {},
   "source": [
    "# 완전탐색"
   ]
  },
  {
   "attachments": {},
   "cell_type": "markdown",
   "metadata": {},
   "source": [
    "## 프로그래머스 Lv1. 최소직사각형\n",
    "https://school.programmers.co.kr/learn/courses/30/lessons/86491"
   ]
  },
  {
   "cell_type": "code",
   "execution_count": null,
   "metadata": {},
   "outputs": [],
   "source": [
    "def solution(sizes):\n",
    "    answer = 0\n",
    "\n",
    "    list2 = list(map(lambda x: [x[1],x[0]] if x[1]>x[0] else [x[0],x[1]],sizes))\n",
    "    max_val = [0,0]\n",
    "    for a,b in list2 :\n",
    "        if max_val[0] < a :\n",
    "            max_val[0] = a\n",
    "        if max_val[1] < b :\n",
    "            max_val[1] = b\n",
    "    answer = max_val[0] * max_val[1]\n",
    "    return answer"
   ]
  },
  {
   "attachments": {},
   "cell_type": "markdown",
   "metadata": {},
   "source": [
    "## 프로그래머스 Lv1. 모의고사\n",
    "https://school.programmers.co.kr/learn/courses/30/lessons/42840"
   ]
  },
  {
   "cell_type": "code",
   "execution_count": 14,
   "metadata": {},
   "outputs": [],
   "source": [
    "def solution(answers):\n",
    "    answer = []\n",
    "\n",
    "    students = [[1,2,3,4,5], [2,1,2,3,2,4,2,5], [3,3,1,1,2,2,4,4,5,5]]\n",
    "    students_answer = [0,0,0]\n",
    "\n",
    "    for i in range(3):\n",
    "        for j in range(len(answers)) :\n",
    "            if answers[j] == students[i][j%len(students[i])] :\n",
    "                students_answer[i]+=1\n",
    "\n",
    "    max_value = max(students_answer)\n",
    "    for i in range(3) : \n",
    "        if students_answer[i] == max_value :\n",
    "            answer.append(i+1)\n",
    "            \n",
    "    return answer"
   ]
  },
  {
   "attachments": {},
   "cell_type": "markdown",
   "metadata": {},
   "source": [
    "## 프로그래머스 Lv2. 전력망을 둘로 나누기\n",
    "https://school.programmers.co.kr/learn/courses/30/lessons/86971"
   ]
  },
  {
   "cell_type": "code",
   "execution_count": 20,
   "metadata": {},
   "outputs": [],
   "source": [
    "from collections import deque\n",
    "\n",
    "def solution(n, wires):\n",
    "\n",
    "    answer = n\n",
    "\n",
    "    # {1 : [1,2], 2: [3,4]} 등으로 각 송전탑과 이어진 송전탑의 관계 그래프를 만드는 코드\n",
    "    graph_arr = [[] for _ in range(n)]\n",
    "    for x,y in wires :\n",
    "        graph_arr[x-1].append(y)\n",
    "        graph_arr[y-1].append(x)\n",
    "    graph_dict = {i+1 : graph_arr[i] for i in range(n)}\n",
    "\n",
    "\n",
    "\n",
    "    # 각각의 wire를 끊었을 때 나뉘는 두 전력망 수의 차이를 bfs로 구현\n",
    "    for x,y in wires :\n",
    "        # 방문여부와 해당 wire를 끊었을때 한쪽의 전력망 수를 저장할 변수\n",
    "        visited = [0]*(n+1)\n",
    "        visited[x] = 1\n",
    "        cnt=1\n",
    "        graph_dict[x].remove(y)\n",
    "        graph_dict[y].remove(x)\n",
    "        queue = deque([x])\n",
    "\n",
    "        while queue :\n",
    "            cur = queue.popleft()\n",
    "            for nx in graph_dict[cur] :\n",
    "                if not visited[nx] :\n",
    "                    queue.append(nx)\n",
    "                    cnt+=1\n",
    "                    visited[nx]=1\n",
    "                    \n",
    "        if abs(cnt - (n-cnt)) < answer :\n",
    "            answer = abs(cnt - (n-cnt))\n",
    "\n",
    "        # 끊었던 wire 복구\n",
    "        graph_dict[x].append(y)\n",
    "        graph_dict[y].append(x)\n",
    "\n",
    "    return answer"
   ]
  },
  {
   "cell_type": "code",
   "execution_count": 3,
   "metadata": {},
   "outputs": [],
   "source": [
    "arr = [[] for _ in range(9)]\n",
    "for x,y in [[1,3],[2,3],[3,4],[4,5],[4,6],[4,7],[7,8],[7,9]] :\n",
    "    arr[x-1].append(y)\n",
    "    arr[y-1].append(x)"
   ]
  },
  {
   "cell_type": "code",
   "execution_count": 7,
   "metadata": {},
   "outputs": [
    {
     "data": {
      "text/plain": [
       "{1: [3],\n",
       " 2: [3],\n",
       " 3: [1, 2, 4],\n",
       " 4: [3, 5, 6, 7],\n",
       " 5: [4],\n",
       " 6: [4],\n",
       " 7: [4, 8, 9],\n",
       " 8: [7],\n",
       " 9: [7]}"
      ]
     },
     "execution_count": 7,
     "metadata": {},
     "output_type": "execute_result"
    }
   ],
   "source": [
    "dict = {i+1 : arr[i] for i in range(9)}\n",
    "dict"
   ]
  },
  {
   "attachments": {},
   "cell_type": "markdown",
   "metadata": {},
   "source": [
    "## 프로그래머스 Lv2. 모음사전\n",
    "https://school.programmers.co.kr/learn/courses/30/lessons/84512"
   ]
  },
  {
   "cell_type": "code",
   "execution_count": 4,
   "metadata": {},
   "outputs": [],
   "source": [
    "def solution(word):\n",
    "    answer = 0\n",
    "    list_char = ['A', 'E', 'I', 'O', 'U']\n",
    "\n",
    "    # 문자의 인덱스별 증가하는 양\n",
    "    # 경우의 수가 AEIOU 에 공백이 있다 : x5+1\n",
    "    list_up = [781,156,31,6,1]\n",
    "\n",
    "    # 문자를 하나씩 가져와 계산한 값을 answer에 더해준다.\n",
    "    for i in range(len(word)) :\n",
    "        answer+=list_char.index(word[i])*list_up[i]+1\n",
    "\n",
    "    return answer"
   ]
  },
  {
   "cell_type": "code",
   "execution_count": 6,
   "metadata": {},
   "outputs": [
    {
     "data": {
      "text/plain": [
       "1189"
      ]
     },
     "execution_count": 6,
     "metadata": {},
     "output_type": "execute_result"
    }
   ],
   "source": [
    "solution('EIO')"
   ]
  },
  {
   "attachments": {},
   "cell_type": "markdown",
   "metadata": {},
   "source": [
    "## 프로그래머스 Lv2. 소수 찾기\n",
    "https://school.programmers.co.kr/learn/courses/30/lessons/42839"
   ]
  },
  {
   "cell_type": "code",
   "execution_count": 38,
   "metadata": {},
   "outputs": [],
   "source": [
    "from itertools import permutations\n",
    "\n",
    "def solution(numbers):\n",
    "\n",
    "    # 답을 넣은 배열\n",
    "    answer = []\n",
    "    list_numbers = list(numbers)\n",
    "    list_combination = []\n",
    "\n",
    "    for i in range(1,len(list_numbers)+1) :\n",
    "        for ele in permutations(list_numbers,i) :\n",
    "            ele = int(''.join(ele))\n",
    "            if ele not in list_combination and ele>1:\n",
    "                list_combination.append(ele)\n",
    "\n",
    "    for ele in list_combination :\n",
    "        check = 0\n",
    "        for i in range(2,ele) :\n",
    "            if ele%i == 0 :\n",
    "                check=1\n",
    "                break\n",
    "        if check == 0 :\n",
    "            answer.append(ele)\n",
    "\n",
    "    return len(answer)"
   ]
  },
  {
   "cell_type": "code",
   "execution_count": 39,
   "metadata": {},
   "outputs": [
    {
     "data": {
      "text/plain": [
       "2"
      ]
     },
     "execution_count": 39,
     "metadata": {},
     "output_type": "execute_result"
    }
   ],
   "source": [
    "solution(\"011\")"
   ]
  },
  {
   "cell_type": "code",
   "execution_count": 9,
   "metadata": {},
   "outputs": [],
   "source": [
    "import math\n",
    "import time"
   ]
  },
  {
   "cell_type": "code",
   "execution_count": 11,
   "metadata": {},
   "outputs": [
    {
     "name": "stdout",
     "output_type": "stream",
     "text": [
      "102334155\n"
     ]
    },
    {
     "data": {
      "text/plain": [
       "0.0"
      ]
     },
     "execution_count": 11,
     "metadata": {},
     "output_type": "execute_result"
    }
   ],
   "source": [
    "\n",
    "\n",
    "def fibonacci_bottomup(n):\n",
    "    if n <= 1:\n",
    "        return n\n",
    "    # 초기값 설정\n",
    "    memo = [0, 1]\n",
    "    for i in range(2, n+1):\n",
    "        # 이전 두 값을 더해서 현재 값을 구함\n",
    "        current = memo[i-1] + memo[i-2]\n",
    "        # memo 리스트에 현재 값을 추가함\n",
    "        memo.append(current)\n",
    "    # 결과값 반환\n",
    "    return memo[n]\n",
    "\n",
    "start = time.time()\n",
    "\n",
    "print(fibonacci_bottomup(40))\n",
    "\n",
    "end=time.time()\n",
    "\n",
    "end-start"
   ]
  },
  {
   "cell_type": "code",
   "execution_count": 12,
   "metadata": {},
   "outputs": [
    {
     "name": "stdout",
     "output_type": "stream",
     "text": [
      "102334155\n"
     ]
    },
    {
     "data": {
      "text/plain": [
       "0.0"
      ]
     },
     "execution_count": 12,
     "metadata": {},
     "output_type": "execute_result"
    }
   ],
   "source": [
    "def fibonacci(n, memo):\n",
    "    # 이미 계산한 값이 있으면 그 값을 반환\n",
    "    if memo[n] is not None:\n",
    "        return memo[n]\n",
    "    # n이 0이거나 1일 경우 값을 반환\n",
    "    if n <= 1:\n",
    "        memo[n] = n\n",
    "    else:\n",
    "        # 이전 두 값을 더해서 현재 값을 구하고 memo에 저장\n",
    "        memo[n] = fibonacci(n-1, memo) + fibonacci(n-2, memo)\n",
    "    return memo[n]\n",
    "\n",
    "def fibonacci_topdown(n):\n",
    "    # memo 리스트 초기화\n",
    "    memo = [None] * (n+1)\n",
    "    return fibonacci(n, memo)\n",
    "\n",
    "start = time.time()\n",
    "\n",
    "print(fibonacci_topdown(40))\n",
    "\n",
    "end=time.time()\n",
    "\n",
    "end-start"
   ]
  },
  {
   "cell_type": "code",
   "execution_count": 14,
   "metadata": {},
   "outputs": [
    {
     "name": "stdout",
     "output_type": "stream",
     "text": [
      "102334155\n"
     ]
    },
    {
     "data": {
      "text/plain": [
       "31.724077224731445"
      ]
     },
     "execution_count": 14,
     "metadata": {},
     "output_type": "execute_result"
    }
   ],
   "source": [
    "def fibonacci(n) :\n",
    "    if n<2 : return n\n",
    "    return fibonacci(n-1)+fibonacci(n-2)\n",
    "\n",
    "start = time.time()\n",
    "\n",
    "print(fibonacci(40))\n",
    "\n",
    "end=time.time()\n",
    "\n",
    "end-start"
   ]
  },
  {
   "cell_type": "code",
   "execution_count": null,
   "metadata": {},
   "outputs": [],
   "source": []
  },
  {
   "attachments": {},
   "cell_type": "markdown",
   "metadata": {},
   "source": [
    "---------------------"
   ]
  },
  {
   "attachments": {},
   "cell_type": "markdown",
   "metadata": {},
   "source": [
    "---------------------------------"
   ]
  },
  {
   "attachments": {},
   "cell_type": "markdown",
   "metadata": {},
   "source": [
    "# 동적 계획법(Dynamic Programming, DP)"
   ]
  },
  {
   "attachments": {},
   "cell_type": "markdown",
   "metadata": {},
   "source": [
    "## Leetcode Easy Pascal's Triangle\n",
    "https://leetcode.com/problems/pascals-triangle/description/"
   ]
  },
  {
   "cell_type": "code",
   "execution_count": 20,
   "metadata": {},
   "outputs": [],
   "source": [
    "def generate(numRows) :\n",
    "\n",
    "    answer = [[1]]\n",
    "        \n",
    "    for i in range(1,numRows) :\n",
    "\n",
    "        # 해당 인덱스의 배열 길이 = 인덱스+1 개\n",
    "        answer.append([1]*(i+1))\n",
    "\n",
    "        # 양 끝은 1이므로 계산하지 않습니다.\n",
    "        for j in range(1,len(answer[i])-1) :\n",
    "            answer[i][j] = answer[i-1][j-1]+answer[i-1][j]\n",
    "\n",
    "    return answer"
   ]
  },
  {
   "cell_type": "code",
   "execution_count": 21,
   "metadata": {},
   "outputs": [
    {
     "data": {
      "text/plain": [
       "[[1]]"
      ]
     },
     "execution_count": 21,
     "metadata": {},
     "output_type": "execute_result"
    }
   ],
   "source": [
    "generate(1)"
   ]
  },
  {
   "cell_type": "code",
   "execution_count": null,
   "metadata": {},
   "outputs": [],
   "source": [
    "# by JS\n",
    "# /**\n",
    "#  * @param {number} numRows\n",
    "#  * @return {number[][]}\n",
    "#  */\n",
    "# var generate = function(numRows) {\n",
    "#     answer = [[1]];\n",
    "\n",
    "#     for(let i=1; i<numRows; i++) {\n",
    "#         answer.push(Array.from({length:i+1},()=>1));\n",
    "\n",
    "#         for(let j=1; j<answer[i].length-1; j++) {\n",
    "#             answer[i][j] = answer[i-1][j-1]+answer[i-1][j]\n",
    "#         }\n",
    "#     }\n",
    "\n",
    "#     return answer\n",
    "# };"
   ]
  },
  {
   "cell_type": "code",
   "execution_count": null,
   "metadata": {},
   "outputs": [],
   "source": []
  },
  {
   "attachments": {},
   "cell_type": "markdown",
   "metadata": {},
   "source": [
    "## Leetcode Easy Climbing Stairs\n",
    "https://leetcode.com/problems/climbing-stairs/"
   ]
  },
  {
   "cell_type": "code",
   "execution_count": 6,
   "metadata": {},
   "outputs": [],
   "source": [
    "def climbStairs(n) :\n",
    "    # 동적 계획법 Bottom-up 방법 사용\n",
    "    arr = [0,1,2]\n",
    "    if n < len(arr) :\n",
    "        return arr[n]\n",
    "    \n",
    "    # tabulation 방법을 이용해 처음부터 n까지 채워나간다.\n",
    "    arr = [0,1,2] + [0]*(n-2)\n",
    "    for i in range(3,n+1) :\n",
    "        arr[i] = arr[i-2]+arr[i-1]\n",
    "    return arr[n]"
   ]
  },
  {
   "cell_type": "code",
   "execution_count": 7,
   "metadata": {},
   "outputs": [
    {
     "data": {
      "text/plain": [
       "3"
      ]
     },
     "execution_count": 7,
     "metadata": {},
     "output_type": "execute_result"
    }
   ],
   "source": [
    "climbStairs(3)"
   ]
  },
  {
   "attachments": {},
   "cell_type": "markdown",
   "metadata": {},
   "source": [
    "## 백준 실버2 연속합\n",
    "https://www.acmicpc.net/problem/1912"
   ]
  },
  {
   "cell_type": "code",
   "execution_count": null,
   "metadata": {},
   "outputs": [],
   "source": [
    "# 제출한 정답\n",
    "import sys\n",
    "input = sys.stdin.readline\n",
    "\n",
    "# 동적 계획법 Bottom-up 방법 사용\n",
    "N = int(input())\n",
    "N_list = list(map(int,input().split()))\n",
    "\n",
    "# tabulation 방법을 이용해 처음부터 n까지 채워나간다.\n",
    "for idx in range(1,N) :\n",
    "    N_list[idx] = max(N_list[idx], N_list[idx]+N_list[idx-1])\n",
    "\n",
    "# 가장 마지막에 채워진 값이 max가 아닐 수도 있으니, 배열 중 가장 큰 값을 찾는다\n",
    "print(max(N_list))"
   ]
  },
  {
   "cell_type": "code",
   "execution_count": 20,
   "metadata": {},
   "outputs": [],
   "source": [
    "def coninue(n, list_n) :\n",
    "  len_input = int(n)\n",
    "  N_list = list(map(int,list_n.split()))\n",
    "  \n",
    "  for idx in range(1,len_input) :\n",
    "    N_list[idx] = max(N_list[idx], N_list[idx]+N_list[idx-1])\n",
    "\n",
    "  print(max(N_list))"
   ]
  },
  {
   "cell_type": "code",
   "execution_count": 21,
   "metadata": {},
   "outputs": [
    {
     "name": "stdout",
     "output_type": "stream",
     "text": [
      "-1\n"
     ]
    }
   ],
   "source": [
    "coninue(5,'-1 -2 -3 -4 -5')"
   ]
  },
  {
   "cell_type": "code",
   "execution_count": null,
   "metadata": {},
   "outputs": [],
   "source": []
  },
  {
   "cell_type": "code",
   "execution_count": null,
   "metadata": {},
   "outputs": [],
   "source": []
  },
  {
   "cell_type": "code",
   "execution_count": null,
   "metadata": {},
   "outputs": [],
   "source": []
  },
  {
   "cell_type": "code",
   "execution_count": null,
   "metadata": {},
   "outputs": [],
   "source": []
  }
 ],
 "metadata": {
  "kernelspec": {
   "display_name": "Python 3",
   "language": "python",
   "name": "python3"
  },
  "language_info": {
   "codemirror_mode": {
    "name": "ipython",
    "version": 3
   },
   "file_extension": ".py",
   "mimetype": "text/x-python",
   "name": "python",
   "nbconvert_exporter": "python",
   "pygments_lexer": "ipython3",
   "version": "3.7.6"
  }
 },
 "nbformat": 4,
 "nbformat_minor": 2
}
