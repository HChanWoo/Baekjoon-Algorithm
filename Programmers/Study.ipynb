{
 "cells": [
  {
   "attachments": {},
   "cell_type": "markdown",
   "metadata": {},
   "source": [
    "# 그리디 알고리즘"
   ]
  },
  {
   "attachments": {},
   "cell_type": "markdown",
   "metadata": {},
   "source": [
    "## LV1. 체육복\n",
    "https://school.programmers.co.kr/learn/courses/30/lessons/42862"
   ]
  },
  {
   "cell_type": "markdown",
   "metadata": {},
   "source": []
  },
  {
   "cell_type": "code",
   "execution_count": 21,
   "metadata": {},
   "outputs": [],
   "source": [
    "def solution(n, lost, reserve):\n",
    "\n",
    "    # 체육복이 있는 학생의 수 = 전체 학생수(n) - 도난당한 학생수(lost의 수)\n",
    "    answer = n-len(lost)\n",
    "\n",
    "    # 여벌의 체육복이 있지만 도난당한 학생의 경우\n",
    "    for i in range(1,n+1) :\n",
    "        if i in lost and i in reserve :\n",
    "            reserve.remove(i)\n",
    "            lost.remove(i)\n",
    "            answer+=1\n",
    "\n",
    "    # 도난당해 체육복이 없는 학생의 경우 앞 뒤 학생에게 체육복을 빌린다.\n",
    "    for i in range(1,n+1) :\n",
    "        if i in lost :\n",
    "            if i-1 in reserve :\n",
    "                answer+=1\n",
    "                reserve.remove(i-1)\n",
    "            elif i+1 in reserve :\n",
    "                answer+=1\n",
    "                reserve.remove(i+1)\n",
    "\n",
    "    return answer"
   ]
  },
  {
   "attachments": {},
   "cell_type": "markdown",
   "metadata": {},
   "source": [
    "## Easy. DI String Match\n",
    "https://leetcode.com/problems/di-string-match/"
   ]
  },
  {
   "cell_type": "code",
   "execution_count": 35,
   "metadata": {},
   "outputs": [],
   "source": [
    "# push pop\n",
    "def diStringMatch( s: str) :\n",
    "    \n",
    "    list_result = []\n",
    "    max_val = len(s)\n",
    "    min_val = 0\n",
    "\n",
    "    for i in range(len(s)):\n",
    "        if s[i] == 'I' :\n",
    "            list_result.append(min_val)\n",
    "            min_val+=1\n",
    "        elif s[i] == 'D' :\n",
    "            list_result.append(max_val)\n",
    "            max_val-=1\n",
    "    list_result.append(max_val)\n",
    "\n",
    "    return  list_result"
   ]
  },
  {
   "cell_type": "code",
   "execution_count": 36,
   "metadata": {},
   "outputs": [
    {
     "data": {
      "text/plain": [
       "[0, 4, 1, 3, 2]"
      ]
     },
     "execution_count": 36,
     "metadata": {},
     "output_type": "execute_result"
    }
   ],
   "source": [
    "diStringMatch(\"IDID\")"
   ]
  },
  {
   "cell_type": "code",
   "execution_count": null,
   "metadata": {},
   "outputs": [],
   "source": []
  },
  {
   "cell_type": "code",
   "execution_count": null,
   "metadata": {},
   "outputs": [],
   "source": []
  },
  {
   "cell_type": "code",
   "execution_count": null,
   "metadata": {},
   "outputs": [],
   "source": []
  },
  {
   "cell_type": "code",
   "execution_count": null,
   "metadata": {},
   "outputs": [],
   "source": []
  },
  {
   "cell_type": "code",
   "execution_count": null,
   "metadata": {},
   "outputs": [],
   "source": []
  },
  {
   "cell_type": "code",
   "execution_count": null,
   "metadata": {},
   "outputs": [],
   "source": []
  }
 ],
 "metadata": {
  "kernelspec": {
   "display_name": "base",
   "language": "python",
   "name": "python3"
  },
  "language_info": {
   "codemirror_mode": {
    "name": "ipython",
    "version": 3
   },
   "file_extension": ".py",
   "mimetype": "text/x-python",
   "name": "python",
   "nbconvert_exporter": "python",
   "pygments_lexer": "ipython3",
   "version": "3.7.6"
  },
  "orig_nbformat": 4
 },
 "nbformat": 4,
 "nbformat_minor": 2
}
