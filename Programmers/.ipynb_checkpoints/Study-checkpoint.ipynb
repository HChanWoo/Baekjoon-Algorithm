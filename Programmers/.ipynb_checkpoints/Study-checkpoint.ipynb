{
 "cells": [
  {
   "cell_type": "markdown",
   "metadata": {},
   "source": [
    "# 그리디 알고리즘"
   ]
  },
  {
   "cell_type": "markdown",
   "metadata": {},
   "source": [
    "## LV1. 체육복\n",
    "https://school.programmers.co.kr/learn/courses/30/lessons/42862"
   ]
  },
  {
   "cell_type": "markdown",
   "metadata": {},
   "source": []
  },
  {
   "cell_type": "code",
   "execution_count": 21,
   "metadata": {},
   "outputs": [],
   "source": [
    "def solution(n, lost, reserve):\n",
    "\n",
    "    # 체육복이 있는 학생의 수 = 전체 학생수(n) - 도난당한 학생수(lost의 수)\n",
    "    answer = n-len(lost)\n",
    "\n",
    "    # 여벌의 체육복이 있지만 도난당한 학생의 경우\n",
    "    for i in range(1,n+1) :\n",
    "        if i in lost and i in reserve :\n",
    "            reserve.remove(i)\n",
    "            lost.remove(i)\n",
    "            answer+=1\n",
    "\n",
    "    # 도난당해 체육복이 없는 학생의 경우 앞 뒤 학생에게 체육복을 빌린다.\n",
    "    for i in range(1,n+1) :\n",
    "        if i in lost :\n",
    "            if i-1 in reserve :\n",
    "                answer+=1\n",
    "                reserve.remove(i-1)\n",
    "            elif i+1 in reserve :\n",
    "                answer+=1\n",
    "                reserve.remove(i+1)\n",
    "\n",
    "    return answer"
   ]
  },
  {
   "cell_type": "markdown",
   "metadata": {},
   "source": [
    "## Easy. DI String Match\n",
    "https://leetcode.com/problems/di-string-match/"
   ]
  },
  {
   "cell_type": "code",
   "execution_count": 35,
   "metadata": {},
   "outputs": [],
   "source": [
    "# push pop\n",
    "def diStringMatch( s: str) :\n",
    "    \n",
    "    list_result = []\n",
    "    max_val = len(s)\n",
    "    min_val = 0\n",
    "\n",
    "    for i in range(len(s)):\n",
    "        if s[i] == 'I' :\n",
    "            list_result.append(min_val)\n",
    "            min_val+=1\n",
    "        elif s[i] == 'D' :\n",
    "            list_result.append(max_val)\n",
    "            max_val-=1\n",
    "    list_result.append(max_val)\n",
    "\n",
    "    return  list_result"
   ]
  },
  {
   "cell_type": "markdown",
   "metadata": {},
   "source": []
  },
  {
   "cell_type": "code",
   "execution_count": 36,
   "metadata": {},
   "outputs": [
    {
     "data": {
      "text/plain": [
       "[0, 4, 1, 3, 2]"
      ]
     },
     "execution_count": 36,
     "metadata": {},
     "output_type": "execute_result"
    }
   ],
   "source": [
    "diStringMatch(\"IDID\")"
   ]
  },
  {
   "cell_type": "markdown",
   "metadata": {},
   "source": [
    "-----------------"
   ]
  },
  {
   "cell_type": "markdown",
   "metadata": {},
   "source": [
    "## LV2. 큰수 만들기\n",
    "https://school.programmers.co.kr/learn/courses/30/lessons/42883"
   ]
  },
  {
   "cell_type": "code",
   "execution_count": 33,
   "metadata": {},
   "outputs": [],
   "source": [
    "def solution(number, k):\n",
    "    answer = [] # stack(Last in First  out)\n",
    "\n",
    "    for num in number :\n",
    "        # 스택이 비였거나 k(빼야하는 숫자)가 0인 경우 append 작업만 가능\n",
    "        if not answer or k==0 :\n",
    "            answer.append(num)\n",
    "            continue\n",
    "\n",
    "        # 새로운 수가 스택의 마지막 요소보다 크면 스택의 마지막 요소를 pop하고,\n",
    "        # 마지막에 요소를 넣는 과정을 스택이 비거나 k가 0일 때까지 반복한다.\n",
    "        while answer[-1] < num :\n",
    "            answer.pop()\n",
    "            k-=1\n",
    "            if not answer or k<=0:\n",
    "                break\n",
    "\n",
    "        answer.append(num)\n",
    "\n",
    "    # 배열을 문자열로 변환\n",
    "    answer = ''.join(answer)\n",
    "    # 민액 내림차순으로 잘 정리됐는데, 빼야할 수가 남은 경우를 처리\n",
    "    answer = answer[:-k] if k > 0 else answer\n",
    "    \n",
    "    return answer"
   ]
  },
  {
   "cell_type": "code",
   "execution_count": 34,
   "metadata": {},
   "outputs": [
    {
     "data": {
      "text/plain": [
       "'775841'"
      ]
     },
     "execution_count": 34,
     "metadata": {},
     "output_type": "execute_result"
    }
   ],
   "source": [
    "solution(\"4177252841\",4)"
   ]
  },
  {
   "cell_type": "markdown",
   "metadata": {},
   "source": [
    "## Easy. Can Place Flowers\n",
    "https://leetcode.com/problems/can-place-flowers/"
   ]
  },
  {
   "cell_type": "code",
   "execution_count": 46,
   "metadata": {},
   "outputs": [],
   "source": [
    "def canPlaceFlowers(flowerbed, n) :\n",
    "\n",
    "    # 배열의 길이가 1일 경우 예외 처리\n",
    "    if(len(flowerbed) == 1) :\n",
    "        if flowerbed[0] == 1 and n == 0 :\n",
    "            return True\n",
    "        elif flowerbed[0] == 0 and n <= 1:\n",
    "            return True\n",
    "        else :\n",
    "            return False\n",
    "\n",
    "    for i in range(len(flowerbed)) :\n",
    "        # 첫번째 요소일 경우 바로 뒤 인덱스만 고려하면 된다.\n",
    "        if i==0 :\n",
    "            if flowerbed[i]==0 and flowerbed[i+1]==0 :\n",
    "                flowerbed[i]=1\n",
    "                n-=1\n",
    "            continue\n",
    "        # 마지막 요소일 경우 바로 앞 인덱스만 고려하면 된다.\n",
    "        if i==len(flowerbed)-1 :\n",
    "            if flowerbed[i]==0 and flowerbed[i-1]==0 :\n",
    "                flowerbed[i]=1\n",
    "                n-=1\n",
    "            continue\n",
    "        # 앞 뒤 요소 모두 고려해야 한다\n",
    "        if flowerbed[i]==0:\n",
    "            if flowerbed[i-1] == 0 and flowerbed[i+1] == 0:\n",
    "                flowerbed[i]=1\n",
    "                n-=1\n",
    "    # n을 모두 소진하지 못한다면 False\n",
    "    return True if n<=0 else False\n"
   ]
  },
  {
   "cell_type": "code",
   "execution_count": 47,
   "metadata": {},
   "outputs": [
    {
     "name": "stdout",
     "output_type": "stream",
     "text": [
      "[1, 0, 1, 0, 1]\n"
     ]
    },
    {
     "data": {
      "text/plain": [
       "False"
      ]
     },
     "execution_count": 47,
     "metadata": {},
     "output_type": "execute_result"
    }
   ],
   "source": [
    "canPlaceFlowers([1,0,0,0,1],2)"
   ]
  },
  {
   "cell_type": "markdown",
   "metadata": {},
   "source": [
    "-----------"
   ]
  },
  {
   "cell_type": "markdown",
   "metadata": {},
   "source": [
    "## Easy. lemonade change\n",
    "https://leetcode.com/problems/lemonade-change/"
   ]
  },
  {
   "cell_type": "code",
   "execution_count": 31,
   "metadata": {},
   "outputs": [],
   "source": [
    "def lemonadeChange(bills) :\n",
    "\n",
    "    changeFive,changeTen = 0,0\n",
    "\n",
    "    for money in bills :\n",
    "        if money == 5 :\n",
    "            changeFive+=5\n",
    "        elif money == 10 :\n",
    "            if changeFive == 0 :\n",
    "                return False\n",
    "            changeTen+=10\n",
    "            changeFive-=5\n",
    "        else:\n",
    "            if changeTen>0 and changeFive>0:\n",
    "                changeTen-=10\n",
    "                changeFive-=5\n",
    "            elif changeFive >= 15 :\n",
    "                changeFive-=15\n",
    "            else :\n",
    "                return False\n",
    "\n",
    "    return True"
   ]
  },
  {
   "cell_type": "code",
   "execution_count": 32,
   "metadata": {},
   "outputs": [
    {
     "data": {
      "text/plain": [
       "False"
      ]
     },
     "execution_count": 32,
     "metadata": {},
     "output_type": "execute_result"
    }
   ],
   "source": [
    "lemonadeChange([5,5,10,10,20])"
   ]
  },
  {
   "cell_type": "markdown",
   "metadata": {},
   "source": [
    "## Medium. Valid Triangle Number \n",
    "https://leetcode.com/problems/valid-triangle-number/"
   ]
  },
  {
   "cell_type": "code",
   "execution_count": 59,
   "metadata": {},
   "outputs": [],
   "source": [
    "# 시간 초과\n",
    "def triangleNumber(nums) :\n",
    "    num=0\n",
    "    len_nums = len(nums)\n",
    "\n",
    "    for a in range(len_nums) :\n",
    "        for b in range(a+1,len_nums) :\n",
    "            for c in range(b+1,len_nums) :\n",
    "                if max([nums[a],nums[b],nums[c]])*2 < nums[a]+nums[b]+nums[c]:\n",
    "                    num+=1\n",
    "\n",
    "    return num"
   ]
  },
  {
   "cell_type": "code",
   "execution_count": 14,
   "metadata": {},
   "outputs": [],
   "source": [
    "# 투 포인터 사용\n",
    "def triangleNumber(nums) :\n",
    "    num=0\n",
    "    nums.sort()\n",
    "    \n",
    "    for idx in range(len(nums)) :\n",
    "        left,right=0,idx-1\n",
    "        while left < right :\n",
    "            if nums[left]+nums[right] > nums[idx] :\n",
    "                num+=right-left\n",
    "                right-=1\n",
    "            else :\n",
    "                left+=1\n",
    "            \n",
    "    return num"
   ]
  },
  {
   "cell_type": "code",
   "execution_count": 15,
   "metadata": {},
   "outputs": [
    {
     "data": {
      "text/plain": [
       "3"
      ]
     },
     "execution_count": 15,
     "metadata": {},
     "output_type": "execute_result"
    }
   ],
   "source": [
    "triangleNumber([2,3,4,5])"
   ]
  },
  {
   "cell_type": "code",
   "execution_count": null,
   "metadata": {},
   "outputs": [],
   "source": []
  },
  {
   "cell_type": "markdown",
   "metadata": {},
   "source": [
    "## Lv2. 구명보트\n",
    "https://school.programmers.co.kr/learn/courses/30/lessons/42885"
   ]
  },
  {
   "cell_type": "code",
   "execution_count": 12,
   "metadata": {},
   "outputs": [],
   "source": [
    "def solution(people, limit):\n",
    "    answer = 0\n",
    "    people.sort()\n",
    "    left,right=0,len(people)-1\n",
    "\n",
    "    while len(people) > 0 and left < right :\n",
    "        sum_weight = people[left]+people[right]\n",
    "        if sum_weight > limit :\n",
    "            right-=1\n",
    "            answer+=1\n",
    "        else :\n",
    "            left+=1\n",
    "            right-=1\n",
    "            answer+=1\n",
    "    if left==right:\n",
    "        answer+=1\n",
    "            \n",
    "    return answer"
   ]
  },
  {
   "cell_type": "code",
   "execution_count": 13,
   "metadata": {},
   "outputs": [
    {
     "data": {
      "text/plain": [
       "3"
      ]
     },
     "execution_count": 13,
     "metadata": {},
     "output_type": "execute_result"
    }
   ],
   "source": [
    "solution([70, 80, 50],100)"
   ]
  },
  {
   "cell_type": "code",
   "execution_count": null,
   "metadata": {},
   "outputs": [],
   "source": []
  },
  {
   "attachments": {},
   "cell_type": "markdown",
   "metadata": {},
   "source": [
    "## Medium. Max Area of Island\n",
    "https://leetcode.com/problems/max-area-of-island/"
   ]
  },
  {
   "cell_type": "code",
   "execution_count": 3,
   "metadata": {},
   "outputs": [],
   "source": [
    "def maxAreaOfIsland(grid) :\n",
    "    answer = 0\n",
    "\n",
    "    def dfs(i,j) :\n",
    "        if i<0 or j<0 or i>=len(grid) or j>=len(grid[0]) or grid[i][j]==0 :\n",
    "            return 0\n",
    "        grid[i][j]=0\n",
    "        return 1+dfs(i-1,j)+dfs(i,j-1)+dfs(i+1,j)+dfs(i,j+1)\n",
    "\n",
    "    for i in range(len(grid)) :\n",
    "        for j in range(len(grid[0])) :\n",
    "            if grid[i][j] == 1 :\n",
    "                answer = max(answer,dfs(i,j))\n",
    "\n",
    "    return answer\n"
   ]
  },
  {
   "cell_type": "code",
   "execution_count": 4,
   "metadata": {},
   "outputs": [
    {
     "data": {
      "text/plain": [
       "6"
      ]
     },
     "execution_count": 4,
     "metadata": {},
     "output_type": "execute_result"
    }
   ],
   "source": [
    "maxAreaOfIsland([[0,0,1,0,0,0,0,1,0,0,0,0,0],[0,0,0,0,0,0,0,1,1,1,0,0,0],[0,1,1,0,1,0,0,0,0,0,0,0,0],[0,1,0,0,1,1,0,0,1,0,1,0,0],[0,1,0,0,1,1,0,0,1,1,1,0,0],[0,0,0,0,0,0,0,0,0,0,1,0,0],[0,0,0,0,0,0,0,1,1,1,0,0,0],[0,0,0,0,0,0,0,1,1,0,0,0,0]])"
   ]
  },
  {
   "cell_type": "code",
   "execution_count": null,
   "metadata": {},
   "outputs": [],
   "source": []
  },
  {
   "cell_type": "code",
   "execution_count": null,
   "metadata": {},
   "outputs": [],
   "source": []
  },
  {
   "cell_type": "code",
   "execution_count": null,
   "metadata": {},
   "outputs": [],
   "source": []
  },
  {
   "cell_type": "code",
   "execution_count": null,
   "metadata": {},
   "outputs": [],
   "source": []
  },
  {
   "cell_type": "code",
   "execution_count": null,
   "metadata": {},
   "outputs": [],
   "source": []
  },
  {
   "cell_type": "code",
   "execution_count": null,
   "metadata": {},
   "outputs": [],
   "source": []
  }
 ],
 "metadata": {
  "kernelspec": {
   "display_name": "Python 3",
   "language": "python",
   "name": "python3"
  },
  "language_info": {
   "codemirror_mode": {
    "name": "ipython",
    "version": 3
   },
   "file_extension": ".py",
   "mimetype": "text/x-python",
   "name": "python",
   "nbconvert_exporter": "python",
   "pygments_lexer": "ipython3",
   "version": "3.7.6"
  }
 },
 "nbformat": 4,
 "nbformat_minor": 2
}
