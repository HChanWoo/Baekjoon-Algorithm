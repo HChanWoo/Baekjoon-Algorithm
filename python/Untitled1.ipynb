{
 "cells": [
  {
   "cell_type": "code",
   "execution_count": 5,
   "metadata": {},
   "outputs": [
    {
     "name": "stdout",
     "output_type": "stream",
     "text": [
      "0\n",
      "0\n",
      "0\n",
      "3\n"
     ]
    }
   ],
   "source": [
    "def solution(n, computers):\n",
    "    answer = 0\n",
    "    listA = [0]*n\n",
    "    listMax = [list(map(lambda x : x.count(1),computers))]\n",
    "    \n",
    "    for i in range(n) :\n",
    "        idx = listA.index(0)\n",
    "        print(idx)\n",
    "        for j in range(n) :\n",
    "            if computers[idx][j] == 1 :\n",
    "                listA[j]==1\n",
    "        answer+=1\n",
    "    return answer\n",
    "\n",
    "print(solution(3,[[1, 1, 0], [1, 1, 0], [0, 0, 1]]))"
   ]
  },
  {
   "cell_type": "code",
   "execution_count": 13,
   "metadata": {},
   "outputs": [
    {
     "name": "stdout",
     "output_type": "stream",
     "text": [
      "0\n",
      "[1, 1, 0]\n",
      "2\n",
      "[1, 1, 1]\n",
      "2\n"
     ]
    }
   ],
   "source": [
    "n,computers = 3,[[1, 1, 0], [1, 1, 1], [0, 1, 1]]\n",
    "\n",
    "answer = 0\n",
    "listA = [0]*n\n",
    "listMax = [list(map(lambda x : x.count(1),computers))]\n",
    "\n",
    "for i in range(n) :\n",
    "    if 0 not in listA :\n",
    "        break\n",
    "    idx = listA.index(0)\n",
    "    print(idx)\n",
    "    for j in range(n) :\n",
    "        if computers[idx][j] == 1 :\n",
    "            listA[j]=1\n",
    "    print(listA)\n",
    "    answer+=1\n",
    "    \n",
    "print(answer)"
   ]
  },
  {
   "cell_type": "code",
   "execution_count": 4,
   "metadata": {},
   "outputs": [
    {
     "name": "stdout",
     "output_type": "stream",
     "text": [
      "5\n",
      "3\n",
      "2\n",
      "0\n"
     ]
    },
    {
     "ename": "TypeError",
     "evalue": "'module' object is not iterable",
     "output_type": "error",
     "traceback": [
      "\u001b[1;31m---------------------------------------------------------------------------\u001b[0m",
      "\u001b[1;31mTypeError\u001b[0m                                 Traceback (most recent call last)",
      "\u001b[1;32m<ipython-input-4-46f832b8bac2>\u001b[0m in \u001b[0;36m<module>\u001b[1;34m\u001b[0m\n\u001b[0;32m     11\u001b[0m             \u001b[0mprint\u001b[0m\u001b[1;33m(\u001b[0m\u001b[1;36m0\u001b[0m\u001b[1;33m)\u001b[0m\u001b[1;33m\u001b[0m\u001b[1;33m\u001b[0m\u001b[0m\n\u001b[0;32m     12\u001b[0m         \u001b[1;32melse\u001b[0m \u001b[1;33m:\u001b[0m\u001b[1;33m\u001b[0m\u001b[1;33m\u001b[0m\u001b[0m\n\u001b[1;32m---> 13\u001b[1;33m             \u001b[0mprint\u001b[0m\u001b[1;33m(\u001b[0m\u001b[0mlist\u001b[0m\u001b[1;33m(\u001b[0m\u001b[0mheapq\u001b[0m\u001b[1;33m)\u001b[0m\u001b[1;33m)\u001b[0m\u001b[1;33m\u001b[0m\u001b[1;33m\u001b[0m\u001b[0m\n\u001b[0m\u001b[0;32m     14\u001b[0m             \u001b[0mprint\u001b[0m\u001b[1;33m(\u001b[0m\u001b[0mheapq\u001b[0m\u001b[1;33m.\u001b[0m\u001b[0mheappop\u001b[0m\u001b[1;33m(\u001b[0m\u001b[0mlist_heap\u001b[0m\u001b[1;33m)\u001b[0m\u001b[1;33m[\u001b[0m\u001b[1;36m1\u001b[0m\u001b[1;33m]\u001b[0m\u001b[1;33m)\u001b[0m\u001b[1;33m\u001b[0m\u001b[1;33m\u001b[0m\u001b[0m\n\u001b[0;32m     15\u001b[0m     \u001b[1;32melse\u001b[0m \u001b[1;33m:\u001b[0m\u001b[1;33m\u001b[0m\u001b[1;33m\u001b[0m\u001b[0m\n",
      "\u001b[1;31mTypeError\u001b[0m: 'module' object is not iterable"
     ]
    }
   ],
   "source": [
    "import heapq\n",
    "import sys\n",
    "\n",
    "len_cmd = int(input())\n",
    "list_heap=list()\n",
    "\n",
    "for i in range(len_cmd) :\n",
    "    cmd = int(input())\n",
    "    if cmd == 0 :\n",
    "        if len(list_heap) == 0 :\n",
    "            print(0)\n",
    "        else :\n",
    "            print(list(heapq))\n",
    "            print(heapq.heappop(list_heap)[1])\n",
    "    else :\n",
    "        num = int(input())\n",
    "        heapq.heappush(list_heap,(-num,num))"
   ]
  },
  {
   "cell_type": "code",
   "execution_count": 1,
   "metadata": {},
   "outputs": [
    {
     "name": "stdout",
     "output_type": "stream",
     "text": [
      "1\n"
     ]
    }
   ],
   "source": [
    "print(1)"
   ]
  },
  {
   "cell_type": "code",
   "execution_count": 3,
   "metadata": {},
   "outputs": [
    {
     "ename": "NameError",
     "evalue": "name 'hihi' is not defined",
     "output_type": "error",
     "traceback": [
      "\u001b[1;31m---------------------------------------------------------------------------\u001b[0m",
      "\u001b[1;31mNameError\u001b[0m                                 Traceback (most recent call last)",
      "\u001b[1;32m<ipython-input-3-5afc8a0b0b79>\u001b[0m in \u001b[0;36m<module>\u001b[1;34m\u001b[0m\n\u001b[1;32m----> 1\u001b[1;33m \u001b[0mprint\u001b[0m\u001b[1;33m(\u001b[0m\u001b[0mhihi\u001b[0m\u001b[1;33m)\u001b[0m\u001b[1;33m\u001b[0m\u001b[1;33m\u001b[0m\u001b[0m\n\u001b[0m",
      "\u001b[1;31mNameError\u001b[0m: name 'hihi' is not defined"
     ]
    }
   ],
   "source": [
    "print(hihi)"
   ]
  },
  {
   "cell_type": "code",
   "execution_count": 5,
   "metadata": {},
   "outputs": [
    {
     "data": {
      "text/plain": [
       "3"
      ]
     },
     "execution_count": 5,
     "metadata": {},
     "output_type": "execute_result"
    }
   ],
   "source": [
    "abs(-3)"
   ]
  },
  {
   "cell_type": "code",
   "execution_count": 7,
   "metadata": {
    "scrolled": true
   },
   "outputs": [
    {
     "name": "stdout",
     "output_type": "stream",
     "text": [
      "18\n",
      "-1\n",
      "1\n",
      "0\n",
      "-1\n",
      "0\n",
      "1\n",
      "0\n",
      "0\n",
      "1\n",
      "1\n",
      "-1\n",
      "-1\n",
      "2\n",
      "-2\n",
      "0\n",
      "-2\n",
      "0\n",
      "2\n",
      "0\n",
      "-1\n",
      "0\n",
      "-1\n",
      "0\n",
      "1\n",
      "0\n",
      "1\n",
      "0\n",
      "0\n"
     ]
    }
   ],
   "source": [
    "import heapq\n",
    "import sys\n",
    "\n",
    "len_cmd = int(input())\n",
    "list_heap=list()\n",
    "\n",
    "for i in range(len_cmd) :\n",
    "    cmd = int(input())\n",
    "    if cmd == 0 :\n",
    "        if len(list_heap) == 0 :\n",
    "            print(0)\n",
    "        else :\n",
    "            print(heapq.heappop(list_heap)[1])\n",
    "    else :\n",
    "        heapq.heappush(list_heap,(-abs(cmd),cmd))"
   ]
  },
  {
   "cell_type": "code",
   "execution_count": 9,
   "metadata": {},
   "outputs": [
    {
     "name": "stdout",
     "output_type": "stream",
     "text": [
      "5\n",
      "2\n",
      "1\n",
      "8\n",
      "3\n",
      "5\n"
     ]
    }
   ],
   "source": [
    "import heapq\n",
    "import sys\n",
    "\n",
    "len_cmd = int(input())\n",
    "list_heap=list()\n",
    "\n",
    "for i in range(len_cmd) :\n",
    "    cmd = int(input())\n",
    "    if cmd == 0 :\n",
    "        if len(list_heap) == 0 :\n",
    "            print(0)\n",
    "        else :\n",
    "            print(heapq.heappop(list_heap)[1])\n",
    "    else :\n",
    "        heapq.heappush(list_heap,(-abs(cmd),cmd))"
   ]
  },
  {
   "cell_type": "code",
   "execution_count": 15,
   "metadata": {},
   "outputs": [
    {
     "name": "stdout",
     "output_type": "stream",
     "text": [
      "[1, 5, 3, 7, 9]\n"
     ]
    }
   ],
   "source": [
    "import heapq\n",
    "heap_items = [1,5,3,7,9]\n",
    "\n",
    "max_heap = []\n",
    "for item in heap_items:\n",
    "  heapq.heappush(max_heap, item)\n",
    "\n",
    "print(max_heap)"
   ]
  },
  {
   "cell_type": "code",
   "execution_count": 16,
   "metadata": {},
   "outputs": [],
   "source": [
    "intA = '23 41 13 22 -3 24 -31 -11 -8 -7 3 5 103 211 -311 -45 -67 -73 -81 -99 -33 24 56'"
   ]
  },
  {
   "cell_type": "code",
   "execution_count": null,
   "metadata": {},
   "outputs": [],
   "source": []
  }
 ],
 "metadata": {
  "kernelspec": {
   "display_name": "Python 3",
   "language": "python",
   "name": "python3"
  },
  "language_info": {
   "codemirror_mode": {
    "name": "ipython",
    "version": 3
   },
   "file_extension": ".py",
   "mimetype": "text/x-python",
   "name": "python",
   "nbconvert_exporter": "python",
   "pygments_lexer": "ipython3",
   "version": "3.7.6"
  }
 },
 "nbformat": 4,
 "nbformat_minor": 4
}
