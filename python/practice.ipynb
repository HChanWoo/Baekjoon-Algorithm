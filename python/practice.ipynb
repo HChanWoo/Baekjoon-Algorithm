{
 "cells": [
  {
   "cell_type": "markdown",
   "metadata": {},
   "source": [
    "# 동적 계획법1 1149"
   ]
  },
  {
   "cell_type": "code",
   "execution_count": 2,
   "metadata": {},
   "outputs": [
    {
     "name": "stdout",
     "output_type": "stream",
     "text": [
      "6\n",
      "30 19 5\n",
      "64 77 64\n",
      "15 19 97\n",
      "4 71 57\n",
      "90 86 84\n",
      "93 32 91\n",
      "208\n"
     ]
    }
   ],
   "source": [
    "N = int(input())\n",
    "cost_list = []\n",
    "\n",
    "for _ in range(N) :\n",
    "    cost = list(map(int,input().split()))\n",
    "    cost_list.append(cost)\n",
    "\n",
    "sum_list = [[0]*3 for _ in range(N)]\n",
    "sum_list[0][0],sum_list[0][1],sum_list[0][2] = cost_list[0][0],cost_list[0][1],cost_list[0][2]\n",
    "\n",
    "for i in range(1,N) :\n",
    "    sum_list[i][0] = min(sum_list[i-1][1],sum_list[i-1][2]) + cost_list[i][0]\n",
    "    sum_list[i][1] = min(sum_list[i-1][0],sum_list[i-1][2]) + cost_list[i][1]\n",
    "    sum_list[i][2] = min(sum_list[i-1][0],sum_list[i-1][1]) + cost_list[i][2]\n",
    "    \n",
    "print(min(sum_list[N-1]))"
   ]
  },
  {
   "cell_type": "markdown",
   "metadata": {},
   "source": [
    "# 동적 계획법1 1932"
   ]
  },
  {
   "cell_type": "code",
   "execution_count": 14,
   "metadata": {},
   "outputs": [
    {
     "name": "stdout",
     "output_type": "stream",
     "text": [
      "5\n",
      "7\n",
      "3 8\n",
      "8 1 0\n",
      "2 7 4 4\n",
      "4 5 2 6 5\n",
      "[30]\n"
     ]
    }
   ],
   "source": [
    "N = int(input())\n",
    "\n",
    "arr_user = []\n",
    "\n",
    "for _ in range(N) :\n",
    "    input_list = list(map(int,input().split()))\n",
    "    arr_user.append(input_list)\n",
    "    \n",
    "list_sum = [[0]*(N-i) for i in range(N)]\n",
    "list_sum[0] = arr_user[N-1]\n",
    "    \n",
    "for i in range(1,N) :\n",
    "    for j in range(len(list_sum[i])) :\n",
    "        list_sum[i][j] = max(list_sum[i-1][j], list_sum[i-1][j+1]) + arr_user[N-i-1][j]\n",
    "\n",
    "print(list_sum[N-1][0])"
   ]
  },
  {
   "cell_type": "markdown",
   "metadata": {},
   "source": [
    "# 그리디 알고리즘 11047"
   ]
  },
  {
   "cell_type": "code",
   "execution_count": 30,
   "metadata": {},
   "outputs": [
    {
     "name": "stdout",
     "output_type": "stream",
     "text": [
      "10 4790\n",
      "1\n",
      "5\n",
      "10\n",
      "50\n",
      "100\n",
      "500\n",
      "1000\n",
      "5000\n",
      "10000\n",
      "50000\n",
      "12\n"
     ]
    }
   ],
   "source": [
    "coins, cost = input().split()\n",
    "coins = int(coins)\n",
    "cost = int(cost)\n",
    "\n",
    "cost_list = []\n",
    "for _ in range(coins) :\n",
    "    cost_list.append(int(input()))\n",
    "    \n",
    "cnt_coin = 0\n",
    "\n",
    "for price in cost_list[::-1] :\n",
    "    if cost == 0 :\n",
    "        break\n",
    "    cnt_coin+=(cost//price)\n",
    "    cost-=(price*(cost//price))\n",
    "\n",
    "print(cnt_coin)"
   ]
  },
  {
   "cell_type": "markdown",
   "metadata": {},
   "source": [
    "# 그리디 알고리즘 1931"
   ]
  },
  {
   "cell_type": "code",
   "execution_count": 23,
   "metadata": {},
   "outputs": [
    {
     "name": "stdout",
     "output_type": "stream",
     "text": [
      "11\n",
      "1 4\n",
      "3 5\n",
      "0 6\n",
      "5 7\n",
      "3 8\n",
      "5 9\n",
      "6 10\n",
      "8 11\n",
      "8 12\n",
      "2 13\n",
      "12 14\n",
      "[5, 7]\n",
      "[8, 11]\n",
      "[12, 14]\n"
     ]
    }
   ],
   "source": [
    "N = int(input())\n",
    "N_list = list()\n",
    "[N_list.append(list(map(int,input().split()))) for _ in range(N)]\n",
    "\n",
    "N_list2 = sorted(N_list,key=lambda x:(x[1],x[0]))\n",
    "\n",
    "cnt = 1\n",
    "end_time = N_list2[0][1]\n",
    "\n",
    "for i in range(1,len(N_list2)) :\n",
    "    if end_time <= N_list2[i][0] :\n",
    "        end_time = N_list2[i][1]\n",
    "        cnt+=1\n",
    "print(cnt)"
   ]
  },
  {
   "cell_type": "code",
   "execution_count": null,
   "metadata": {},
   "outputs": [],
   "source": []
  },
  {
   "cell_type": "code",
   "execution_count": null,
   "metadata": {},
   "outputs": [],
   "source": []
  },
  {
   "cell_type": "code",
   "execution_count": null,
   "metadata": {},
   "outputs": [],
   "source": []
  }
 ],
 "metadata": {
  "kernelspec": {
   "display_name": "Python 3",
   "language": "python",
   "name": "python3"
  },
  "language_info": {
   "codemirror_mode": {
    "name": "ipython",
    "version": 3
   },
   "file_extension": ".py",
   "mimetype": "text/x-python",
   "name": "python",
   "nbconvert_exporter": "python",
   "pygments_lexer": "ipython3",
   "version": "3.8.5"
  }
 },
 "nbformat": 4,
 "nbformat_minor": 4
}
