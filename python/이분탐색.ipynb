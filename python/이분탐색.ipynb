{
 "cells": [
  {
   "cell_type": "markdown",
   "metadata": {},
   "source": [
    "# 이분 탐색 1920"
   ]
  },
  {
   "cell_type": "code",
   "execution_count": 2,
   "metadata": {},
   "outputs": [
    {
     "name": "stdout",
     "output_type": "stream",
     "text": [
      "5\n",
      "4 1 2 5 3\n",
      "5\n",
      "1 3 7 9 5\n",
      "0\n",
      "0\n",
      "0\n",
      "0\n",
      "0\n"
     ]
    }
   ],
   "source": [
    "size_list = int(input())\n",
    "list_search = sorted(list(map(int,input().split())))\n",
    "size_target = int(input())\n",
    "list_target = list(map(int,input().split()))\n",
    "\n",
    "for target in list_target :\n",
    "    \n",
    "    start=0\n",
    "    end = size_list-1\n",
    "    while True :\n",
    "        if start<=end :\n",
    "            print(0)\n",
    "            break\n",
    "        \n",
    "        mid = (start+end)//2\n",
    "        \n",
    "        if list_search[mid] == target :\n",
    "            print(1)\n",
    "            break\n",
    "        elif list_search[mid] > target :\n",
    "            end = mid-1\n",
    "        else :\n",
    "            start = mid+1\n",
    "        "
   ]
  },
  {
   "cell_type": "markdown",
   "metadata": {},
   "source": [
    "# 이분탐색 10816"
   ]
  },
  {
   "cell_type": "code",
   "execution_count": 5,
   "metadata": {
    "scrolled": true
   },
   "outputs": [
    {
     "name": "stdout",
     "output_type": "stream",
     "text": [
      "10\n",
      "6 3 2 10 10 10 -10 -10 7 3\n",
      "8\n",
      "10 9 -5 2 3 4 5 -10\n",
      "3\n",
      "0\n",
      "0\n",
      "1\n",
      "2\n",
      "0\n",
      "0\n",
      "2\n"
     ]
    }
   ],
   "source": [
    "len_search = int(input())\n",
    "list_search = sorted(list(map(int,input().split())))\n",
    "len_target = int(input())\n",
    "list_target = list(map(int,input().split()))\n",
    "\n",
    "for target in list_target :\n",
    "    cnt=0\n",
    "    start = 0\n",
    "    end = len_search-1\n",
    "    \n",
    "    while True :\n",
    "        if start > end :\n",
    "            break\n",
    "            \n",
    "        mid = (start+end)//2\n",
    "        if list_search[mid] == target :\n",
    "            for i in range(mid,-1,-1) :\n",
    "                if list_search[i] != target :\n",
    "                    break\n",
    "                else :\n",
    "                    cnt+=1\n",
    "            for i in range(mid+1,len_search) :\n",
    "                if list_search[i] != target :\n",
    "                    break\n",
    "                else :\n",
    "                    cnt+=1\n",
    "            break\n",
    "        elif list_search[mid] > target :\n",
    "            end = mid-1\n",
    "        else :\n",
    "            start = mid+1\n",
    "            \n",
    "    print(cnt)"
   ]
  },
  {
   "cell_type": "markdown",
   "metadata": {},
   "source": [
    "# 이분탐색 1654 (21.12.29)"
   ]
  },
  {
   "cell_type": "code",
   "execution_count": 21,
   "metadata": {},
   "outputs": [
    {
     "name": "stdout",
     "output_type": "stream",
     "text": [
      "4 11\n",
      "802\n",
      "743\n",
      "457\n",
      "539\n"
     ]
    }
   ],
   "source": [
    "len_line,len_need = map(int,input().split())\n",
    "list_line = list()\n",
    "for i in range(len_line) :\n",
    "    list_line.append(int(input()))\n",
    "\n",
    "start=0\n",
    "end=max(list_line)\n",
    "while start<=end :\n",
    "    mid = (start+end)//2\n",
    "    count=sum(list(map(lambda x : x//mid, list_line)))\n",
    "    \n",
    "    if count >= len_need:\n",
    "        start = mid + 1\n",
    "    else:\n",
    "        end = mid - 1\n",
    "print(end)"
   ]
  },
  {
   "cell_type": "markdown",
   "metadata": {},
   "source": [
    "# 이분탐색 2805 (21.12.29)"
   ]
  },
  {
   "cell_type": "code",
   "execution_count": 1,
   "metadata": {},
   "outputs": [
    {
     "name": "stdout",
     "output_type": "stream",
     "text": [
      "4 7\n",
      "20 15 10 17\n"
     ]
    }
   ],
   "source": [
    "len_tree, len_target = map(int,input().split())\n",
    "list_tree = list(map(int,input().split()))"
   ]
  },
  {
   "cell_type": "code",
   "execution_count": null,
   "metadata": {},
   "outputs": [],
   "source": [
    "start=1\n",
    "end=max(list_tree)\n",
    "while start<=end :\n",
    "    mid=(start+end)//2\n",
    "    sum_tree = sum(list(map(lambda x:x-mid if x>=mid else 0,list_tree)))\n",
    "    if sum_tree >= len_target :\n",
    "        left=mid+1\n",
    "    else :\n",
    "        right=mid-1\n",
    "print(right)"
   ]
  },
  {
   "cell_type": "code",
   "execution_count": null,
   "metadata": {},
   "outputs": [],
   "source": []
  },
  {
   "cell_type": "code",
   "execution_count": null,
   "metadata": {},
   "outputs": [],
   "source": []
  }
 ],
 "metadata": {
  "kernelspec": {
   "display_name": "Python 3",
   "language": "python",
   "name": "python3"
  },
  "language_info": {
   "codemirror_mode": {
    "name": "ipython",
    "version": 3
   },
   "file_extension": ".py",
   "mimetype": "text/x-python",
   "name": "python",
   "nbconvert_exporter": "python",
   "pygments_lexer": "ipython3",
   "version": "3.8.5"
  }
 },
 "nbformat": 4,
 "nbformat_minor": 4
}
