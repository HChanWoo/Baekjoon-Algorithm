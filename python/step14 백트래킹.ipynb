{
 "cells": [
  {
   "cell_type": "markdown",
   "metadata": {},
   "source": [
    "# 백트래킹 15649 : N과 M (1) "
   ]
  },
  {
   "cell_type": "code",
   "execution_count": null,
   "metadata": {},
   "outputs": [],
   "source": [
    "import sys\n",
    "\n",
    "m,n = map(int,sys.stdin.readline().split())\n",
    "tmp_list=[]\n",
    "\n",
    "def f() :\n",
    "    if len(tmp_list)==n :\n",
    "        print(' '.join(map(str,tmp_list)))\n",
    "        return\n",
    "    for i in range(1,m+1) :\n",
    "        if i in tmp_list :\n",
    "            continue\n",
    "        tmp_list.append(i)\n",
    "        f()\n",
    "        tmp_list.pop()\n",
    "\n",
    "f()"
   ]
  },
  {
   "cell_type": "markdown",
   "metadata": {},
   "source": [
    "# 백트래킹 15650 : N과 M (2)"
   ]
  },
  {
   "cell_type": "code",
   "execution_count": null,
   "metadata": {},
   "outputs": [],
   "source": [
    "n,m = list(map(int,input().split()))\n",
    "s = []\n",
    "def dfs(start):\n",
    "    if len(s)==m:\n",
    "        print(' '.join(map(str,s)))\n",
    "        return\n",
    "    \n",
    "    for i in range(start,n+1):\n",
    "        if i not in s:\n",
    "            s.append(i)\n",
    "            dfs(i+1)\n",
    "            s.pop()\n",
    "dfs(1)"
   ]
  },
  {
   "cell_type": "markdown",
   "metadata": {},
   "source": [
    "# 백트래킹 15651 : N과 M (3)"
   ]
  },
  {
   "cell_type": "code",
   "execution_count": null,
   "metadata": {},
   "outputs": [],
   "source": [
    "import sys\n",
    "\n",
    "m,n = map(int,sys.stdin.readline().split())\n",
    "tmp_list = []\n",
    "\n",
    "def f() :\n",
    "    if len(tmp_list) == n :\n",
    "        print(' '.join(map(str,tmp_list)))\n",
    "        return\n",
    "    for i in range(1,m+1) :\n",
    "        tmp_list.append(i)\n",
    "        f()\n",
    "        tmp_list.pop()\n",
    "\n",
    "f()"
   ]
  },
  {
   "cell_type": "markdown",
   "metadata": {},
   "source": [
    "# 백트래킹 15652 : N과 M (4)"
   ]
  },
  {
   "cell_type": "code",
   "execution_count": null,
   "metadata": {},
   "outputs": [],
   "source": [
    "# 백트래킹 15649 : N과 M (1) import sys\n",
    "\n",
    "m,n = map(int,sys.stdin.readline().split())\n",
    "tmp_list = []\n",
    "\n",
    "def f(start) :\n",
    "    if len(tmp_list) == n :\n",
    "        print(' '.join(map(str,tmp_list)))\n",
    "        return\n",
    "    for i in range(start,m+1) :\n",
    "        tmp_list.append(i)\n",
    "        f(i)\n",
    "        tmp_list.pop()\n",
    "        \n",
    "f(1)"
   ]
  },
  {
   "cell_type": "markdown",
   "metadata": {},
   "source": [
    "# 백트래킹 15649 : N과 M (1) (22.01.04)"
   ]
  },
  {
   "cell_type": "code",
   "execution_count": 2,
   "metadata": {},
   "outputs": [
    {
     "name": "stdout",
     "output_type": "stream",
     "text": [
      "4 4\n",
      "1 2 3 4\n",
      "1 2 4 3\n",
      "1 3 2 4\n",
      "1 3 4 2\n",
      "1 4 2 3\n",
      "1 4 3 2\n",
      "2 1 3 4\n",
      "2 1 4 3\n",
      "2 3 1 4\n",
      "2 3 4 1\n",
      "2 4 1 3\n",
      "2 4 3 1\n",
      "3 1 2 4\n",
      "3 1 4 2\n",
      "3 2 1 4\n",
      "3 2 4 1\n",
      "3 4 1 2\n",
      "3 4 2 1\n",
      "4 1 2 3\n",
      "4 1 3 2\n",
      "4 2 1 3\n",
      "4 2 3 1\n",
      "4 3 1 2\n",
      "4 3 2 1\n"
     ]
    }
   ],
   "source": [
    "N,L = map(int,input().split())\n",
    "tmp_list = []\n",
    "\n",
    "def f() :\n",
    "    if len(tmp_list) == L :\n",
    "        print(' '.join(map(str,tmp_list)))\n",
    "        return\n",
    "    for idx in range(1,N+1) :\n",
    "        if idx in tmp_list :\n",
    "            continue \n",
    "        tmp_list.append(idx)\n",
    "        f()\n",
    "        tmp_list.pop()\n",
    "\n",
    "f()"
   ]
  },
  {
   "cell_type": "markdown",
   "metadata": {},
   "source": [
    "# 백트래킹 15650 : N과 M (2) (22.01.04)"
   ]
  },
  {
   "cell_type": "code",
   "execution_count": 8,
   "metadata": {
    "scrolled": true
   },
   "outputs": [
    {
     "name": "stdout",
     "output_type": "stream",
     "text": [
      "4 4\n",
      "1 2 3 4\n"
     ]
    }
   ],
   "source": [
    "N,L = map(int,input().split())\n",
    "tmp_list = []\n",
    "\n",
    "def f() :\n",
    "    if len(tmp_list) == L :\n",
    "        print(' '.join(map(str,tmp_list)))\n",
    "        return\n",
    "    for idx in range(1,N+1) :\n",
    "        if len(tmp_list) != 0 and tmp_list[-1] >= idx:\n",
    "            continue \n",
    "        tmp_list.append(idx)\n",
    "        f()\n",
    "        tmp_list.pop()\n",
    "\n",
    "f()"
   ]
  },
  {
   "cell_type": "markdown",
   "metadata": {},
   "source": [
    "# 백트래킹 15651 : N과 M (3) (22.01.04)"
   ]
  },
  {
   "cell_type": "code",
   "execution_count": 9,
   "metadata": {},
   "outputs": [
    {
     "name": "stdout",
     "output_type": "stream",
     "text": [
      "3 3\n",
      "1 1 1\n",
      "1 1 2\n",
      "1 1 3\n",
      "1 2 1\n",
      "1 2 2\n",
      "1 2 3\n",
      "1 3 1\n",
      "1 3 2\n",
      "1 3 3\n",
      "2 1 1\n",
      "2 1 2\n",
      "2 1 3\n",
      "2 2 1\n",
      "2 2 2\n",
      "2 2 3\n",
      "2 3 1\n",
      "2 3 2\n",
      "2 3 3\n",
      "3 1 1\n",
      "3 1 2\n",
      "3 1 3\n",
      "3 2 1\n",
      "3 2 2\n",
      "3 2 3\n",
      "3 3 1\n",
      "3 3 2\n",
      "3 3 3\n"
     ]
    }
   ],
   "source": [
    "N,L = map(int,input().split())\n",
    "tmp_list = []\n",
    "\n",
    "def f() :\n",
    "    if len(tmp_list) == L :\n",
    "        print(' '.join(map(str,tmp_list)))\n",
    "        return\n",
    "    for idx in range(1,N+1) :\n",
    "        tmp_list.append(idx)\n",
    "        f()\n",
    "        tmp_list.pop()\n",
    "\n",
    "f()"
   ]
  },
  {
   "cell_type": "markdown",
   "metadata": {},
   "source": [
    "# 백트래킹 15652 : N과 M (4) (22.01.04)"
   ]
  },
  {
   "cell_type": "code",
   "execution_count": 13,
   "metadata": {},
   "outputs": [
    {
     "name": "stdout",
     "output_type": "stream",
     "text": [
      "4 2\n",
      "1 1\n",
      "1 2\n",
      "1 3\n",
      "1 4\n",
      "2 2\n",
      "2 3\n",
      "2 4\n",
      "3 3\n",
      "3 4\n",
      "4 4\n"
     ]
    }
   ],
   "source": [
    "N,L = map(int,input().split())\n",
    "tmp_list = []\n",
    "\n",
    "def f() :\n",
    "    if len(tmp_list) == L :\n",
    "        print(' '.join(map(str,tmp_list)))\n",
    "        return\n",
    "    for idx in range(1,N+1) :\n",
    "        if len(tmp_list) != 0 and idx<tmp_list[-1] :\n",
    "            continue\n",
    "        tmp_list.append(idx)\n",
    "        f()\n",
    "        tmp_list.pop()\n",
    "\n",
    "f()"
   ]
  },
  {
   "cell_type": "markdown",
   "metadata": {},
   "source": [
    "# 백트래킹 9663 : N-Queen (22.01.04)"
   ]
  },
  {
   "cell_type": "code",
   "execution_count": 36,
   "metadata": {},
   "outputs": [
    {
     "name": "stdout",
     "output_type": "stream",
     "text": [
      "8\n",
      "92\n"
     ]
    }
   ],
   "source": [
    "L = int(input())\n",
    "tmp_list = list()\n",
    "case = 0\n",
    "\n",
    "def f() :\n",
    "    if len(tmp_list) == L :\n",
    "        global case\n",
    "        case+=1\n",
    "        return\n",
    "    for idx in range(L) :\n",
    "        if idx in tmp_list :\n",
    "            continue\n",
    "        y_continue=0\n",
    "        len_list = len(tmp_list)\n",
    "        for idx2 in range(len_list) :\n",
    "            if abs(tmp_list[idx2]-idx) == len_list-idx2 :\n",
    "                y_continue=1\n",
    "                break\n",
    "        if y_continue==1 :\n",
    "            continue\n",
    "        tmp_list.append(idx)\n",
    "        f()\n",
    "        tmp_list.pop()\n",
    "f()\n",
    "print(case)"
   ]
  },
  {
   "cell_type": "markdown",
   "metadata": {},
   "source": [
    "# 백트래킹 2580 : 스도쿠 (22.01.04)"
   ]
  },
  {
   "cell_type": "code",
   "execution_count": 6,
   "metadata": {},
   "outputs": [
    {
     "name": "stdout",
     "output_type": "stream",
     "text": [
      "1 3 5 4 6 9 2 7 8\n",
      "7 8 2 1 3 5 6 4 9\n",
      "4 6 9 2 7 8 1 3 5\n",
      "3 2 1 5 4 6 8 9 7\n",
      "8 7 4 9 1 3 5 2 6\n",
      "5 9 6 8 2 7 4 1 3\n",
      "9 1 7 6 5 2 3 8 4\n",
      "6 4 3 7 8 1 9 5 2\n",
      "2 5 8 3 9 4 7 6 1\n"
     ]
    }
   ],
   "source": [
    "list_origin = [list(map(int,input().split())) for i in range(9)]\n",
    "list_zero = [(i,j) for i in range(9) for j in range(9) if list_origin[i][j]==0]\n",
    "tmp_list=[]\n",
    "def check(i,j) :\n",
    "    list_return= [1,2,3,4,5,6,7,8,9]\n",
    "    for idx in range(9) :\n",
    "        if list_origin[i][idx] in list_return :\n",
    "            list_return.remove(list_origin[i][idx])\n",
    "        if list_origin[idx][j] in list_return :\n",
    "            list_return.remove(list_origin[idx][j])\n",
    "    i=(i//3)*3\n",
    "    j=(j//3)*3\n",
    "    \n",
    "    for idx1 in range(i,i+3) :\n",
    "        for idx2 in range(j,j+3) :\n",
    "            if list_origin[i][j] in list_return : \n",
    "                list_return.remove(list_origin[i][j])\n",
    "        \n",
    "    return list_return\n",
    "\n",
    "flag = False\n",
    "def f(x) :\n",
    "    global flag\n",
    "    if flag :\n",
    "        return\n",
    "    \n",
    "    if x == len(list_zero) :\n",
    "        for row in list_origin :\n",
    "            print(*row)\n",
    "        flag=True\n",
    "        return\n",
    "    \n",
    "    else :\n",
    "        (i, j) = list_zero[x]\n",
    "        list_check = check(i, j)\n",
    "\n",
    "        for num in list_check:\n",
    "            list_origin[i][j] = num\n",
    "            f(x + 1)\n",
    "            list_origin[i][j] = 0\n",
    "    \n",
    "f(0)"
   ]
  },
  {
   "cell_type": "markdown",
   "metadata": {},
   "source": [
    "# 백트래킹 14888 : 연산자 끼워넣기 (22.01.04)"
   ]
  },
  {
   "cell_type": "code",
   "execution_count": 19,
   "metadata": {},
   "outputs": [
    {
     "name": "stdout",
     "output_type": "stream",
     "text": [
      "2\n",
      "5 6\n",
      "0 0 1 0\n"
     ]
    }
   ],
   "source": [
    "len_input = int(input())\n",
    "list_input = list(map(int,input().split()))\n",
    "list_oper = list(map(int,input().split()))\n",
    "list_oper = sum([[idx]*list_oper[idx] for idx in range(4) if list_oper[idx]!=0],[])\n",
    "\n",
    "tmp_list = []\n",
    "def f() :\n",
    "    if len(tmp_list) == len(list_oper) :\n",
    "        tmp_sum = list_input[0]\n",
    "        for idx in range(len(list_oper)) :\n",
    "            if list_oper[idx] == 0 :\n",
    "                tmp_sum+=list_input[idx+1]\n",
    "            elif list_oper[idx] == 1 :\n",
    "                tmp_sum-=list_input[idx+1]\n",
    "            elif list_oper[idx] == 2 :\n",
    "                tmp_sum*=list_input[idx+1]\n",
    "            else :\n",
    "                if tmp_sum<0 :\n",
    "                    tmp_sum=-(-tmp_sum//list_input[idx+1])\n",
    "                tmp_sum//=list_input[idx+1]\n",
    "    for i in list_oper :\n",
    "        tmp_list"
   ]
  },
  {
   "cell_type": "code",
   "execution_count": 20,
   "metadata": {},
   "outputs": [
    {
     "data": {
      "text/plain": [
       "[2]"
      ]
     },
     "execution_count": 20,
     "metadata": {},
     "output_type": "execute_result"
    }
   ],
   "source": [
    "list_oper"
   ]
  },
  {
   "cell_type": "code",
   "execution_count": null,
   "metadata": {},
   "outputs": [],
   "source": []
  },
  {
   "cell_type": "code",
   "execution_count": 25,
   "metadata": {},
   "outputs": [
    {
     "data": {
      "text/plain": [
       "-1"
      ]
     },
     "execution_count": 25,
     "metadata": {},
     "output_type": "execute_result"
    }
   ],
   "source": [
    "-(3//2)"
   ]
  },
  {
   "cell_type": "code",
   "execution_count": null,
   "metadata": {},
   "outputs": [],
   "source": []
  },
  {
   "cell_type": "code",
   "execution_count": null,
   "metadata": {},
   "outputs": [],
   "source": []
  },
  {
   "cell_type": "code",
   "execution_count": null,
   "metadata": {},
   "outputs": [],
   "source": []
  }
 ],
 "metadata": {
  "kernelspec": {
   "display_name": "Python 3",
   "language": "python",
   "name": "python3"
  },
  "language_info": {
   "codemirror_mode": {
    "name": "ipython",
    "version": 3
   },
   "file_extension": ".py",
   "mimetype": "text/x-python",
   "name": "python",
   "nbconvert_exporter": "python",
   "pygments_lexer": "ipython3",
   "version": "3.8.5"
  }
 },
 "nbformat": 4,
 "nbformat_minor": 4
}
