{
 "cells": [
  {
   "cell_type": "markdown",
   "metadata": {},
   "source": [
    "# 정수론 및 조합론 1676"
   ]
  },
  {
   "cell_type": "code",
   "execution_count": null,
   "metadata": {},
   "outputs": [],
   "source": [
    "num = int(input())\n",
    "print(num//5+num//25+num//125)"
   ]
  },
  {
   "cell_type": "markdown",
   "metadata": {},
   "source": [
    "# 정수론 및 조합론 2004"
   ]
  },
  {
   "cell_type": "code",
   "execution_count": null,
   "metadata": {},
   "outputs": [],
   "source": [
    "# n,m = map(int,input().split())\n",
    "\n",
    "# fact_list = [1 for _ in range(n)]\n",
    "# for i in range(1,n) :\n",
    "#     fact_list[i] = (i+1)*fact_list[i-1]\n",
    "\n",
    "# list_div = [5]\n",
    "# idx=0\n",
    "# while True :\n",
    "#     if list_div[idx]*5 > 2000000000 :\n",
    "#         break\n",
    "#     list_div.append(list_div[idx]*5)\n",
    "#     idx+=1\n",
    "    \n",
    "# bino = fact_list[n-1]//(fact_list[m-n-1]*fact_list[m-1])\n",
    "\n",
    "# cnt=0\n",
    "# for i in list_div :\n",
    "#     print(i)\n",
    "#     cnt+=(bino//i)\n",
    "\n",
    "# print(cnt)"
   ]
  },
  {
   "cell_type": "markdown",
   "metadata": {},
   "source": [
    "# 스택 10828"
   ]
  },
  {
   "cell_type": "code",
   "execution_count": null,
   "metadata": {},
   "outputs": [],
   "source": [
    "stack_list = []\n",
    "tmp_cnt = int(input())\n",
    "\n",
    "for _ in range(tmp_cnt) :\n",
    "    cmd = input().split()\n",
    "    \n",
    "    if cmd[0] == 'push' :\n",
    "        stack_list.append(int(cmd[1]))\n",
    "        \n",
    "    elif cmd[0] == 'pop' :\n",
    "        if len(stack_list) == 0 :\n",
    "            print(-1)\n",
    "        else :\n",
    "            print(stack_list.pop())\n",
    "        \n",
    "    elif cmd[0] == 'size' :\n",
    "        print(len(stack_list))\n",
    "        \n",
    "    elif cmd[0] == 'empty' :\n",
    "        if len(stack_list) == 0 :\n",
    "            print(1)\n",
    "        else :\n",
    "            print(0)\n",
    "        \n",
    "    else :\n",
    "        if len(stack_list) == 0 :\n",
    "            print(-1)\n",
    "        else :\n",
    "            print(stack_list[len(stack_list)-1])\n",
    "    "
   ]
  },
  {
   "cell_type": "markdown",
   "metadata": {},
   "source": [
    "# 스택 10773"
   ]
  },
  {
   "cell_type": "code",
   "execution_count": null,
   "metadata": {},
   "outputs": [],
   "source": [
    "tmp_cnt = int(input())\n",
    "stack_list = []\n",
    "\n",
    "for i in range(tmp_cnt) :\n",
    "    input_ = int(input())\n",
    "    \n",
    "    if input_ == 0 :\n",
    "        stack_list.pop()\n",
    "    else :\n",
    "        stack_list.append(input_)\n",
    "        \n",
    "print(sum(stack_list))"
   ]
  },
  {
   "cell_type": "markdown",
   "metadata": {},
   "source": [
    "# 스택 9012"
   ]
  },
  {
   "cell_type": "code",
   "execution_count": null,
   "metadata": {},
   "outputs": [],
   "source": [
    "tmp_cnt = int(input())\n",
    "\n",
    "for _ in range(tmp_cnt) :\n",
    "    stack_list = []\n",
    "    input_ = input()\n",
    "    correct = 1\n",
    "    \n",
    "    for i in input_ :\n",
    "        if i == ')' :\n",
    "            if len(stack_list) == 0 or stack_list.pop() != '(' :\n",
    "                correct=0\n",
    "                break\n",
    "        else :\n",
    "            stack_list.append('(')\n",
    "            \n",
    "    if correct == 1 and len(stack_list) == 0 :\n",
    "        print('YES')\n",
    "    else :\n",
    "        print('NO')"
   ]
  },
  {
   "cell_type": "markdown",
   "metadata": {},
   "source": [
    "# 스택 4949"
   ]
  },
  {
   "cell_type": "code",
   "execution_count": null,
   "metadata": {},
   "outputs": [],
   "source": [
    "while True :\n",
    "    list_input = input()\n",
    "    \n",
    "    if list_input == '.' :\n",
    "        break\n",
    "    \n",
    "    list_stack = []\n",
    "    log = 1\n",
    "    \n",
    "    for i in list_input :\n",
    "        if i == '[' or i == '(' :\n",
    "            list_stack.append(i)\n",
    "        \n",
    "        elif list_stack and (i == ']' or i == ')') :\n",
    "            if i == ']' and list_stack[-1] == '[' :\n",
    "                list_stack.pop()\n",
    "            elif i == ')' and list_stack[-1] == '(' :\n",
    "                list_stack.pop()\n",
    "            else :\n",
    "                log=0\n",
    "                break\n",
    "                \n",
    "        elif not list_stack and (i == ']' or i == ')') :\n",
    "            log=0\n",
    "            break\n",
    "                \n",
    "    if log and len(list_stack)==0 :\n",
    "        print('yes')\n",
    "    else :\n",
    "        print('no')"
   ]
  },
  {
   "cell_type": "markdown",
   "metadata": {},
   "source": [
    "# 큐 18258"
   ]
  },
  {
   "cell_type": "code",
   "execution_count": 2,
   "metadata": {},
   "outputs": [
    {
     "name": "stdout",
     "output_type": "stream",
     "text": [
      "15\n",
      "push 1\n",
      "push 2\n",
      "front\n",
      "1\n",
      "back\n",
      "2\n",
      "size\n",
      "2\n",
      "empty\n",
      "0\n",
      "pop\n",
      "1\n",
      "pop\n",
      "2\n",
      "pop\n",
      "-1\n",
      "size\n",
      "0\n",
      "empty\n",
      "1\n",
      "pop\n",
      "-1\n",
      "push 3\n",
      "empty\n",
      "0\n",
      "front\n",
      "3\n"
     ]
    }
   ],
   "source": [
    "tmp_cnt = int(input())\n",
    "queue = []\n",
    "\n",
    "for _ in range(tmp_cnt) :\n",
    "    tmp_input = input().split()\n",
    "    \n",
    "    if tmp_input[0] == 'push' :\n",
    "        queue.append(tmp_input[1])\n",
    "        \n",
    "    elif tmp_input[0] == 'pop' :\n",
    "        if len(queue) == 0 :\n",
    "            print(-1)\n",
    "        else :\n",
    "            print(queue.pop(0))\n",
    "        \n",
    "    elif tmp_input[0] == 'size' :\n",
    "        print(len(queue))\n",
    "        \n",
    "    elif tmp_input[0] == 'empty' :\n",
    "        if len(queue) == 0 :\n",
    "            print(1)\n",
    "        else :\n",
    "            print(0)\n",
    "        \n",
    "    elif tmp_input[0] == 'front' :\n",
    "        if len(queue) == 0 :\n",
    "            print(-1)\n",
    "        else :\n",
    "            print(queue[0])\n",
    "        \n",
    "    else :\n",
    "        if len(queue) == 0 :\n",
    "            print(-1)\n",
    "        else :\n",
    "            print(queue[-1])\n",
    "        "
   ]
  },
  {
   "cell_type": "markdown",
   "metadata": {},
   "source": [
    "# 큐 2164"
   ]
  },
  {
   "cell_type": "markdown",
   "metadata": {},
   "source": [
    "### from collections import deque\n",
    "\n",
    "card_cnt = int(input())\n",
    "\n",
    "queue = deque([i for i in range(1,card_cnt+1)[::-1]])\n",
    "\n",
    "while True :\n",
    "    if len(queue) == 1 :\n",
    "        print(queue[0])\n",
    "        break\n",
    "    queue.pop()\n",
    "    queue.appendleft(queue.pop())"
   ]
  },
  {
   "cell_type": "markdown",
   "metadata": {},
   "source": [
    "# 큐 11866"
   ]
  },
  {
   "cell_type": "code",
   "execution_count": 6,
   "metadata": {},
   "outputs": [
    {
     "name": "stdout",
     "output_type": "stream",
     "text": [
      "7 3\n",
      ", 3\n",
      ", 4\n",
      ", 5\n",
      ", 6\n",
      ", 7\n",
      ", 1\n",
      ", 2>\n"
     ]
    }
   ],
   "source": [
    "from collections import deque\n",
    "\n",
    "people,target = map(int,input().split())\n",
    "listP = deque([i for i in range(1,people+1)])\n",
    "\n",
    "print('<',end='')\n",
    "while listP :\n",
    "    \n",
    "    for i in range(target-1) :\n",
    "        listP.append(listP.popleft())\n",
    "    print(s.popleft(), end='')\n",
    "    \n",
    "    if s:\n",
    "        print(', ', end='')\n",
    "        \n",
    "print('>')"
   ]
  },
  {
   "cell_type": "code",
   "execution_count": null,
   "metadata": {},
   "outputs": [],
   "source": []
  },
  {
   "cell_type": "code",
   "execution_count": null,
   "metadata": {},
   "outputs": [],
   "source": []
  },
  {
   "cell_type": "code",
   "execution_count": null,
   "metadata": {},
   "outputs": [],
   "source": []
  },
  {
   "cell_type": "code",
   "execution_count": null,
   "metadata": {},
   "outputs": [],
   "source": []
  },
  {
   "cell_type": "code",
   "execution_count": null,
   "metadata": {},
   "outputs": [],
   "source": []
  },
  {
   "cell_type": "code",
   "execution_count": null,
   "metadata": {},
   "outputs": [],
   "source": []
  },
  {
   "cell_type": "code",
   "execution_count": null,
   "metadata": {},
   "outputs": [],
   "source": []
  }
 ],
 "metadata": {
  "kernelspec": {
   "display_name": "Python 3",
   "language": "python",
   "name": "python3"
  },
  "language_info": {
   "codemirror_mode": {
    "name": "ipython",
    "version": 3
   },
   "file_extension": ".py",
   "mimetype": "text/x-python",
   "name": "python",
   "nbconvert_exporter": "python",
   "pygments_lexer": "ipython3",
   "version": "3.8.5"
  }
 },
 "nbformat": 4,
 "nbformat_minor": 4
}
