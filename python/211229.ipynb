{
 "cells": [
  {
   "cell_type": "markdown",
   "metadata": {},
   "source": [
    "# 이분탐색 1654"
   ]
  },
  {
   "cell_type": "code",
   "execution_count": 21,
   "metadata": {},
   "outputs": [
    {
     "name": "stdout",
     "output_type": "stream",
     "text": [
      "4 11\n",
      "802\n",
      "743\n",
      "457\n",
      "539\n"
     ]
    }
   ],
   "source": [
    "len_line,len_need = map(int,input().split())\n",
    "list_line = list()\n",
    "for i in range(len_line) :\n",
    "    list_line.append(int(input()))\n",
    "\n",
    "start=0\n",
    "end=max(list_line)\n",
    "while start<=end :\n",
    "    mid = (start+end)//2\n",
    "    count=sum(list(map(lambda x : x//mid, list_line)))\n",
    "    \n",
    "    if count >= len_need:\n",
    "        start = mid + 1\n",
    "    else:\n",
    "        end = mid - 1\n",
    "print(end)"
   ]
  },
  {
   "cell_type": "markdown",
   "metadata": {},
   "source": [
    "# 이분탐색 2805"
   ]
  },
  {
   "cell_type": "code",
   "execution_count": 1,
   "metadata": {},
   "outputs": [
    {
     "name": "stdout",
     "output_type": "stream",
     "text": [
      "4 7\n",
      "20 15 10 17\n"
     ]
    }
   ],
   "source": [
    "len_tree, len_target = map(int,input().split())\n",
    "list_tree = list(map(int,input().split()))"
   ]
  },
  {
   "cell_type": "code",
   "execution_count": null,
   "metadata": {},
   "outputs": [],
   "source": [
    "start=1\n",
    "end=max(list_tree)\n",
    "while start<=end :\n",
    "    mid=(start+end)//2\n",
    "    sum_tree = sum(list(map(lambda x:x-mid if x>=mid else 0,list_tree)))\n",
    "    if sum_tree >= len_target :\n",
    "        left=mid+1\n",
    "    else :\n",
    "        right=mid-1\n",
    "print(right)"
   ]
  },
  {
   "cell_type": "markdown",
   "metadata": {},
   "source": [
    "# 동적계획법1 1003"
   ]
  },
  {
   "cell_type": "code",
   "execution_count": 3,
   "metadata": {},
   "outputs": [],
   "source": [
    "list1 = [[1,0],[0,1]]\n",
    "for i in range(2,40) :\n",
    "    list1.append([(list1[i-2][0]+list1[i-1][0]), (list1[i-2][1]+list1[i-1][1]) ])"
   ]
  },
  {
   "cell_type": "code",
   "execution_count": 8,
   "metadata": {},
   "outputs": [
    {
     "name": "stdout",
     "output_type": "stream",
     "text": [
      "2\n",
      "6\n",
      "5 8\n",
      "22\n",
      "10946 17711\n"
     ]
    }
   ],
   "source": [
    "list1 = [[1,0],[0,1]]\n",
    "for i in range(2,40) :\n",
    "    list1.append([(list1[i-2][0]+list1[i-1][0]), (list1[i-2][1]+list1[i-1][1]) ])\n",
    "len_cmd = int(input())\n",
    "for i in range(len_cmd) :\n",
    "    cur_idx = int(input())\n",
    "    print(list1[cur_idx][0],list1[cur_idx][1])"
   ]
  },
  {
   "cell_type": "markdown",
   "metadata": {},
   "source": [
    "# 동적계획법 9184"
   ]
  },
  {
   "cell_type": "code",
   "execution_count": 2,
   "metadata": {},
   "outputs": [
    {
     "name": "stdout",
     "output_type": "stream",
     "text": [
      "50 50 50\n",
      "w(50, 50, 50) = 1048576\n",
      "-1 7 8\n",
      "w(-1, 7, 8) = 1\n",
      "-1 -1 -1\n"
     ]
    }
   ],
   "source": [
    "def w(a,b,c) :\n",
    "    if a<=0 or b<=0 or c<=0 :\n",
    "        return 1\n",
    "    if a>20 or b>20 or c>20 :\n",
    "        return w(20,20,20)\n",
    "    if list_db[a][b][c] :\n",
    "        return list_db[a][b][c]\n",
    "    if a<b and b<c :\n",
    "        list_db[a][b][c] = w(a, b, c-1) + w(a, b-1, c-1) - w(a, b-1, c)\n",
    "        return list_db[a][b][c]\n",
    "    list_db[a][b][c] = w(a-1,b,c) + w(a-1,b-1,c) + w(a-1,b,c-1) - w(a-1,b-1,c-1)\n",
    "    return list_db[a][b][c]\n",
    "\n",
    "list_db = [[[0]*21 for _ in range(21)] for _ in range(21)]\n",
    "    \n",
    "while True :\n",
    "    a,b,c = map(int,input().split())\n",
    "    if a==-1 and b==-1 and c==-1 :\n",
    "        break\n",
    "    print('w(%d, %d, %d) = %d'%(a,b,c,w(a,b,c)))"
   ]
  },
  {
   "cell_type": "markdown",
   "metadata": {},
   "source": [
    "# 동적계획법1 1904"
   ]
  },
  {
   "cell_type": "code",
   "execution_count": 16,
   "metadata": {},
   "outputs": [
    {
     "name": "stdout",
     "output_type": "stream",
     "text": [
      "4\n",
      "5\n"
     ]
    }
   ],
   "source": [
    "list_binary = [0]*1000000\n",
    "input_num = int(input())\n",
    "list_binary[0] = 1\n",
    "list_binary[1] = 2\n",
    "\n",
    "for idx in range(2,input_num) :\n",
    "    list_binary[idx] = (list_binary[idx-1]+list_binary[idx-2])%15746\n",
    "\n",
    "print(list_binary[input_num-1])"
   ]
  },
  {
   "cell_type": "markdown",
   "metadata": {},
   "source": [
    "# 동적계획법1 9461"
   ]
  },
  {
   "cell_type": "code",
   "execution_count": 5,
   "metadata": {},
   "outputs": [
    {
     "name": "stdout",
     "output_type": "stream",
     "text": [
      "2\n",
      "6\n",
      "3\n",
      "12\n",
      "16\n"
     ]
    }
   ],
   "source": [
    "list_triangle = [0]*100\n",
    "len_input = int(input())\n",
    "list_triangle[0]=1\n",
    "list_triangle[1]=1\n",
    "list_triangle[2]=1\n",
    "\n",
    "for _ in range(len_input) :\n",
    "    tmp_input = int(input())\n",
    "    for idx in range(3,tmp_input) :\n",
    "        list_triangle[idx] = list_triangle[idx-2]+list_triangle[idx-3]\n",
    "    print(list_triangle[tmp_input-1])"
   ]
  },
  {
   "cell_type": "markdown",
   "metadata": {},
   "source": [
    "# 동적계획법1 1149"
   ]
  },
  {
   "cell_type": "code",
   "execution_count": null,
   "metadata": {},
   "outputs": [],
   "source": []
  },
  {
   "cell_type": "code",
   "execution_count": null,
   "metadata": {},
   "outputs": [],
   "source": []
  },
  {
   "cell_type": "code",
   "execution_count": null,
   "metadata": {},
   "outputs": [],
   "source": []
  },
  {
   "cell_type": "code",
   "execution_count": null,
   "metadata": {},
   "outputs": [],
   "source": []
  },
  {
   "cell_type": "code",
   "execution_count": null,
   "metadata": {},
   "outputs": [],
   "source": []
  },
  {
   "cell_type": "code",
   "execution_count": null,
   "metadata": {},
   "outputs": [],
   "source": []
  },
  {
   "cell_type": "code",
   "execution_count": null,
   "metadata": {},
   "outputs": [],
   "source": []
  },
  {
   "cell_type": "code",
   "execution_count": null,
   "metadata": {},
   "outputs": [],
   "source": []
  },
  {
   "cell_type": "code",
   "execution_count": null,
   "metadata": {},
   "outputs": [],
   "source": []
  },
  {
   "cell_type": "code",
   "execution_count": null,
   "metadata": {},
   "outputs": [],
   "source": []
  },
  {
   "cell_type": "code",
   "execution_count": null,
   "metadata": {},
   "outputs": [],
   "source": []
  }
 ],
 "metadata": {
  "kernelspec": {
   "display_name": "Python 3",
   "language": "python",
   "name": "python3"
  },
  "language_info": {
   "codemirror_mode": {
    "name": "ipython",
    "version": 3
   },
   "file_extension": ".py",
   "mimetype": "text/x-python",
   "name": "python",
   "nbconvert_exporter": "python",
   "pygments_lexer": "ipython3",
   "version": "3.8.5"
  }
 },
 "nbformat": 4,
 "nbformat_minor": 4
}
