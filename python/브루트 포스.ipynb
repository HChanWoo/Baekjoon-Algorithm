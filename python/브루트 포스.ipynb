{
 "cells": [
  {
   "cell_type": "markdown",
   "metadata": {},
   "source": [
    "# 브루트포스"
   ]
  },
  {
   "cell_type": "markdown",
   "metadata": {},
   "source": [
    "---------------------"
   ]
  },
  {
   "cell_type": "markdown",
   "metadata": {},
   "source": [
    "### 2798 블랙잭"
   ]
  },
  {
   "cell_type": "code",
   "execution_count": 11,
   "metadata": {},
   "outputs": [
    {
     "name": "stdout",
     "output_type": "stream",
     "text": [
      "10 500\n",
      "93 181 245 214 315 36 185 138 216 295\n"
     ]
    },
    {
     "data": {
      "text/plain": [
       "497"
      ]
     },
     "execution_count": 11,
     "metadata": {},
     "output_type": "execute_result"
    }
   ],
   "source": [
    "card, targetSum = map(int,input().split())\n",
    "cardList = list(map(int,input().split()))\n",
    "\n",
    "def blackJack(card, targetSum, cardList) :\n",
    "    maxSum = 0\n",
    "    for a in range(card-2) :\n",
    "        for b in range(a+1,card-1) :\n",
    "            for c in range(b+1, card) :\n",
    "                curSum = cardList[a] + cardList[b] + cardList[c]\n",
    "                if curSum == targetSum :\n",
    "                    return targetSum\n",
    "                if maxSum < curSum and curSum < targetSum :\n",
    "                    maxSum = curSum\n",
    "    return maxSum\n",
    "\n",
    "print(blackJack(card, targetSum, cardList))"
   ]
  },
  {
   "cell_type": "markdown",
   "metadata": {},
   "source": [
    "------------------"
   ]
  },
  {
   "cell_type": "markdown",
   "metadata": {},
   "source": [
    "### 2231 분해합"
   ]
  },
  {
   "cell_type": "code",
   "execution_count": 20,
   "metadata": {},
   "outputs": [
    {
     "name": "stdout",
     "output_type": "stream",
     "text": [
      "216\n",
      "198\n"
     ]
    }
   ],
   "source": [
    "N = int(input())\n",
    "\n",
    "def bunhae(N) :\n",
    "    for a in range(1,N-1) :\n",
    "        if a+sum(map(int,list(str(a)))) == N :\n",
    "            return a\n",
    "    return 0\n",
    "\n",
    "print(bunhae(N))"
   ]
  },
  {
   "cell_type": "markdown",
   "metadata": {},
   "source": [
    "------------------------"
   ]
  },
  {
   "cell_type": "markdown",
   "metadata": {},
   "source": [
    "### 7568 덩치"
   ]
  },
  {
   "cell_type": "code",
   "execution_count": 15,
   "metadata": {
    "scrolled": true
   },
   "outputs": [
    {
     "name": "stdout",
     "output_type": "stream",
     "text": [
      "5\n",
      "55 185\n",
      "58 183\n",
      "88 186\n",
      "60 175\n",
      "46 155\n",
      "1 1 0 1 4 "
     ]
    }
   ],
   "source": [
    "N = int(input())\n",
    "listP = list()\n",
    "printVal = ''\n",
    "for i in range(N) :\n",
    "    listP.append(list(map(int,input().split())))\n",
    "    \n",
    "for i in range(N) :\n",
    "    curScore=0\n",
    "    for j in range(N) :\n",
    "        if i==j :\n",
    "            continue\n",
    "        if listP[i][0] < listP[j][0] and listP[i][1] < listP[j][1] :\n",
    "            curScore+=1\n",
    "    print(curScore+1,end=' ')"
   ]
  },
  {
   "cell_type": "markdown",
   "metadata": {},
   "source": [
    "--------------------"
   ]
  },
  {
   "cell_type": "markdown",
   "metadata": {},
   "source": [
    "### 1018 체스판 다시 칠하기"
   ]
  },
  {
   "cell_type": "code",
   "execution_count": 18,
   "metadata": {},
   "outputs": [
    {
     "name": "stdout",
     "output_type": "stream",
     "text": [
      "8 8\n",
      "WBWBWBWB\n",
      "BWBWBWBW\n",
      "WBWBWBWB\n",
      "BWBBBWBW\n",
      "WBWBWBWB\n",
      "BWBWBWBW\n",
      "WBWBWBWB\n",
      "BWBWBWBW\n"
     ]
    }
   ],
   "source": [
    "N,M = map(int,input().split())\n",
    "list_chess = list()\n",
    "maxChange = 0\n",
    "\n",
    "for i in range(N) :\n",
    "    list_chess.append(input())\n",
    "\n",
    "for a in range(M-7) :\n",
    "    for b in range(N-7) :\n",
    "        BFirst=0\n",
    "        WFirst=0\n",
    "        for i in range(a,a+8):\n",
    "            for j in range(b,b+8) :\n",
    "                if (i+j) %2 == 0 and list_chess[i][j] != 'B' :\n",
    "                    print(i,j)\n",
    "                    BFirst+=1\n",
    "                elif (i+j) %2 != 0 and list_chess[i][j] != 'W' :\n",
    "                    print(i,j)\n",
    "                    BFirst+=1\n",
    "                elif (i+j) %2 == 0 and list_chess[i][j] != 'W' :\n",
    "                    print(i,j)\n",
    "                    WFirst+=1\n",
    "                elif (i+j) %2 != 0 and list_chess[i][j] != 'B' :\n",
    "                    print(i,j)\n",
    "                    WFirst+=1\n",
    "        if maxChange < BFirst :\n",
    "            maxChange = BFirst\n",
    "        elif maxChange < WFirst :\n",
    "            maxChange = WFirst\n",
    "            \n",
    "    "
   ]
  },
  {
   "cell_type": "code",
   "execution_count": 19,
   "metadata": {},
   "outputs": [
    {
     "data": {
      "text/plain": [
       "0"
      ]
     },
     "execution_count": 19,
     "metadata": {},
     "output_type": "execute_result"
    }
   ],
   "source": [
    "maxChange"
   ]
  },
  {
   "cell_type": "code",
   "execution_count": 22,
   "metadata": {},
   "outputs": [
    {
     "name": "stdout",
     "output_type": "stream",
     "text": [
      "0 0\n",
      "0 1\n",
      "0 2\n",
      "0 3\n",
      "0 4\n",
      "0 5\n",
      "0 6\n",
      "0 7\n",
      "1 0\n",
      "1 1\n",
      "1 2\n",
      "1 3\n",
      "1 4\n",
      "1 5\n",
      "1 6\n",
      "1 7\n",
      "2 0\n",
      "2 1\n",
      "2 2\n",
      "2 3\n",
      "2 4\n",
      "2 5\n",
      "2 6\n",
      "2 7\n",
      "3 0\n",
      "3 1\n",
      "3 2\n",
      "3 3\n",
      "3 4\n",
      "3 5\n",
      "3 6\n",
      "3 7\n",
      "4 0\n",
      "4 1\n",
      "4 2\n",
      "4 3\n",
      "4 4\n",
      "4 5\n",
      "4 6\n",
      "4 7\n",
      "5 0\n",
      "5 1\n",
      "5 2\n",
      "5 3\n",
      "5 4\n",
      "5 5\n",
      "5 6\n",
      "5 7\n",
      "6 0\n",
      "6 1\n",
      "6 2\n",
      "6 3\n",
      "6 4\n",
      "6 5\n",
      "6 6\n",
      "6 7\n",
      "7 0\n",
      "7 1\n",
      "7 2\n",
      "7 3\n",
      "7 4\n",
      "7 5\n",
      "7 6\n",
      "7 7\n"
     ]
    }
   ],
   "source": [
    "for a in range(M-7) :\n",
    "    for b in range(N-7) :\n",
    "        BFirst=0\n",
    "        WFirst=0\n",
    "        for i in range(a,a+8):\n",
    "            for j in range(b,b+8) :\n",
    "                if (i+j) %2 == 0 and list_chess[i][j] != 'B' :\n",
    "                    print(i,j)\n",
    "                    BFirst+=1\n",
    "                elif (i+j) %2 != 0 and list_chess[i][j] != 'W' :\n",
    "                    print(i,j)\n",
    "                    BFirst+=1\n",
    "                elif (i+j) %2 == 0 and list_chess[i][j] != 'W' :\n",
    "                    print(i,j)\n",
    "                    WFirst+=1\n",
    "                elif (i+j) %2 != 0 and list_chess[i][j] != 'B' :\n",
    "                    print(i,j)\n",
    "                    WFirst+=1\n",
    "        if maxChange < BFirst :\n",
    "            maxChange = BFirst\n",
    "        elif maxChange < WFirst :\n",
    "            maxChange = WFirst"
   ]
  },
  {
   "cell_type": "code",
   "execution_count": null,
   "metadata": {},
   "outputs": [],
   "source": []
  },
  {
   "cell_type": "code",
   "execution_count": null,
   "metadata": {},
   "outputs": [],
   "source": []
  },
  {
   "cell_type": "code",
   "execution_count": null,
   "metadata": {},
   "outputs": [],
   "source": []
  },
  {
   "cell_type": "code",
   "execution_count": null,
   "metadata": {},
   "outputs": [],
   "source": []
  },
  {
   "cell_type": "code",
   "execution_count": null,
   "metadata": {},
   "outputs": [],
   "source": []
  },
  {
   "cell_type": "code",
   "execution_count": null,
   "metadata": {},
   "outputs": [],
   "source": []
  },
  {
   "cell_type": "code",
   "execution_count": null,
   "metadata": {},
   "outputs": [],
   "source": []
  },
  {
   "cell_type": "code",
   "execution_count": null,
   "metadata": {},
   "outputs": [],
   "source": []
  },
  {
   "cell_type": "code",
   "execution_count": null,
   "metadata": {},
   "outputs": [],
   "source": []
  },
  {
   "cell_type": "code",
   "execution_count": null,
   "metadata": {},
   "outputs": [],
   "source": []
  },
  {
   "cell_type": "code",
   "execution_count": null,
   "metadata": {},
   "outputs": [],
   "source": []
  },
  {
   "cell_type": "code",
   "execution_count": null,
   "metadata": {},
   "outputs": [],
   "source": []
  },
  {
   "cell_type": "code",
   "execution_count": null,
   "metadata": {},
   "outputs": [],
   "source": []
  },
  {
   "cell_type": "code",
   "execution_count": null,
   "metadata": {},
   "outputs": [],
   "source": []
  },
  {
   "cell_type": "code",
   "execution_count": null,
   "metadata": {},
   "outputs": [],
   "source": []
  }
 ],
 "metadata": {
  "kernelspec": {
   "display_name": "Python 3",
   "language": "python",
   "name": "python3"
  },
  "language_info": {
   "codemirror_mode": {
    "name": "ipython",
    "version": 3
   },
   "file_extension": ".py",
   "mimetype": "text/x-python",
   "name": "python",
   "nbconvert_exporter": "python",
   "pygments_lexer": "ipython3",
   "version": "3.7.6"
  }
 },
 "nbformat": 4,
 "nbformat_minor": 4
}
