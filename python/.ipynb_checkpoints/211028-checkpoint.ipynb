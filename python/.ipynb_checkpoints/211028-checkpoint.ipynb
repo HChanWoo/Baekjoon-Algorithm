{
 "cells": [
  {
   "cell_type": "markdown",
   "metadata": {},
   "source": [
    "# 큐,덱 1966"
   ]
  },
  {
   "cell_type": "code",
   "execution_count": null,
   "metadata": {},
   "outputs": [],
   "source": [
    "from collections import deque\n",
    "\n",
    "cnt_tmp = int(input())\n",
    "\n",
    "for _ in range(cnt_tmp) :\n",
    "    cnt_doc,target = map(int,input().split())\n",
    "    list_score = deque(list(map(int,input().split())))\n",
    "    \n",
    "    list_position = deque([0 for _ in range(cnt_doc)])\n",
    "    list_position[target] = 1\n",
    "    cnt = 0\n",
    "    \n",
    "    while True :\n",
    "        if list_score[0] == max(list_score) :\n",
    "            cnt+=1\n",
    "            if list_position[0] == 1:\n",
    "                print(cnt)\n",
    "                break\n",
    "            else :\n",
    "                list_score.popleft()\n",
    "                list_position.popleft()\n",
    "        else :\n",
    "            list_score.append(list_score.popleft())\n",
    "            list_position.append(list_position.popleft())"
   ]
  },
  {
   "cell_type": "markdown",
   "metadata": {},
   "source": [
    "# 큐,덱 10866"
   ]
  },
  {
   "cell_type": "code",
   "execution_count": null,
   "metadata": {},
   "outputs": [],
   "source": [
    "from collections import deque\n",
    "\n",
    "cnt_cmd = int(input())\n",
    "list_tmp = deque(list())\n",
    "\n",
    "for i in range(cnt_cmd) :\n",
    "    input_cmd = input().split()\n",
    "    \n",
    "    if input_cmd[0] == 'push_front' :\n",
    "        list_tmp.appendleft(input_cmd[1])\n",
    "        \n",
    "    elif input_cmd[0] == 'push_back' :\n",
    "        list_tmp.append(input_cmd[1])\n",
    "        \n",
    "    elif input_cmd[0] == 'pop_front' :\n",
    "        if len(list_tmp) == 0 :\n",
    "            print(-1)\n",
    "        else :\n",
    "            print(list_tmp.popleft())\n",
    "        \n",
    "    elif input_cmd[0] == 'pop_back' :\n",
    "        if len(list_tmp) == 0 :\n",
    "            print(-1)\n",
    "        else :\n",
    "            print(list_tmp.pop())\n",
    "        \n",
    "    elif input_cmd[0] == 'size' :\n",
    "        print(len(list_tmp))\n",
    "        \n",
    "    elif input_cmd[0] == 'empty' :\n",
    "        if len(list_tmp) == 0 :\n",
    "            print(1)\n",
    "        else :\n",
    "            print(0)\n",
    "            \n",
    "    elif input_cmd[0] == 'front' :\n",
    "        if len(list_tmp) == 0 :\n",
    "            print(-1)\n",
    "        else :\n",
    "            print(list_tmp[0])\n",
    "        \n",
    "    else :\n",
    "        if len(list_tmp) == 0 :\n",
    "            print(-1)\n",
    "        else :\n",
    "            print(list_tmp[len(list_tmp)-1])"
   ]
  },
  {
   "cell_type": "markdown",
   "metadata": {},
   "source": [
    "# 큐,덱 1021"
   ]
  },
  {
   "cell_type": "code",
   "execution_count": 5,
   "metadata": {},
   "outputs": [
    {
     "name": "stdout",
     "output_type": "stream",
     "text": [
      "32 6\n",
      "27 16 30 11 6 23\n",
      "59\n"
     ]
    }
   ],
   "source": [
    "from collections import deque\n",
    "\n",
    "size_list, cnt_tmp = map(int,input().split())\n",
    "list_pick = deque(list(map(int,input().split())))\n",
    "\n",
    "list_deque = deque([i for i in range(1,size_list+1)])\n",
    "cnt=0\n",
    "\n",
    "while list_pick :\n",
    "    if list_deque[0] == list_pick[0] :\n",
    "        list_deque.popleft()\n",
    "        list_pick.popleft()\n",
    "    \n",
    "    else :\n",
    "        if list_deque.index(list_pick[0])/len(list_deque) > 0.5 :\n",
    "            list_deque.appendleft(list_deque.pop())\n",
    "        else :\n",
    "            list_deque.append(list_deque.popleft())\n",
    "        cnt+=1\n",
    "        \n",
    "print(cnt)"
   ]
  },
  {
   "cell_type": "code",
   "execution_count": null,
   "metadata": {},
   "outputs": [],
   "source": [
    "n, m = map(int, input().split())\n",
    "s = list(map(int ,input().split()))\n",
    "q = [i for i in range(1, n + 1)]\n",
    "cnt = 0\n",
    "for i in range(m):\n",
    "    q_len = len(q)\n",
    "    q_index = q.index(s[i])\n",
    "    if q_index < q_len - q_index:\n",
    "        while True:\n",
    "            if q[0] == s[i]:\n",
    "                del q[0]\n",
    "                break\n",
    "            else:\n",
    "                q.append(q[0])\n",
    "                del q[0]\n",
    "                cnt += 1\n",
    "    else:\n",
    "        while True:\n",
    "            if q[0] == s[i]:\n",
    "                del q[0]\n",
    "                break\n",
    "            else:\n",
    "                q.insert(0, q[-1])\n",
    "                del q[-1]\n",
    "                cnt += 1\n",
    "print(cnt)"
   ]
  },
  {
   "cell_type": "code",
   "execution_count": null,
   "metadata": {},
   "outputs": [],
   "source": []
  },
  {
   "cell_type": "code",
   "execution_count": null,
   "metadata": {},
   "outputs": [],
   "source": []
  },
  {
   "cell_type": "code",
   "execution_count": null,
   "metadata": {},
   "outputs": [],
   "source": []
  },
  {
   "cell_type": "code",
   "execution_count": null,
   "metadata": {},
   "outputs": [],
   "source": []
  },
  {
   "cell_type": "code",
   "execution_count": null,
   "metadata": {},
   "outputs": [],
   "source": []
  }
 ],
 "metadata": {
  "kernelspec": {
   "display_name": "Python 3",
   "language": "python",
   "name": "python3"
  },
  "language_info": {
   "codemirror_mode": {
    "name": "ipython",
    "version": 3
   },
   "file_extension": ".py",
   "mimetype": "text/x-python",
   "name": "python",
   "nbconvert_exporter": "python",
   "pygments_lexer": "ipython3",
   "version": "3.8.5"
  }
 },
 "nbformat": 4,
 "nbformat_minor": 4
}
