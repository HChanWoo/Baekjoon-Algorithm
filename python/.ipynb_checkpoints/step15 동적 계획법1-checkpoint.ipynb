{
 "cells": [
  {
   "cell_type": "markdown",
   "metadata": {},
   "source": [
    "# 동적 계획법1 1149"
   ]
  },
  {
   "cell_type": "code",
   "execution_count": 2,
   "metadata": {},
   "outputs": [
    {
     "name": "stdout",
     "output_type": "stream",
     "text": [
      "6\n",
      "30 19 5\n",
      "64 77 64\n",
      "15 19 97\n",
      "4 71 57\n",
      "90 86 84\n",
      "93 32 91\n",
      "208\n"
     ]
    }
   ],
   "source": [
    "N = int(input())\n",
    "cost_list = []\n",
    "\n",
    "for _ in range(N) :\n",
    "    cost = list(map(int,input().split()))\n",
    "    cost_list.append(cost)\n",
    "\n",
    "sum_list = [[0]*3 for _ in range(N)]\n",
    "sum_list[0][0],sum_list[0][1],sum_list[0][2] = cost_list[0][0],cost_list[0][1],cost_list[0][2]\n",
    "\n",
    "for i in range(1,N) :\n",
    "    sum_list[i][0] = min(sum_list[i-1][1],sum_list[i-1][2]) + cost_list[i][0]\n",
    "    sum_list[i][1] = min(sum_list[i-1][0],sum_list[i-1][2]) + cost_list[i][1]\n",
    "    sum_list[i][2] = min(sum_list[i-1][0],sum_list[i-1][1]) + cost_list[i][2]\n",
    "    \n",
    "print(min(sum_list[N-1]))"
   ]
  },
  {
   "cell_type": "markdown",
   "metadata": {},
   "source": [
    "# 동적 계획법1 1932"
   ]
  },
  {
   "cell_type": "code",
   "execution_count": 14,
   "metadata": {},
   "outputs": [
    {
     "name": "stdout",
     "output_type": "stream",
     "text": [
      "5\n",
      "7\n",
      "3 8\n",
      "8 1 0\n",
      "2 7 4 4\n",
      "4 5 2 6 5\n",
      "[30]\n"
     ]
    }
   ],
   "source": [
    "N = int(input())\n",
    "\n",
    "arr_user = []\n",
    "\n",
    "for _ in range(N) :\n",
    "    input_list = list(map(int,input().split()))\n",
    "    arr_user.append(input_list)\n",
    "    \n",
    "list_sum = [[0]*(N-i) for i in range(N)]\n",
    "list_sum[0] = arr_user[N-1]\n",
    "    \n",
    "for i in range(1,N) :\n",
    "    for j in range(len(list_sum[i])) :\n",
    "        list_sum[i][j] = max(list_sum[i-1][j], list_sum[i-1][j+1]) + arr_user[N-i-1][j]\n",
    "\n",
    "print(list_sum[N-1][0])"
   ]
  },
  {
   "cell_type": "markdown",
   "metadata": {},
   "source": [
    "# 동적계획법1 1003 (21.12.29)"
   ]
  },
  {
   "cell_type": "code",
   "execution_count": 3,
   "metadata": {},
   "outputs": [],
   "source": [
    "list1 = [[1,0],[0,1]]\n",
    "for i in range(2,40) :\n",
    "    list1.append([(list1[i-2][0]+list1[i-1][0]), (list1[i-2][1]+list1[i-1][1]) ])"
   ]
  },
  {
   "cell_type": "code",
   "execution_count": 8,
   "metadata": {},
   "outputs": [
    {
     "name": "stdout",
     "output_type": "stream",
     "text": [
      "2\n",
      "6\n",
      "5 8\n",
      "22\n",
      "10946 17711\n"
     ]
    }
   ],
   "source": [
    "list1 = [[1,0],[0,1]]\n",
    "for i in range(2,40) :\n",
    "    list1.append([(list1[i-2][0]+list1[i-1][0]), (list1[i-2][1]+list1[i-1][1]) ])\n",
    "len_cmd = int(input())\n",
    "for i in range(len_cmd) :\n",
    "    cur_idx = int(input())\n",
    "    print(list1[cur_idx][0],list1[cur_idx][1])"
   ]
  },
  {
   "cell_type": "markdown",
   "metadata": {},
   "source": [
    "# 동적계획법1 9184 (21.12.29)"
   ]
  },
  {
   "cell_type": "code",
   "execution_count": 2,
   "metadata": {},
   "outputs": [
    {
     "name": "stdout",
     "output_type": "stream",
     "text": [
      "50 50 50\n",
      "w(50, 50, 50) = 1048576\n",
      "-1 7 8\n",
      "w(-1, 7, 8) = 1\n",
      "-1 -1 -1\n"
     ]
    }
   ],
   "source": [
    "def w(a,b,c) :\n",
    "    if a<=0 or b<=0 or c<=0 :\n",
    "        return 1\n",
    "    if a>20 or b>20 or c>20 :\n",
    "        return w(20,20,20)\n",
    "    if list_db[a][b][c] :\n",
    "        return list_db[a][b][c]\n",
    "    if a<b and b<c :\n",
    "        list_db[a][b][c] = w(a, b, c-1) + w(a, b-1, c-1) - w(a, b-1, c)\n",
    "        return list_db[a][b][c]\n",
    "    list_db[a][b][c] = w(a-1,b,c) + w(a-1,b-1,c) + w(a-1,b,c-1) - w(a-1,b-1,c-1)\n",
    "    return list_db[a][b][c]\n",
    "\n",
    "list_db = [[[0]*21 for _ in range(21)] for _ in range(21)]\n",
    "    \n",
    "while True :\n",
    "    a,b,c = map(int,input().split())\n",
    "    if a==-1 and b==-1 and c==-1 :\n",
    "        break\n",
    "    print('w(%d, %d, %d) = %d'%(a,b,c,w(a,b,c)))"
   ]
  },
  {
   "cell_type": "markdown",
   "metadata": {},
   "source": [
    "# 동적계획법1 1904 (21.12.29)"
   ]
  },
  {
   "cell_type": "code",
   "execution_count": 16,
   "metadata": {},
   "outputs": [
    {
     "name": "stdout",
     "output_type": "stream",
     "text": [
      "4\n",
      "5\n"
     ]
    }
   ],
   "source": [
    "list_binary = [0]*1000000\n",
    "input_num = int(input())\n",
    "list_binary[0] = 1\n",
    "list_binary[1] = 2\n",
    "\n",
    "for idx in range(2,input_num) :\n",
    "    list_binary[idx] = (list_binary[idx-1]+list_binary[idx-2])%15746\n",
    "\n",
    "print(list_binary[input_num-1])"
   ]
  },
  {
   "cell_type": "markdown",
   "metadata": {},
   "source": [
    "# 동적계획법1 9461 (21.12.29)"
   ]
  },
  {
   "cell_type": "code",
   "execution_count": 5,
   "metadata": {},
   "outputs": [
    {
     "name": "stdout",
     "output_type": "stream",
     "text": [
      "2\n",
      "6\n",
      "3\n",
      "12\n",
      "16\n"
     ]
    }
   ],
   "source": [
    "list_triangle = [0]*100\n",
    "len_input = int(input())\n",
    "list_triangle[0]=1\n",
    "list_triangle[1]=1\n",
    "list_triangle[2]=1\n",
    "\n",
    "for _ in range(len_input) :\n",
    "    tmp_input = int(input())\n",
    "    for idx in range(3,tmp_input) :\n",
    "        list_triangle[idx] = list_triangle[idx-2]+list_triangle[idx-3]\n",
    "    print(list_triangle[tmp_input-1])"
   ]
  },
  {
   "cell_type": "markdown",
   "metadata": {},
   "source": [
    "# 동적계획법1 1932 (21.12.29)"
   ]
  },
  {
   "cell_type": "code",
   "execution_count": 16,
   "metadata": {},
   "outputs": [
    {
     "name": "stdout",
     "output_type": "stream",
     "text": [
      "5\n",
      "7\n",
      "3 8\n",
      "8 1 0\n",
      "2 7 4 4\n",
      "4 5 2 6 5\n",
      "30\n"
     ]
    }
   ],
   "source": [
    "len_floor = int(input())\n",
    "list_floor = list()\n",
    "\n",
    "for _ in range(len_floor) :\n",
    "    list_floor.append(list(map(int,input().split())))\n",
    "\n",
    "for idx in range(len_floor-2,-1,-1) :\n",
    "    for idx2 in range(len(list_floor[idx])) :\n",
    "        list_floor[idx][idx2] = max(list_floor[idx+1][idx2],list_floor[idx+1][idx2+1]) + list_floor[idx][idx2]\n",
    "\n",
    "print(list_floor[0][0])"
   ]
  },
  {
   "cell_type": "markdown",
   "metadata": {},
   "source": [
    "# 동적계획법1 2579 (21.12.29)"
   ]
  },
  {
   "cell_type": "code",
   "execution_count": 28,
   "metadata": {},
   "outputs": [
    {
     "name": "stdout",
     "output_type": "stream",
     "text": [
      "6\n",
      "10\n",
      "20\n",
      "15\n",
      "25\n",
      "10\n",
      "20\n",
      "75\n"
     ]
    }
   ],
   "source": [
    "len_stair = int(input())\n",
    "stair_origin = [int(input()) for _ in range(len_stair)]\n",
    "stair_sum = [0]*len_stair\n",
    "stair_sum[0] = stair_origin[0]\n",
    "stair_sum[1] = stair_origin[0]+stair_origin[1]\n",
    "stair_sum[2] = max(stair_origin[0]+stair_origin[2], stair_origin[1]+stair_origin[2])\n",
    "\n",
    "for idx in range(3,len_stair) :\n",
    "    stair_sum[idx] = max(stair_sum[idx-2], stair_sum[idx-3]+stair_origin[idx-1]) + stair_origin[idx]\n",
    "print(stair_sum[len_stair-1])"
   ]
  },
  {
   "cell_type": "markdown",
   "metadata": {},
   "source": [
    "# 동적계획법1 1463 (21.12.29)"
   ]
  },
  {
   "cell_type": "code",
   "execution_count": 3,
   "metadata": {
    "scrolled": true
   },
   "outputs": [
    {
     "name": "stdout",
     "output_type": "stream",
     "text": [
      "10\n",
      "9 1\n",
      "3.0 2\n",
      "1.0 3\n",
      "3\n"
     ]
    }
   ],
   "source": [
    "X = int(input())\n",
    "cnt=0\n",
    "while True :\n",
    "    if X==1 :\n",
    "        break\n",
    "    elif X%3==0 :\n",
    "        X/=3\n",
    "        cnt+=1\n",
    "    elif (X-1)%3==0 :\n",
    "        X-=1\n",
    "        cnt+=1\n",
    "    elif X%2==0 :\n",
    "        X/=2\n",
    "        cnt+=1\n",
    "    else :\n",
    "        X-=1\n",
    "        cnt+=1\n",
    "print(cnt)"
   ]
  },
  {
   "cell_type": "markdown",
   "metadata": {},
   "source": [
    "# 동적계획법1 2156 (21.12.30)"
   ]
  },
  {
   "cell_type": "code",
   "execution_count": 16,
   "metadata": {},
   "outputs": [
    {
     "name": "stdout",
     "output_type": "stream",
     "text": [
      "6\n",
      "6\n",
      "10\n",
      "3\n",
      "9\n",
      "8\n",
      "1\n",
      "33\n"
     ]
    }
   ],
   "source": [
    "len_grape = int(input())\n",
    "list_grape = [0] + [int(input()) for _ in range(len_grape)]\n",
    "sum_grape = [0,list_grape[1]]\n",
    "if len_grape > 1 :\n",
    "    sum_grape.append(list_grape[1]+list_grape[2])\n",
    "for idx in range(3,len_grape+1) :\n",
    "    sum_grape.append(max(sum_grape[idx-1],sum_grape[idx-3]+list_grape[idx-1]+list_grape[idx],sum_grape[idx-2]+list_grape[idx]))\n",
    "print(sum_grape[len_grape])"
   ]
  },
  {
   "cell_type": "markdown",
   "metadata": {},
   "source": [
    "# 동적계획법1 11053 (21.12.31)"
   ]
  },
  {
   "cell_type": "code",
   "execution_count": 34,
   "metadata": {},
   "outputs": [
    {
     "name": "stdout",
     "output_type": "stream",
     "text": [
      "6\n",
      "10 20 10 30 20 50\n",
      "4\n"
     ]
    }
   ],
   "source": [
    "len_input = int(input())\n",
    "list_input = list(map(int,input().split()))\n",
    "list_up = [0]*(len_input-1)\n",
    "for idx in range(len_input-1) :\n",
    "    num_up = 0\n",
    "    for idx2 in range(idx,len_input) :\n",
    "        if num_up < list_input[idx2] :\n",
    "            num_up = list_input[idx2]\n",
    "            list_up[idx]+=1\n",
    "print(max(list_up))"
   ]
  },
  {
   "cell_type": "markdown",
   "metadata": {},
   "source": [
    "# 동적계획법1 11053 (22.01.03)"
   ]
  },
  {
   "cell_type": "code",
   "execution_count": 1,
   "metadata": {},
   "outputs": [
    {
     "name": "stdout",
     "output_type": "stream",
     "text": [
      "6\n",
      "10 20 10 30 20 50\n",
      "4\n"
     ]
    }
   ],
   "source": [
    "len_input = int(input())\n",
    "list_input = list(map(int,input().split()))\n",
    "max_len = [1 for _ in range(len_input)]\n",
    "\n",
    "for i in range(len_input) :\n",
    "    for j in range(i) :\n",
    "        if list_input[i] > list_input[j] :\n",
    "            max_len[i] = max(max_len[j]+1,max_len[i])\n",
    "print(max(max_len))"
   ]
  },
  {
   "cell_type": "markdown",
   "metadata": {},
   "source": [
    "# 동적계획법1 11054 (22.01.03)"
   ]
  },
  {
   "cell_type": "code",
   "execution_count": 19,
   "metadata": {
    "scrolled": true
   },
   "outputs": [
    {
     "name": "stdout",
     "output_type": "stream",
     "text": [
      "10\n",
      "1 5 2 1 4 3 4 5 2 1\n",
      "7\n"
     ]
    }
   ],
   "source": [
    "len_input = int(input())\n",
    "list_input = list(map(int,input().split()))\n",
    "list_reverse = list_input[::-1]\n",
    "max_inc = [1 for _ in range(len_input)]\n",
    "max_dec = [1 for _ in range(len_input)]\n",
    "\n",
    "b\n",
    "        if list_reverse[i] > list_reverse[j] :\n",
    "            max_dec[i] = max(max_dec[j]+1,max_dec[i])\n",
    "print(max([x+y for x,y in zip(max_inc,max_dec[::-1])])-1)"
   ]
  },
  {
   "cell_type": "markdown",
   "metadata": {},
   "source": [
    "# 동적계획법1 2565 (22.01.03)"
   ]
  },
  {
   "cell_type": "code",
   "execution_count": 1,
   "metadata": {},
   "outputs": [
    {
     "name": "stdout",
     "output_type": "stream",
     "text": [
      "8\n",
      "1 8\n",
      "3 9\n",
      "2 2\n",
      "4 1\n",
      "6 4\n",
      "10 10\n",
      "9 7\n",
      "7 6\n"
     ]
    }
   ],
   "source": [
    "len_line = int(input())\n",
    "list_line = [list(map(int,input().split())) for _ in range(len_line)]\n",
    "list_line.sort()\n",
    "list_inc = [1]*len_line\n",
    "for i in range(len_line) :\n",
    "    for j in range(i) :\n",
    "        if list_line[i][1] > list_line[j][1] :\n",
    "            list_inc[i] = max(list_inc[i],list_inc[j]+1)\n",
    "print(len_line-max(list_inc))"
   ]
  },
  {
   "cell_type": "markdown",
   "metadata": {},
   "source": [
    "# 동적계획법1 1912 (22.01.03)"
   ]
  },
  {
   "cell_type": "code",
   "execution_count": 41,
   "metadata": {},
   "outputs": [
    {
     "name": "stdout",
     "output_type": "stream",
     "text": [
      "10\n",
      "10 -4 3 1 5 6 -35 12 21 -1\n"
     ]
    }
   ],
   "source": [
    "len_input = int(input())\n",
    "list_input = list(map(int,input().split()))\n",
    "max_sum = [0]*len_input\n",
    "max_sum[0] = list_input[0]\n",
    "\n",
    "for i in range(1,len_input) :\n",
    "    max_sum[i] = max(list_input[i],max_sum[i-1]+list_input[i])\n",
    "print(max(max_sum))"
   ]
  }
 ],
 "metadata": {
  "kernelspec": {
   "display_name": "Python 3",
   "language": "python",
   "name": "python3"
  },
  "language_info": {
   "codemirror_mode": {
    "name": "ipython",
    "version": 3
   },
   "file_extension": ".py",
   "mimetype": "text/x-python",
   "name": "python",
   "nbconvert_exporter": "python",
   "pygments_lexer": "ipython3",
   "version": "3.8.5"
  }
 },
 "nbformat": 4,
 "nbformat_minor": 4
}
