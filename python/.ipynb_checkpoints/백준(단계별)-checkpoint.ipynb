{
 "cells": [
  {
   "cell_type": "markdown",
   "metadata": {},
   "source": [
    "# 브루트포스"
   ]
  },
  {
   "cell_type": "markdown",
   "metadata": {},
   "source": [
    "---------------------"
   ]
  },
  {
   "cell_type": "markdown",
   "metadata": {},
   "source": [
    "### 2798 블랙잭"
   ]
  },
  {
   "cell_type": "code",
   "execution_count": 11,
   "metadata": {},
   "outputs": [
    {
     "name": "stdout",
     "output_type": "stream",
     "text": [
      "10 500\n",
      "93 181 245 214 315 36 185 138 216 295\n"
     ]
    },
    {
     "data": {
      "text/plain": [
       "497"
      ]
     },
     "execution_count": 11,
     "metadata": {},
     "output_type": "execute_result"
    }
   ],
   "source": [
    "card, targetSum = map(int,input().split())\n",
    "cardList = list(map(int,input().split()))\n",
    "\n",
    "def blackJack(card, targetSum, cardList) :\n",
    "    maxSum = 0\n",
    "    for a in range(card-2) :\n",
    "        for b in range(a+1,card-1) :\n",
    "            for c in range(b+1, card) :\n",
    "                curSum = cardList[a] + cardList[b] + cardList[c]\n",
    "                if curSum == targetSum :\n",
    "                    return targetSum\n",
    "                if maxSum < curSum and curSum < targetSum :\n",
    "                    maxSum = curSum\n",
    "    return maxSum\n",
    "\n",
    "print(blackJack(card, targetSum, cardList))"
   ]
  },
  {
   "cell_type": "markdown",
   "metadata": {},
   "source": [
    "------------------"
   ]
  },
  {
   "cell_type": "markdown",
   "metadata": {},
   "source": [
    "### 2231 분해합"
   ]
  },
  {
   "cell_type": "code",
   "execution_count": 20,
   "metadata": {},
   "outputs": [
    {
     "name": "stdout",
     "output_type": "stream",
     "text": [
      "216\n",
      "198\n"
     ]
    }
   ],
   "source": [
    "N = int(input())\n",
    "\n",
    "def bunhae(N) :\n",
    "    for a in range(1,N-1) :\n",
    "        if a+sum(map(int,list(str(a)))) == N :\n",
    "            return a\n",
    "    return 0\n",
    "\n",
    "print(bunhae(N))"
   ]
  },
  {
   "cell_type": "markdown",
   "metadata": {},
   "source": [
    "------------------------"
   ]
  },
  {
   "cell_type": "markdown",
   "metadata": {},
   "source": [
    "### 7568 덩치"
   ]
  },
  {
   "cell_type": "code",
   "execution_count": 15,
   "metadata": {
    "scrolled": true
   },
   "outputs": [
    {
     "name": "stdout",
     "output_type": "stream",
     "text": [
      "5\n",
      "55 185\n",
      "58 183\n",
      "88 186\n",
      "60 175\n",
      "46 155\n",
      "1 1 0 1 4 "
     ]
    }
   ],
   "source": [
    "N = int(input())\n",
    "listP = list()\n",
    "printVal = ''\n",
    "for i in range(N) :\n",
    "    listP.append(list(map(int,input().split())))\n",
    "    \n",
    "for i in range(N) :\n",
    "    curScore=0\n",
    "    for j in range(N) :\n",
    "        if i==j :\n",
    "            continue\n",
    "        if listP[i][0] < listP[j][0] and listP[i][1] < listP[j][1] :\n",
    "            curScore+=1\n",
    "    print(curScore+1,end=' ')"
   ]
  },
  {
   "cell_type": "markdown",
   "metadata": {},
   "source": [
    "--------------------"
   ]
  },
  {
   "cell_type": "markdown",
   "metadata": {},
   "source": [
    "### 1018 체스판 다시 칠하기"
   ]
  },
  {
   "cell_type": "code",
   "execution_count": 1,
   "metadata": {},
   "outputs": [
    {
     "name": "stdout",
     "output_type": "stream",
     "text": [
      "8 8\n",
      "WBWBWBWB\n",
      "BWBWBWBW\n",
      "WBWBWBWB\n",
      "BWBBBWBW\n",
      "WBWBWBWB\n",
      "BWBWBWBW\n",
      "WBWBWBWB\n",
      "BWBWBWBW\n",
      "1\n"
     ]
    }
   ],
   "source": [
    "M,N = map(int,input().split())\n",
    "list_chess = list()\n",
    "minList=list()\n",
    "\n",
    "for i in range(M) :\n",
    "    list_chess.append(input())\n",
    "\n",
    "for a in range(M-7) :\n",
    "    for b in range(N-7) :\n",
    "        BFirst=0\n",
    "        WFirst=0\n",
    "        for i in range(a,a+8):\n",
    "            for j in range(b,b+8) :\n",
    "                if (i+j) %2 == 0 and list_chess[i][j] != 'B' :\n",
    "                    BFirst+=1\n",
    "                elif (i+j) %2 != 0 and list_chess[i][j] != 'W' :\n",
    "                    BFirst+=1\n",
    "                elif (i+j) %2 == 0 and list_chess[i][j] != 'W' :\n",
    "                    WFirst+=1\n",
    "                elif (i+j) %2 != 0 and list_chess[i][j] != 'B' :\n",
    "                    WFirst+=1\n",
    "        minList.append(min(BFirst,WFirst))\n",
    "            \n",
    "print(min(minList)) "
   ]
  },
  {
   "cell_type": "markdown",
   "metadata": {},
   "source": [
    "--------------------"
   ]
  },
  {
   "cell_type": "markdown",
   "metadata": {},
   "source": [
    "### 1436 영화감동 숌"
   ]
  },
  {
   "cell_type": "code",
   "execution_count": 6,
   "metadata": {},
   "outputs": [
    {
     "name": "stdout",
     "output_type": "stream",
     "text": [
      "187\n",
      "66666\n"
     ]
    }
   ],
   "source": [
    "N = int(input())\n",
    "startN = 666\n",
    "curN = 0\n",
    "while True :\n",
    "    if '666' in str(startN) :\n",
    "        curN+=1\n",
    "    if curN == N :\n",
    "        break\n",
    "    startN+=1\n",
    "print(startN)"
   ]
  },
  {
   "cell_type": "markdown",
   "metadata": {},
   "source": [
    "--------------"
   ]
  },
  {
   "cell_type": "markdown",
   "metadata": {},
   "source": [
    "----------------------"
   ]
  },
  {
   "cell_type": "code",
   "execution_count": null,
   "metadata": {},
   "outputs": [],
   "source": []
  },
  {
   "cell_type": "markdown",
   "metadata": {},
   "source": [
    "# 그리디 알고리즘"
   ]
  },
  {
   "cell_type": "markdown",
   "metadata": {},
   "source": [
    "------------"
   ]
  },
  {
   "cell_type": "markdown",
   "metadata": {},
   "source": [
    "### 11047 동전 0"
   ]
  },
  {
   "cell_type": "code",
   "execution_count": 16,
   "metadata": {
    "collapsed": true
   },
   "outputs": [
    {
     "name": "stdout",
     "output_type": "stream",
     "text": [
      "10 4200\n",
      "1\n",
      "5\n",
      "10\n",
      "50\n",
      "100\n",
      "500\n",
      "1000\n",
      "5000\n",
      "10000\n",
      "50000\n",
      "3 0 4200\n",
      "4 4 200\n",
      "5 4 200\n",
      "6 6 0\n"
     ]
    },
    {
     "data": {
      "text/plain": [
       "6"
      ]
     },
     "execution_count": 16,
     "metadata": {},
     "output_type": "execute_result"
    }
   ],
   "source": [
    "N,K = map(int,input().split())\n",
    "listN = list()\n",
    "minN = 0\n",
    "\n",
    "for i in range(N):\n",
    "    listN.append(int(input()))\n",
    "    \n",
    "for coin in listN[::-1] :\n",
    "    if K == 0 :\n",
    "        break\n",
    "    minN += K//coin\n",
    "    K%=coin\n",
    "\n",
    "print(minN)"
   ]
  },
  {
   "cell_type": "markdown",
   "metadata": {},
   "source": [
    "-------------------"
   ]
  },
  {
   "cell_type": "markdown",
   "metadata": {},
   "source": [
    "### 1931 회의실 배정"
   ]
  },
  {
   "cell_type": "code",
   "execution_count": 1,
   "metadata": {
    "collapsed": true
   },
   "outputs": [
    {
     "name": "stdout",
     "output_type": "stream",
     "text": [
      "11\n",
      "1 4\n",
      "3 5\n",
      "0 6\n",
      "5 7\n",
      "3 8\n",
      "5 9\n",
      "6 10\n",
      "8 11\n",
      "8 12\n",
      "2 13\n",
      "12 14\n",
      "4\n"
     ]
    }
   ],
   "source": [
    "N = int(input())\n",
    "N_list = list()\n",
    "\n",
    "N_list2 = sorted(N_list,key=lambda x:(x[1],x[0]))\n",
    "\n",
    "cnt = 1\n",
    "end_time = N_list2[0][1]\n",
    "\n",
    "for i in range(1,len(N_list2)) :\n",
    "    if end_time <= N_list2[i][0] :\n",
    "        end_time = N_list2[i][1]\n",
    "        cnt+=1\n",
    "print(cnt)"
   ]
  },
  {
   "cell_type": "markdown",
   "metadata": {},
   "source": [
    "-------------------"
   ]
  },
  {
   "cell_type": "markdown",
   "metadata": {},
   "source": [
    "### 11399 ATM"
   ]
  },
  {
   "cell_type": "code",
   "execution_count": 11,
   "metadata": {},
   "outputs": [
    {
     "name": "stdout",
     "output_type": "stream",
     "text": [
      "5\n",
      "3 1 4 3 2\n"
     ]
    }
   ],
   "source": [
    "N = int(input())\n",
    "pList = list(map(int,input().split()))\n",
    "pList2 = sorted(pList)\n",
    "time = 0\n",
    "for i in range(N) :\n",
    "    time+=pList2[i]*(N-i)\n",
    "print(time"
   ]
  },
  {
   "cell_type": "markdown",
   "metadata": {},
   "source": [
    "-------------------"
   ]
  },
  {
   "cell_type": "markdown",
   "metadata": {},
   "source": [
    "### 1541 잃어버린 괄호"
   ]
  },
  {
   "cell_type": "code",
   "execution_count": 11,
   "metadata": {},
   "outputs": [
    {
     "name": "stdout",
     "output_type": "stream",
     "text": [
      "00009-00009\n",
      "0\n"
     ]
    }
   ],
   "source": [
    "N = input()\n",
    "list1 = N.split('-')\n",
    "Sum = 0\n",
    "\n",
    "for i in range(len(list1)) :\n",
    "    tmpList = list1[i].split('+')\n",
    "    if i==0 :\n",
    "        Sum=sum(list(map(int,tmpList)))\n",
    "    else :\n",
    "        Sum-=sum(list(map(int,tmpList)))\n",
    "print(Sum)"
   ]
  },
  {
   "cell_type": "markdown",
   "metadata": {},
   "source": [
    "-------------------"
   ]
  },
  {
   "cell_type": "markdown",
   "metadata": {},
   "source": [
    "### 13305 주유소"
   ]
  },
  {
   "cell_type": "code",
   "execution_count": 2,
   "metadata": {},
   "outputs": [
    {
     "name": "stdout",
     "output_type": "stream",
     "text": [
      "4\n",
      "3 3 4\n",
      "1 1 1 1\n",
      "10\n"
     ]
    }
   ],
   "source": [
    "N = int(input())\n",
    "listDist = list(map(int,input().split()))\n",
    "listPrice = list(map(int,input().split()))\n",
    "min_price = listPrice[0]\n",
    "sumPrice = 0\n",
    "\n",
    "for i in range(N-1) :\n",
    "    if min_price > listPrice[i] :\n",
    "        min_price = listPrice[i]\n",
    "    sumPrice+= min_price*listDist[i]\n",
    "print(sumPrice)"
   ]
  },
  {
   "cell_type": "markdown",
   "metadata": {},
   "source": [
    "--------------"
   ]
  },
  {
   "cell_type": "markdown",
   "metadata": {},
   "source": [
    "----------------------"
   ]
  },
  {
   "cell_type": "code",
   "execution_count": null,
   "metadata": {},
   "outputs": [],
   "source": []
  },
  {
   "cell_type": "markdown",
   "metadata": {},
   "source": [
    "# 분할 정복"
   ]
  },
  {
   "cell_type": "markdown",
   "metadata": {},
   "source": [
    "------------"
   ]
  },
  {
   "cell_type": "markdown",
   "metadata": {},
   "source": [
    "### 2630 색종이 만들기"
   ]
  },
  {
   "cell_type": "code",
   "execution_count": 3,
   "metadata": {},
   "outputs": [
    {
     "name": "stdout",
     "output_type": "stream",
     "text": [
      "8\n",
      "1 1 0 0 0 0 1 1\n",
      "1 1 0 0 0 0 1 1\n",
      "0 0 0 0 1 1 0 0\n",
      "0 0 0 0 1 1 0 0\n",
      "1 0 0 0 1 1 1 1\n",
      "0 1 0 0 1 1 1 1\n",
      "0 0 1 1 1 1 1 1\n",
      "0 0 1 1 1 1 1 1\n"
     ]
    }
   ],
   "source": [
    "def merge_sort(i_start,j_start,n) :\n",
    "    tmp_list = [row[j_start:j_start+n] for row in paperList[i_start:i_start+n]]\n",
    "    sum_list = sum(tmp_list,[])\n",
    "    if 0 not in sum_list :\n",
    "        global blue\n",
    "        blue+=1\n",
    "        return\n",
    "    elif 1 not in sum_list :\n",
    "        global white\n",
    "        white+=1\n",
    "        return\n",
    "    merge_sort(i_start,j_start,n//2)\n",
    "    merge_sort(i_start+n//2,j_start,n//2)\n",
    "    merge_sort(i_start,j_start+n//2,n//2)\n",
    "    merge_sort(i_start+n//2,j_start+n//2,n//2)\n",
    "\n",
    "N = int(input())\n",
    "paperList = [list(map(int,input().split())) for _ in range(N)]\n",
    "white = 0\n",
    "blue = 0\n",
    " \n",
    "merge_sort(0,0,N)\n",
    "\n",
    "print(white)\n",
    "print(blue)"
   ]
  },
  {
   "cell_type": "code",
   "execution_count": 16,
   "metadata": {},
   "outputs": [],
   "source": []
  },
  {
   "cell_type": "code",
   "execution_count": null,
   "metadata": {},
   "outputs": [],
   "source": []
  },
  {
   "cell_type": "code",
   "execution_count": null,
   "metadata": {},
   "outputs": [],
   "source": []
  },
  {
   "cell_type": "code",
   "execution_count": null,
   "metadata": {},
   "outputs": [],
   "source": []
  },
  {
   "cell_type": "code",
   "execution_count": null,
   "metadata": {},
   "outputs": [],
   "source": []
  },
  {
   "cell_type": "code",
   "execution_count": null,
   "metadata": {},
   "outputs": [],
   "source": []
  },
  {
   "cell_type": "code",
   "execution_count": null,
   "metadata": {},
   "outputs": [],
   "source": []
  },
  {
   "cell_type": "code",
   "execution_count": null,
   "metadata": {},
   "outputs": [],
   "source": []
  }
 ],
 "metadata": {
  "kernelspec": {
   "display_name": "Python 3",
   "language": "python",
   "name": "python3"
  },
  "language_info": {
   "codemirror_mode": {
    "name": "ipython",
    "version": 3
   },
   "file_extension": ".py",
   "mimetype": "text/x-python",
   "name": "python",
   "nbconvert_exporter": "python",
   "pygments_lexer": "ipython3",
   "version": "3.7.6"
  }
 },
 "nbformat": 4,
 "nbformat_minor": 4
}
