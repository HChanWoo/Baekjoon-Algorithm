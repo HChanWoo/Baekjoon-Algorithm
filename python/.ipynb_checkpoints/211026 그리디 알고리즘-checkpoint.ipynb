{
 "cells": [
  {
   "cell_type": "markdown",
   "metadata": {},
   "source": [
    "# 그리디 알고리즘 11399"
   ]
  },
  {
   "cell_type": "code",
   "execution_count": null,
   "metadata": {},
   "outputs": [],
   "source": [
    "cnt = int(input())\n",
    "time_list = list(map(int,input().split()))\n",
    "time_list = sorted(list(map(lambda x:[x,0],time_list)))\n",
    "\n",
    "for i in range(1,cnt) :\n",
    "    time_list[i][1] = time_list[i-1][0] + time_list[i-1][1]\n",
    "\n",
    "print(sum(list(map(lambda x:x[0]+x[1], time_list))))"
   ]
  },
  {
   "cell_type": "markdown",
   "metadata": {},
   "source": [
    "# 그리디 알고리즘 1541"
   ]
  },
  {
   "cell_type": "code",
   "execution_count": 2,
   "metadata": {},
   "outputs": [
    {
     "name": "stdout",
     "output_type": "stream",
     "text": [
      "1-1+3+5-66\n",
      "-74\n"
     ]
    }
   ],
   "source": [
    "user_input = input().split('-')\n",
    "sum_input = eval(user_input[0])\n",
    "\n",
    "for i in range(1,len(user_input)) :\n",
    "    sum_input-=eval(user_input[i])\n",
    "\n",
    "print(sum_input)"
   ]
  },
  {
   "cell_type": "code",
   "execution_count": 5,
   "metadata": {},
   "outputs": [
    {
     "name": "stdout",
     "output_type": "stream",
     "text": [
      "55-50+40\n",
      "-35\n"
     ]
    }
   ],
   "source": [
    "user_input = input().split('-')\n",
    "sum_input = 0\n",
    "\n",
    "for i in range(len(user_input)) :\n",
    "    tmp = sum(list(map(int,user_input[i].split('+'))))\n",
    "    if i == 0 :\n",
    "        sum_input+=tmp\n",
    "    else :\n",
    "        sum_input-=tmp\n",
    "        \n",
    "print(sum_input)"
   ]
  },
  {
   "cell_type": "markdown",
   "metadata": {},
   "source": [
    "# 그리디 알고리즘 13305"
   ]
  },
  {
   "cell_type": "code",
   "execution_count": 9,
   "metadata": {},
   "outputs": [
    {
     "name": "stdout",
     "output_type": "stream",
     "text": [
      "4\n",
      "2 3 1\n",
      "5 2 4 1\n",
      "18\n"
     ]
    }
   ],
   "source": [
    "cnt_city = int(input())\n",
    "distance_city = list(map(int,input().split()))\n",
    "price_city = list(map(int,input().split()))\n",
    "min_oil=price_city[0]\n",
    "sum_price=price_city[0]*distance_city[0]\n",
    "\n",
    "for i in range(1,len(distance_city)) :\n",
    "    if min_oil > price_city[i] :\n",
    "        min_oil = price_city[i]\n",
    "    sum_price+=(min_oil*distance_city[i])\n",
    "    \n",
    "print(sum_price)"
   ]
  },
  {
   "cell_type": "markdown",
   "metadata": {},
   "source": [
    "# 정수론 및 집합론 5086"
   ]
  },
  {
   "cell_type": "code",
   "execution_count": 11,
   "metadata": {},
   "outputs": [
    {
     "name": "stdout",
     "output_type": "stream",
     "text": [
      "8 16\n",
      "factor\n",
      "32 4\n",
      "multiple\n",
      "17 5\n",
      "neither\n",
      "0 0\n"
     ]
    }
   ],
   "source": [
    "while True :\n",
    "    num1,num2 = map(int,input().split())\n",
    "    if num1==0 and num2==0 :\n",
    "        break\n",
    "    if num2%num1==0 :\n",
    "        print('factor')\n",
    "    elif num1%num2==0 :\n",
    "        print('multiple')\n",
    "    else :\n",
    "        print('neither')"
   ]
  },
  {
   "cell_type": "markdown",
   "metadata": {},
   "source": [
    "# 정수론 및 집합론 1037"
   ]
  },
  {
   "cell_type": "code",
   "execution_count": 14,
   "metadata": {},
   "outputs": [
    {
     "name": "stdout",
     "output_type": "stream",
     "text": [
      "14\n",
      "14 26456 2 28 13228 3307 7 23149 8 6614 46298 56 4 92596\n",
      "185192\n"
     ]
    }
   ],
   "source": [
    "div_cnt = int(input())\n",
    "div_list = sorted(list(map(int,input().split())))\n",
    "\n",
    "print(div_list[0]*div_list[div_cnt-1])"
   ]
  },
  {
   "cell_type": "code",
   "execution_count": 15,
   "metadata": {},
   "outputs": [
    {
     "name": "stdout",
     "output_type": "stream",
     "text": [
      "14\n",
      "14 26456 2 28 13228 3307 7 23149 8 6614 46298 56 4 92596\n",
      "185192\n"
     ]
    }
   ],
   "source": [
    "div_cnt = int(input())\n",
    "div_list = list(map(int,input().split()))\n",
    "\n",
    "print(max(div_list)*min(div_list))"
   ]
  },
  {
   "cell_type": "markdown",
   "metadata": {},
   "source": [
    "# 정수론 및 집합론 2609"
   ]
  },
  {
   "cell_type": "code",
   "execution_count": 26,
   "metadata": {},
   "outputs": [
    {
     "name": "stdout",
     "output_type": "stream",
     "text": [
      "24 18\n",
      "6\n",
      "72\n"
     ]
    }
   ],
   "source": [
    "num1,num2 = map(int,input().split())\n",
    "\n",
    "div_num1 = [x for x in range(1,num1+1) if num1%x==0]\n",
    "div_num2 = [x for x in range(1,num2+1) if num2%x==0]\n",
    "\n",
    "div_max=max(set(div_num1)&set(div_num2))\n",
    "div_min=div_max*(num1//div_max)*(num2//div_max)\n",
    "print('%d\\n%d'%(div_max,div_min))"
   ]
  },
  {
   "cell_type": "markdown",
   "metadata": {},
   "source": [
    "# 정수론 및 집합론 1934"
   ]
  },
  {
   "cell_type": "code",
   "execution_count": 34,
   "metadata": {},
   "outputs": [
    {
     "name": "stdout",
     "output_type": "stream",
     "text": [
      "3\n",
      "45000 1\n",
      "45000\n",
      "10 6\n",
      "30\n",
      "1 10\n",
      "10\n"
     ]
    }
   ],
   "source": [
    "import sys\n",
    "\n",
    "cnt = int(input())\n",
    "\n",
    "for i in range(cnt) :\n",
    "    num1,num2 = map(int,input().split())\n",
    "    tmp1,tmp2 = num1,num2\n",
    "    \n",
    "    # 유클리드 호제법\n",
    "    while tmp2 :\n",
    "        tmp1,tmp2 = tmp2,tmp1%tmp2\n",
    "    \n",
    "    print(num1*num2//tmp1)"
   ]
  },
  {
   "cell_type": "markdown",
   "metadata": {},
   "source": [
    "# 정수론 및 집합론 2981"
   ]
  },
  {
   "cell_type": "code",
   "execution_count": 38,
   "metadata": {},
   "outputs": [
    {
     "name": "stdout",
     "output_type": "stream",
     "text": [
      "3\n",
      "6\n",
      "38\n",
      "34\n",
      "2 4 "
     ]
    }
   ],
   "source": [
    "num_cnt = int(input())\n",
    "num_list = []\n",
    "answer_list = []\n",
    "\n",
    "for i in range(num_cnt) :\n",
    "    num_list.append(int(input()))    \n",
    "\n",
    "for i in range(2,max(num_list)+1) :\n",
    "    check=1\n",
    "    div = num_list[0]%i\n",
    "    for j in range(1,len(num_list)) :\n",
    "        if num_list[j]%i != div :\n",
    "            check=0\n",
    "            break\n",
    "    if check==1 :\n",
    "        answer_list.append(i)\n",
    "\n",
    "for i in range(len(answer_list)) :\n",
    "    print(answer_list[i],end=' ')"
   ]
  },
  {
   "cell_type": "markdown",
   "metadata": {},
   "source": [
    "# 정수론 및 집합론 2981"
   ]
  },
  {
   "cell_type": "code",
   "execution_count": 41,
   "metadata": {},
   "outputs": [
    {
     "name": "stdout",
     "output_type": "stream",
     "text": [
      "3\n",
      "8 4 2\n",
      "2/1\n",
      "4/1\n"
     ]
    }
   ],
   "source": [
    "from math import gcd\n",
    "\n",
    "cnt_num = int(input())\n",
    "num_list = list(map(int,input().split()))\n",
    "\n",
    "for i in range(1,len(num_list)) :\n",
    "    gcd_num = gcd(num_list[0],num_list[i])\n",
    "    print('%d/%d'%(num_list[0]//gcd_num,num_list[i]//gcd_num))"
   ]
  },
  {
   "cell_type": "code",
   "execution_count": 42,
   "metadata": {},
   "outputs": [
    {
     "name": "stdout",
     "output_type": "stream",
     "text": [
      "3\n",
      "8 4 2\n",
      "2/1\n",
      "4/1\n"
     ]
    }
   ],
   "source": [
    "def gcd(a, b): # 최대공약수 직접 구하기\n",
    "    while(b != 0):\n",
    "        n = a%b\n",
    "        a = b\n",
    "        b = n\n",
    "    return a\n",
    "\n",
    "n = int(input())\n",
    "li = list(map(int, input().split()))\n",
    "for i in range(1, n):\n",
    "    g = gcd(li[0], li[i])\n",
    "    print('{0}/{1}'.format(li[0]//g, li[i]//g))"
   ]
  },
  {
   "cell_type": "code",
   "execution_count": null,
   "metadata": {},
   "outputs": [],
   "source": []
  },
  {
   "cell_type": "code",
   "execution_count": null,
   "metadata": {},
   "outputs": [],
   "source": []
  },
  {
   "cell_type": "code",
   "execution_count": null,
   "metadata": {},
   "outputs": [],
   "source": []
  },
  {
   "cell_type": "code",
   "execution_count": null,
   "metadata": {},
   "outputs": [],
   "source": []
  },
  {
   "cell_type": "code",
   "execution_count": null,
   "metadata": {},
   "outputs": [],
   "source": []
  },
  {
   "cell_type": "code",
   "execution_count": null,
   "metadata": {},
   "outputs": [],
   "source": []
  },
  {
   "cell_type": "code",
   "execution_count": null,
   "metadata": {},
   "outputs": [],
   "source": []
  },
  {
   "cell_type": "code",
   "execution_count": null,
   "metadata": {},
   "outputs": [],
   "source": []
  },
  {
   "cell_type": "code",
   "execution_count": null,
   "metadata": {},
   "outputs": [],
   "source": []
  }
 ],
 "metadata": {
  "kernelspec": {
   "display_name": "Python 3",
   "language": "python",
   "name": "python3"
  },
  "language_info": {
   "codemirror_mode": {
    "name": "ipython",
    "version": 3
   },
   "file_extension": ".py",
   "mimetype": "text/x-python",
   "name": "python",
   "nbconvert_exporter": "python",
   "pygments_lexer": "ipython3",
   "version": "3.8.5"
  }
 },
 "nbformat": 4,
 "nbformat_minor": 4
}
