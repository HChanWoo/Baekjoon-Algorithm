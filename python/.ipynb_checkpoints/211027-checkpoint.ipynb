{
 "cells": [
  {
   "cell_type": "markdown",
   "metadata": {},
   "source": [
    "# 정수론 및 조합론 1676"
   ]
  },
  {
   "cell_type": "code",
   "execution_count": null,
   "metadata": {},
   "outputs": [],
   "source": [
    "num = int(input())\n",
    "print(num//5+num//25+num//125)"
   ]
  },
  {
   "cell_type": "markdown",
   "metadata": {},
   "source": [
    "# 정수론 및 조합론 2004"
   ]
  },
  {
   "cell_type": "code",
   "execution_count": null,
   "metadata": {},
   "outputs": [],
   "source": [
    "# n,m = map(int,input().split())\n",
    "\n",
    "# fact_list = [1 for _ in range(n)]\n",
    "# for i in range(1,n) :\n",
    "#     fact_list[i] = (i+1)*fact_list[i-1]\n",
    "\n",
    "# list_div = [5]\n",
    "# idx=0\n",
    "# while True :\n",
    "#     if list_div[idx]*5 > 2000000000 :\n",
    "#         break\n",
    "#     list_div.append(list_div[idx]*5)\n",
    "#     idx+=1\n",
    "    \n",
    "# bino = fact_list[n-1]//(fact_list[m-n-1]*fact_list[m-1])\n",
    "\n",
    "# cnt=0\n",
    "# for i in list_div :\n",
    "#     print(i)\n",
    "#     cnt+=(bino//i)\n",
    "\n",
    "# print(cnt)"
   ]
  },
  {
   "cell_type": "markdown",
   "metadata": {},
   "source": [
    "# 스택 10828"
   ]
  },
  {
   "cell_type": "code",
   "execution_count": null,
   "metadata": {},
   "outputs": [],
   "source": [
    "stack_list = []\n",
    "tmp_cnt = int(input())\n",
    "\n",
    "for _ in range(tmp_cnt) :\n",
    "    cmd = input().split()\n",
    "    \n",
    "    if cmd[0] == 'push' :\n",
    "        stack_list.append(int(cmd[1]))\n",
    "        \n",
    "    elif cmd[0] == 'pop' :\n",
    "        if len(stack_list) == 0 :\n",
    "            print(-1)\n",
    "        else :\n",
    "            print(stack_list.pop())\n",
    "        \n",
    "    elif cmd[0] == 'size' :\n",
    "        print(len(stack_list))\n",
    "        \n",
    "    elif cmd[0] == 'empty' :\n",
    "        if len(stack_list) == 0 :\n",
    "            print(1)\n",
    "        else :\n",
    "            print(0)\n",
    "        \n",
    "    else :\n",
    "        if len(stack_list) == 0 :\n",
    "            print(-1)\n",
    "        else :\n",
    "            print(stack_list[len(stack_list)-1])\n",
    "    "
   ]
  },
  {
   "cell_type": "markdown",
   "metadata": {},
   "source": [
    "# 스택 10773"
   ]
  },
  {
   "cell_type": "code",
   "execution_count": null,
   "metadata": {},
   "outputs": [],
   "source": [
    "tmp_cnt = int(input())\n",
    "stack_list = []\n",
    "\n",
    "for i in range(tmp_cnt) :\n",
    "    input_ = int(input())\n",
    "    \n",
    "    if input_ == 0 :\n",
    "        stack_list.pop()\n",
    "    else :\n",
    "        stack_list.append(input_)\n",
    "        \n",
    "print(sum(stack_list))"
   ]
  },
  {
   "cell_type": "markdown",
   "metadata": {},
   "source": [
    "# 스택 9012"
   ]
  },
  {
   "cell_type": "code",
   "execution_count": 2,
   "metadata": {},
   "outputs": [
    {
     "name": "stdout",
     "output_type": "stream",
     "text": [
      "3\n",
      "((\n",
      "NO\n",
      "))\n",
      "NO\n",
      "())(()\n",
      "NO\n"
     ]
    }
   ],
   "source": [
    "tmp_cnt = int(input())\n",
    "\n",
    "for _ in range(tmp_cnt) :\n",
    "    stack_list = []\n",
    "    input_ = input()\n",
    "    correct = 1\n",
    "    \n",
    "    for i in input_ :\n",
    "        if i == ')' :\n",
    "            if len(stack_list) == 0 or stack_list.pop() != '(' :\n",
    "                correct=0\n",
    "                break\n",
    "        else :\n",
    "            stack_list.append('(')\n",
    "            \n",
    "    if correct == 1 and len(stack_list) == 0 :\n",
    "        print('YES')\n",
    "    else :\n",
    "        print('NO')"
   ]
  },
  {
   "cell_type": "markdown",
   "metadata": {},
   "source": [
    "# 스택 4949"
   ]
  },
  {
   "cell_type": "code",
   "execution_count": null,
   "metadata": {},
   "outputs": [],
   "source": [
    "def check(str1) :\n",
    "    global list_balance\n",
    "    \n",
    "    if str1 == ']' :\n",
    "        if len(list_balance) == 0 or list_balance.pop() != '[' :\n",
    "            return 0\n",
    "        \n",
    "    elif str1 == ')' :   \n",
    "        if len(list_balance) == 0 or list_balance.pop() != '(' :\n",
    "            return 0\n",
    "            \n",
    "    else :\n",
    "        list_balance.append(str1)\n",
    "        \n",
    "    return 1\n",
    "\n",
    "while True :\n",
    "    list_input = input()\n",
    "    \n",
    "    if list_input == '.' :\n",
    "        break\n",
    "    \n",
    "    list_input = list_input().split()\n",
    "    \n",
    "    list_balance = []\n",
    "    \n",
    "    for i in list_input :\n",
    "        if i == '[' :\n",
    "        \n",
    "        elif i == ']'\n",
    "        for j in i :\n",
    "            if i == '[' :\n",
    "        \n",
    "            elif i == ']'"
   ]
  },
  {
   "cell_type": "code",
   "execution_count": null,
   "metadata": {},
   "outputs": [],
   "source": []
  },
  {
   "cell_type": "code",
   "execution_count": null,
   "metadata": {},
   "outputs": [],
   "source": []
  },
  {
   "cell_type": "code",
   "execution_count": null,
   "metadata": {},
   "outputs": [],
   "source": []
  },
  {
   "cell_type": "code",
   "execution_count": null,
   "metadata": {},
   "outputs": [],
   "source": []
  },
  {
   "cell_type": "code",
   "execution_count": null,
   "metadata": {},
   "outputs": [],
   "source": []
  },
  {
   "cell_type": "code",
   "execution_count": null,
   "metadata": {},
   "outputs": [],
   "source": []
  },
  {
   "cell_type": "code",
   "execution_count": null,
   "metadata": {},
   "outputs": [],
   "source": []
  },
  {
   "cell_type": "code",
   "execution_count": null,
   "metadata": {},
   "outputs": [],
   "source": []
  },
  {
   "cell_type": "code",
   "execution_count": null,
   "metadata": {},
   "outputs": [],
   "source": []
  },
  {
   "cell_type": "code",
   "execution_count": null,
   "metadata": {},
   "outputs": [],
   "source": []
  }
 ],
 "metadata": {
  "kernelspec": {
   "display_name": "Python 3",
   "language": "python",
   "name": "python3"
  },
  "language_info": {
   "codemirror_mode": {
    "name": "ipython",
    "version": 3
   },
   "file_extension": ".py",
   "mimetype": "text/x-python",
   "name": "python",
   "nbconvert_exporter": "python",
   "pygments_lexer": "ipython3",
   "version": "3.8.5"
  }
 },
 "nbformat": 4,
 "nbformat_minor": 4
}
