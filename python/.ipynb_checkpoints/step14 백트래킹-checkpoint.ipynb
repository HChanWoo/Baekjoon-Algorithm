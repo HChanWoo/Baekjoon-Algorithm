{
 "cells": [
  {
   "cell_type": "markdown",
   "metadata": {},
   "source": [
    "# step14 백트래킹"
   ]
  },
  {
   "cell_type": "markdown",
   "metadata": {},
   "source": []
  },
  {
   "cell_type": "markdown",
   "metadata": {},
   "source": [
    "#### 15649 : N과 M (1) "
   ]
  },
  {
   "cell_type": "code",
   "execution_count": null,
   "metadata": {},
   "outputs": [],
   "source": [
    "import sys\n",
    "\n",
    "m,n = map(int,sys.stdin.readline().split())\n",
    "tmp_list=[]\n",
    "\n",
    "def f() :\n",
    "    if len(tmp_list)==n :\n",
    "        print(' '.join(map(str,tmp_list)))\n",
    "        return\n",
    "    for i in range(1,m+1) :\n",
    "        if i in tmp_list :\n",
    "            continue\n",
    "        tmp_list.append(i)\n",
    "        f()\n",
    "        tmp_list.pop()\n",
    "\n",
    "f()"
   ]
  },
  {
   "cell_type": "markdown",
   "metadata": {},
   "source": [
    "#### 15650 : N과 M (2)"
   ]
  },
  {
   "cell_type": "code",
   "execution_count": null,
   "metadata": {},
   "outputs": [],
   "source": [
    "n,m = list(map(int,input().split()))\n",
    "s = []\n",
    "def dfs(start):\n",
    "    if len(s)==m:\n",
    "        print(' '.join(map(str,s)))\n",
    "        return\n",
    "    \n",
    "    for i in range(start,n+1):\n",
    "        if i not in s:\n",
    "            s.append(i)\n",
    "            dfs(i+1)\n",
    "            s.pop()\n",
    "dfs(1)"
   ]
  },
  {
   "cell_type": "markdown",
   "metadata": {},
   "source": [
    "#### 15651 : N과 M (3)"
   ]
  },
  {
   "cell_type": "code",
   "execution_count": null,
   "metadata": {},
   "outputs": [],
   "source": [
    "import sys\n",
    "\n",
    "m,n = map(int,sys.stdin.readline().split())\n",
    "tmp_list = []\n",
    "\n",
    "def f() :\n",
    "    if len(tmp_list) == n :\n",
    "        print(' '.join(map(str,tmp_list)))\n",
    "        return\n",
    "    for i in range(1,m+1) :\n",
    "        tmp_list.append(i)\n",
    "        f()\n",
    "        tmp_list.pop()\n",
    "\n",
    "f()"
   ]
  },
  {
   "cell_type": "markdown",
   "metadata": {},
   "source": [
    "#### 15652 : N과 M (4)"
   ]
  },
  {
   "cell_type": "code",
   "execution_count": null,
   "metadata": {},
   "outputs": [],
   "source": [
    "import sys\n",
    "\n",
    "m,n = map(int,sys.stdin.readline().split())\n",
    "tmp_list = []\n",
    "\n",
    "def f(start) :\n",
    "    if len(tmp_list) == n :\n",
    "        print(' '.join(map(str,tmp_list)))\n",
    "        return\n",
    "    for i in range(start,m+1) :\n",
    "        tmp_list.append(i)\n",
    "        f(i)\n",
    "        tmp_list.pop()\n",
    "        \n",
    "f(1)"
   ]
  },
  {
   "cell_type": "code",
   "execution_count": null,
   "metadata": {},
   "outputs": [],
   "source": []
  },
  {
   "cell_type": "code",
   "execution_count": null,
   "metadata": {},
   "outputs": [],
   "source": []
  },
  {
   "cell_type": "code",
   "execution_count": null,
   "metadata": {},
   "outputs": [],
   "source": []
  },
  {
   "cell_type": "code",
   "execution_count": null,
   "metadata": {},
   "outputs": [],
   "source": []
  },
  {
   "cell_type": "code",
   "execution_count": null,
   "metadata": {},
   "outputs": [],
   "source": []
  }
 ],
 "metadata": {
  "kernelspec": {
   "display_name": "Python 3",
   "language": "python",
   "name": "python3"
  },
  "language_info": {
   "codemirror_mode": {
    "name": "ipython",
    "version": 3
   },
   "file_extension": ".py",
   "mimetype": "text/x-python",
   "name": "python",
   "nbconvert_exporter": "python",
   "pygments_lexer": "ipython3",
   "version": "3.8.5"
  }
 },
 "nbformat": 4,
 "nbformat_minor": 4
}
