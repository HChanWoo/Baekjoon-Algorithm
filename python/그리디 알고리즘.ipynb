{
 "cells": [
  {
   "cell_type": "markdown",
   "metadata": {},
   "source": [
    "# 그리디 알고리즘 11047"
   ]
  },
  {
   "cell_type": "code",
   "execution_count": 30,
   "metadata": {},
   "outputs": [
    {
     "name": "stdout",
     "output_type": "stream",
     "text": [
      "10 4790\n",
      "1\n",
      "5\n",
      "10\n",
      "50\n",
      "100\n",
      "500\n",
      "1000\n",
      "5000\n",
      "10000\n",
      "50000\n",
      "12\n"
     ]
    }
   ],
   "source": [
    "coins, cost = input().split()\n",
    "coins = int(coins)\n",
    "cost = int(cost)\n",
    "\n",
    "cost_list = []\n",
    "for _ in range(coins) :\n",
    "    cost_list.append(int(input()))\n",
    "    \n",
    "cnt_coin = 0\n",
    "\n",
    "for price in cost_list[::-1] :\n",
    "    if cost == 0 :\n",
    "        break\n",
    "    cnt_coin+=(cost//price)\n",
    "    cost-=(price*(cost//price))\n",
    "\n",
    "print(cnt_coin)"
   ]
  },
  {
   "cell_type": "markdown",
   "metadata": {},
   "source": [
    "# 그리디 알고리즘 1931"
   ]
  },
  {
   "cell_type": "code",
   "execution_count": 23,
   "metadata": {},
   "outputs": [
    {
     "name": "stdout",
     "output_type": "stream",
     "text": [
      "11\n",
      "1 4\n",
      "3 5\n",
      "0 6\n",
      "5 7\n",
      "3 8\n",
      "5 9\n",
      "6 10\n",
      "8 11\n",
      "8 12\n",
      "2 13\n",
      "12 14\n",
      "[5, 7]\n",
      "[8, 11]\n",
      "[12, 14]\n"
     ]
    }
   ],
   "source": [
    "N = int(input())\n",
    "N_list = list()\n",
    "[N_list.append(list(map(int,input().split()))) for _ in range(N)]\n",
    "\n",
    "N_list2 = sorted(N_list,key=lambda x:(x[1],x[0]))\n",
    "\n",
    "cnt = 1\n",
    "end_time = N_list2[0][1]\n",
    "\n",
    "for i in range(1,len(N_list2)) :\n",
    "    if end_time <= N_list2[i][0] :\n",
    "        end_time = N_list2[i][1]\n",
    "        cnt+=1\n",
    "print(cnt)"
   ]
  },
  {
   "cell_type": "markdown",
   "metadata": {},
   "source": [
    "# 그리디 알고리즘 11399"
   ]
  },
  {
   "cell_type": "code",
   "execution_count": null,
   "metadata": {},
   "outputs": [],
   "source": [
    "N = int(input())\n",
    "time_list = list(map(int,input().split()))\n",
    "time=0\n",
    "\n",
    "for i in range(1,len(time_list)) :\n",
    "    time_list[i] = time_list[i-1]\n",
    "\n",
    "print(time+time_list[len(time_list-1)])"
   ]
  },
  {
   "cell_type": "markdown",
   "metadata": {},
   "source": [
    "# 그리디 알고리즘 11399"
   ]
  },
  {
   "cell_type": "code",
   "execution_count": null,
   "metadata": {},
   "outputs": [],
   "source": [
    "cnt = int(input())\n",
    "time_list = list(map(int,input().split()))\n",
    "time_list = sorted(list(map(lambda x:[x,0],time_list)))\n",
    "\n",
    "for i in range(1,cnt) :\n",
    "    time_list[i][1] = time_list[i-1][0] + time_list[i-1][1]\n",
    "\n",
    "print(sum(list(map(lambda x:x[0]+x[1], time_list))))"
   ]
  },
  {
   "cell_type": "markdown",
   "metadata": {},
   "source": [
    "# 그리디 알고리즘 1541"
   ]
  },
  {
   "cell_type": "code",
   "execution_count": null,
   "metadata": {},
   "outputs": [],
   "source": [
    "user_input = input().split('-')\n",
    "sum_input = eval(user_input[0])\n",
    "\n",
    "for i in range(1,len(user_input)) :\n",
    "    sum_input-=eval(user_input[i])\n",
    "\n",
    "print(sum_input)"
   ]
  },
  {
   "cell_type": "code",
   "execution_count": null,
   "metadata": {},
   "outputs": [],
   "source": [
    "user_input = input().split('-')\n",
    "sum_input = 0\n",
    "\n",
    "for i in range(len(user_input)) :\n",
    "    tmp = sum(list(map(int,user_input[i].split('+'))))\n",
    "    if i == 0 :\n",
    "        sum_input+=tmp\n",
    "    else :\n",
    "        sum_input-=tmp\n",
    "        \n",
    "print(sum_input)"
   ]
  },
  {
   "cell_type": "markdown",
   "metadata": {},
   "source": [
    "# 그리디 알고리즘 13305"
   ]
  },
  {
   "cell_type": "code",
   "execution_count": null,
   "metadata": {},
   "outputs": [],
   "source": [
    "cnt_city = int(input())\n",
    "distance_city = list(map(int,input().split()))\n",
    "price_city = list(map(int,input().split()))\n",
    "min_oil=price_city[0]\n",
    "sum_price=price_city[0]*distance_city[0]\n",
    "\n",
    "for i in range(1,len(distance_city)) :\n",
    "    if min_oil > price_city[i] :\n",
    "        min_oil = price_city[i]\n",
    "    sum_price+=(min_oil*distance_city[i])\n",
    "    \n",
    "print(sum_price)"
   ]
  },
  {
   "cell_type": "code",
   "execution_count": null,
   "metadata": {},
   "outputs": [],
   "source": []
  }
 ],
 "metadata": {
  "kernelspec": {
   "display_name": "Python 3",
   "language": "python",
   "name": "python3"
  },
  "language_info": {
   "codemirror_mode": {
    "name": "ipython",
    "version": 3
   },
   "file_extension": ".py",
   "mimetype": "text/x-python",
   "name": "python",
   "nbconvert_exporter": "python",
   "pygments_lexer": "ipython3",
   "version": "3.8.5"
  }
 },
 "nbformat": 4,
 "nbformat_minor": 4
}
