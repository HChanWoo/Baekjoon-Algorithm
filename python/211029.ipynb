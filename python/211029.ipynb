{
 "cells": [
  {
   "cell_type": "markdown",
   "metadata": {},
   "source": [
    "# 이분탐색 1920"
   ]
  },
  {
   "cell_type": "code",
   "execution_count": 11,
   "metadata": {},
   "outputs": [
    {
     "name": "stdout",
     "output_type": "stream",
     "text": [
      "5\n",
      "4 1 5 2 3\n",
      "5\n",
      "1 3 7 9 5\n",
      "1\n",
      "1\n",
      "0\n",
      "0\n",
      "1\n"
     ]
    }
   ],
   "source": [
    "len_search = int(input())\n",
    "list_search = sorted(list(map(int,input().split())))\n",
    "len_target = int(input())\n",
    "list_target = list(map(int,input().split()))\n",
    "\n",
    "for target in list_target :\n",
    "    left = 0\n",
    "    right = len_search-1\n",
    "    \n",
    "    while True :\n",
    "        \n",
    "        if left>right :\n",
    "            print(0)\n",
    "            break\n",
    "        \n",
    "        mid = (left+right)//2\n",
    "        if list_search[mid] == target :\n",
    "            print(1)\n",
    "            break\n",
    "        elif list_search[mid] > target :\n",
    "            right = mid-1\n",
    "        else :\n",
    "            left = mid+1"
   ]
  },
  {
   "cell_type": "code",
   "execution_count": 17,
   "metadata": {},
   "outputs": [
    {
     "name": "stdout",
     "output_type": "stream",
     "text": [
      "5\n",
      "4 1 2 3 5\n",
      "5\n",
      "1 3 7 9 5\n",
      "1\n",
      "1\n",
      "0\n",
      "0\n",
      "1\n"
     ]
    }
   ],
   "source": [
    "len_search = int(input())\n",
    "list_search = sorted(list(map(int,input().split())))\n",
    "len_target = int(input())\n",
    "list_target = list(map(int,input().split()))\n",
    "\n",
    "def binary_search(list_search,target,start,end) :\n",
    "    if start>end :\n",
    "        return 0\n",
    "        \n",
    "    mid = (start+end)//2\n",
    "    if list_search[mid] == target :\n",
    "        return 1\n",
    "    elif list_search[mid] > target :\n",
    "        return binary_search(list_search,target,start,mid-1)\n",
    "    else :\n",
    "        return binary_search(list_search,target,mid+1,end)\n",
    "\n",
    "for target in list_target :\n",
    "    return_v = binary_search(list_search,target,0,len_search-1)\n",
    "    if return_v == 0 :\n",
    "        print(0)\n",
    "    else :\n",
    "        print(1)\n"
   ]
  },
  {
   "cell_type": "markdown",
   "metadata": {},
   "source": [
    "# 이분탐색 10816"
   ]
  },
  {
   "cell_type": "code",
   "execution_count": 5,
   "metadata": {
    "scrolled": true
   },
   "outputs": [
    {
     "name": "stdout",
     "output_type": "stream",
     "text": [
      "10\n",
      "6 3 2 10 10 10 -10 -10 7 3\n",
      "8\n",
      "10 9 -5 2 3 4 5 -10\n",
      "3\n",
      "0\n",
      "0\n",
      "1\n",
      "2\n",
      "0\n",
      "0\n",
      "2\n"
     ]
    }
   ],
   "source": [
    "len_search = int(input())\n",
    "list_search = sorted(list(map(int,input().split())))\n",
    "len_target = int(input())\n",
    "list_target = list(map(int,input().split()))\n",
    "\n",
    "for target in list_target :\n",
    "    cnt=0\n",
    "    start = 0\n",
    "    end = len_search-1\n",
    "    \n",
    "    while True :\n",
    "        if start > end :\n",
    "            break\n",
    "            \n",
    "        mid = (start+end)//2\n",
    "        if list_search[mid] == target :\n",
    "            for i in range(mid,-1,-1) :\n",
    "                if list_search[i] != target :\n",
    "                    break\n",
    "                else :\n",
    "                    cnt+=1\n",
    "            for i in range(mid+1,len_search) :\n",
    "                if list_search[i] != target :\n",
    "                    break\n",
    "                else :\n",
    "                    cnt+=1\n",
    "            break\n",
    "        elif list_search[mid] > target :\n",
    "            end = mid-1\n",
    "        else :\n",
    "            start = mid+1\n",
    "            \n",
    "    print(cnt)"
   ]
  },
  {
   "cell_type": "markdown",
   "metadata": {},
   "source": [
    "# 이분탐색 1654"
   ]
  },
  {
   "cell_type": "code",
   "execution_count": 5,
   "metadata": {},
   "outputs": [
    {
     "name": "stdout",
     "output_type": "stream",
     "text": [
      "4 11\n",
      "802\n",
      "743\n",
      "457\n",
      "539\n",
      "200\n"
     ]
    }
   ],
   "source": [
    "len_line, num_line = map(int,input().split())\n",
    "list_line = []\n",
    "\n",
    "for i in range(len_line) :\n",
    "    list_line.append(int(input()))\n",
    "\n",
    "cnt=1\n",
    "start=0\n",
    "end=max(list_line)\n",
    "\n",
    "while start<=end :\n",
    "    mid = (start+end)//2\n",
    "    \n",
    "    if sum([i//cnt for i in list_line]) >= num_line :\n",
    "        \n",
    "    \n",
    "while True :\n",
    "    if sum([i//cnt for i in list_line]) < num_line :\n",
    "        break\n",
    "    cnt+=1\n",
    "print(cnt-1)    "
   ]
  },
  {
   "cell_type": "code",
   "execution_count": null,
   "metadata": {},
   "outputs": [],
   "source": []
  },
  {
   "cell_type": "code",
   "execution_count": 6,
   "metadata": {},
   "outputs": [
    {
     "data": {
      "text/plain": [
       "[2, 4]"
      ]
     },
     "execution_count": 6,
     "metadata": {},
     "output_type": "execute_result"
    }
   ],
   "source": [
    "[i for i in [1,2,3,4,5] if i%2==0]"
   ]
  },
  {
   "cell_type": "code",
   "execution_count": null,
   "metadata": {},
   "outputs": [],
   "source": []
  },
  {
   "cell_type": "code",
   "execution_count": null,
   "metadata": {},
   "outputs": [],
   "source": []
  },
  {
   "cell_type": "code",
   "execution_count": null,
   "metadata": {},
   "outputs": [],
   "source": []
  },
  {
   "cell_type": "code",
   "execution_count": null,
   "metadata": {},
   "outputs": [],
   "source": []
  },
  {
   "cell_type": "code",
   "execution_count": null,
   "metadata": {},
   "outputs": [],
   "source": []
  },
  {
   "cell_type": "code",
   "execution_count": null,
   "metadata": {},
   "outputs": [],
   "source": []
  },
  {
   "cell_type": "code",
   "execution_count": null,
   "metadata": {},
   "outputs": [],
   "source": []
  },
  {
   "cell_type": "code",
   "execution_count": null,
   "metadata": {},
   "outputs": [],
   "source": []
  }
 ],
 "metadata": {
  "kernelspec": {
   "display_name": "Python 3",
   "language": "python",
   "name": "python3"
  },
  "language_info": {
   "codemirror_mode": {
    "name": "ipython",
    "version": 3
   },
   "file_extension": ".py",
   "mimetype": "text/x-python",
   "name": "python",
   "nbconvert_exporter": "python",
   "pygments_lexer": "ipython3",
   "version": "3.8.5"
  }
 },
 "nbformat": 4,
 "nbformat_minor": 4
}
